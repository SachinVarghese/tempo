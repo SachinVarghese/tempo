{
 "cells": [
  {
   "cell_type": "markdown",
   "metadata": {},
   "source": [
    "# Multi-Armed Bandit with State"
   ]
  },
  {
   "cell_type": "code",
   "execution_count": 58,
   "metadata": {},
   "outputs": [
    {
     "name": "stderr",
     "output_type": "stream",
     "text": [
      "INFO:root:test\n"
     ]
    }
   ],
   "source": [
    "import logging\n",
    "logger = logging.getLogger()\n",
    "logger.setLevel(logging.INFO)\n",
    "logging.info(\"test\")"
   ]
  },
  {
   "cell_type": "code",
   "execution_count": 5,
   "metadata": {},
   "outputs": [
    {
     "name": "stdout",
     "output_type": "stream",
     "text": [
      "namespace/production created\n"
     ]
    }
   ],
   "source": [
    "!kubectl create ns production"
   ]
  },
  {
   "cell_type": "code",
   "execution_count": 197,
   "metadata": {},
   "outputs": [
    {
     "name": "stdout",
     "output_type": "stream",
     "text": [
      "serviceaccount/tempo-pipeline unchanged\n",
      "role.rbac.authorization.k8s.io/tempo-pipeline unchanged\n",
      "rolebinding.rbac.authorization.k8s.io/tempo-pipeline-rolebinding unchanged\n"
     ]
    }
   ],
   "source": [
    "!kubectl apply -f ../tempo/tests/testdata/tempo-pipeline-rbac.yaml -n production"
   ]
  },
  {
   "cell_type": "code",
   "execution_count": 3,
   "metadata": {},
   "outputs": [
    {
     "name": "stdout",
     "output_type": "stream",
     "text": [
      "Downloading default-of-credit-card-clients-dataset.zip to /home/alejandro/Programming/kubernetes/seldon/tempo/docs/examples/mab-thompson-sampling-tempo\n",
      "100%|██████████████████████████████████████| 0.98M/0.98M [00:00<00:00, 2.46MB/s]\n",
      "100%|██████████████████████████████████████| 0.98M/0.98M [00:00<00:00, 2.46MB/s]\n",
      "Archive:  default-of-credit-card-clients-dataset.zip\n",
      "  inflating: UCI_Credit_Card.csv     \n"
     ]
    }
   ],
   "source": [
    "!kaggle datasets download -d uciml/default-of-credit-card-clients-dataset\n",
    "!unzip -o default-of-credit-card-clients-dataset.zip"
   ]
  },
  {
   "cell_type": "code",
   "execution_count": 4,
   "metadata": {},
   "outputs": [],
   "source": [
    "!mkdir -p artifacts/mab/\n",
    "!mkdir -p artifacts/mab/route/\n",
    "!mkdir -p artifacts/mab/feedback/"
   ]
  },
  {
   "cell_type": "code",
   "execution_count": 1,
   "metadata": {},
   "outputs": [],
   "source": [
    "import pandas as pd\n",
    "data = pd.read_csv('UCI_Credit_Card.csv')"
   ]
  },
  {
   "cell_type": "code",
   "execution_count": 2,
   "metadata": {},
   "outputs": [],
   "source": [
    "target = 'default.payment.next.month'"
   ]
  },
  {
   "cell_type": "code",
   "execution_count": 3,
   "metadata": {},
   "outputs": [],
   "source": [
    "import numpy as np\n",
    "from sklearn.model_selection import train_test_split\n",
    "\n",
    "OBSERVED_DATA = 15000\n",
    "TRAIN_1 = 10000\n",
    "TEST_1 = 5000\n",
    "\n",
    "REST_DATA = 15000\n",
    "\n",
    "RUN_DATA = 5000\n",
    "ROUTE_DATA = 10000\n",
    "\n",
    "# get features and target\n",
    "X = data.loc[:, data.columns!=target].values\n",
    "y = data[target].values\n",
    "\n",
    "# observed/unobserved split\n",
    "X_obs, X_rest, y_obs, y_rest = train_test_split(X, y, random_state=1, test_size=REST_DATA)\n",
    "\n",
    "# observed split into train1/test1\n",
    "X_train1, X_test1, y_train1, y_test1 = train_test_split(X_obs, y_obs, random_state=1, test_size=TEST_1)\n",
    "\n",
    "# unobserved split into run/route\n",
    "X_run, X_route, y_run, y_route = train_test_split(X_rest, y_rest, random_state=1, test_size=ROUTE_DATA)\n",
    "\n",
    "# observed+run split into train2/test2\n",
    "X_rest = np.vstack((X_run, X_route))\n",
    "y_rest = np.hstack((y_run, y_route))\n",
    "\n",
    "X_train2 = np.vstack((X_train1, X_test1))\n",
    "X_test2 = X_run\n",
    "\n",
    "y_train2 = np.hstack((y_train1, y_test1))\n",
    "y_test2 = y_run"
   ]
  },
  {
   "cell_type": "code",
   "execution_count": 8,
   "metadata": {},
   "outputs": [
    {
     "data": {
      "text/plain": [
       "RandomForestClassifier(random_state=1)"
      ]
     },
     "execution_count": 8,
     "metadata": {},
     "output_type": "execute_result"
    }
   ],
   "source": [
    "from sklearn.ensemble import RandomForestClassifier\n",
    "rf = RandomForestClassifier(random_state=1)\n",
    "rf.fit(X_train1, y_train1)"
   ]
  },
  {
   "cell_type": "code",
   "execution_count": 9,
   "metadata": {},
   "outputs": [
    {
     "name": "stderr",
     "output_type": "stream",
     "text": [
      "INFO:numexpr.utils:Note: NumExpr detected 16 cores but \"NUMEXPR_MAX_THREADS\" not set, so enforcing safe limit of 8.\n",
      "INFO:numexpr.utils:NumExpr defaulting to 8 threads.\n"
     ]
    },
    {
     "data": {
      "text/plain": [
       "XGBClassifier(base_score=0.5, booster='gbtree', colsample_bylevel=1,\n",
       "              colsample_bynode=1, colsample_bytree=1, gamma=0, gpu_id=-1,\n",
       "              importance_type='gain', interaction_constraints='',\n",
       "              learning_rate=0.300000012, max_delta_step=0, max_depth=6,\n",
       "              min_child_weight=1, missing=nan, monotone_constraints='()',\n",
       "              n_estimators=100, n_jobs=0, num_parallel_tree=1, random_state=1,\n",
       "              reg_alpha=0, reg_lambda=1, scale_pos_weight=1, subsample=1,\n",
       "              tree_method='exact', validate_parameters=1, verbosity=None)"
      ]
     },
     "execution_count": 9,
     "metadata": {},
     "output_type": "execute_result"
    }
   ],
   "source": [
    "from xgboost import XGBClassifier\n",
    "xgb = XGBClassifier(random_state=1)\n",
    "xgb.fit(X_train2, y_train2)"
   ]
  },
  {
   "cell_type": "code",
   "execution_count": 10,
   "metadata": {},
   "outputs": [],
   "source": [
    "!mkdir -p artifacts/mab/sklearn/\n",
    "!mkdir -p artifacts/mab/xgboost/"
   ]
  },
  {
   "cell_type": "code",
   "execution_count": 11,
   "metadata": {},
   "outputs": [
    {
     "data": {
      "text/plain": [
       "['artifacts/mab/sklearn/model.joblib']"
      ]
     },
     "execution_count": 11,
     "metadata": {},
     "output_type": "execute_result"
    }
   ],
   "source": [
    "import joblib\n",
    "joblib.dump(rf, 'artifacts/mab/sklearn/model.joblib')"
   ]
  },
  {
   "cell_type": "code",
   "execution_count": 12,
   "metadata": {},
   "outputs": [],
   "source": [
    "xgb.save_model('artifacts/mab/xgboost/model.bst')"
   ]
  },
  {
   "cell_type": "code",
   "execution_count": 4,
   "metadata": {},
   "outputs": [
    {
     "name": "stderr",
     "output_type": "stream",
     "text": [
      "Insights Manager not initialised as empty URL provided.\n",
      "Insights Manager not initialised as empty URL provided.\n"
     ]
    }
   ],
   "source": [
    "import os\n",
    "from tempo.serve.model import Model\n",
    "from tempo.serve.metadata import ModelFramework\n",
    "\n",
    "sklearn_tempo = Model(\n",
    "        name=\"test-iris-sklearn\",\n",
    "        platform=ModelFramework.SKLearn,\n",
    "        uri=\"gs://seldon-models/mab/sklearn\",\n",
    "        local_folder=os.getcwd()+\"/artifacts/mab/sklearn\")\n",
    "\n",
    "xgboost_tempo = Model(\n",
    "        name=\"test-iris-xgboost\",\n",
    "        platform=ModelFramework.XGBoost,\n",
    "        uri=\"gs://seldon-models/mab/xgboost\",\n",
    "        local_folder=os.getcwd()+\"/artifacts/mab/xgboost/\")"
   ]
  },
  {
   "cell_type": "code",
   "execution_count": 23,
   "metadata": {},
   "outputs": [],
   "source": [
    "from tempo import deploy\n",
    "remote_sklearn = deploy(sklearn_tempo)\n",
    "remote_xgboost = deploy(xgboost_tempo)"
   ]
  },
  {
   "cell_type": "code",
   "execution_count": 24,
   "metadata": {},
   "outputs": [
    {
     "data": {
      "text/plain": [
       "array([0.], dtype=float32)"
      ]
     },
     "execution_count": 24,
     "metadata": {},
     "output_type": "execute_result"
    }
   ],
   "source": [
    "remote_sklearn.predict(X_test2[0:1])"
   ]
  },
  {
   "cell_type": "code",
   "execution_count": 25,
   "metadata": {},
   "outputs": [
    {
     "data": {
      "text/plain": [
       "array([0.0865844], dtype=float32)"
      ]
     },
     "execution_count": 25,
     "metadata": {},
     "output_type": "execute_result"
    }
   ],
   "source": [
    "remote_xgboost.predict(X_test2[0:1])"
   ]
  },
  {
   "cell_type": "code",
   "execution_count": 39,
   "metadata": {},
   "outputs": [
    {
     "name": "stderr",
     "output_type": "stream",
     "text": [
      "INFO:tempo:Attempted to deploy message dumper but already deployed\n"
     ]
    }
   ],
   "source": [
    "from tempo.docker.utils import deploy_redis\n",
    "\n",
    "deploy_redis()"
   ]
  },
  {
   "cell_type": "code",
   "execution_count": 40,
   "metadata": {},
   "outputs": [
    {
     "name": "stderr",
     "output_type": "stream",
     "text": [
      "INFO:tempo:Initialising Insights Manager with Args: ('', 1, 1, 3, 0)\n",
      "WARNING:tempo:Insights Manager not initialised as empty URL provided.\n"
     ]
    }
   ],
   "source": [
    "import logging\n",
    "\n",
    "import numpy as np\n",
    "from tempo.serve.utils import pipeline, predictmethod\n",
    "from tempo.serve.metadata import InsightRequestModes, RuntimeOptions, StateTypes\n",
    "from tempo.serve.constants import DefaultRedisLocalHost, DefaultRedisPort\n",
    "from tempo.serve.pipeline import PipelineModels\n",
    "\n",
    "from tempo.magic import t\n",
    "\n",
    "local_options = RuntimeOptions(**{\n",
    "    \"state_options\": {\n",
    "        \"state_type\": StateTypes.REDIS,\n",
    "        \"host\": DefaultRedisLocalHost,\n",
    "        \"port\": DefaultRedisPort,\n",
    "    }\n",
    "})\n",
    "\n",
    "@pipeline(name=\"mab-router\",\n",
    "          runtime_options=local_options,\n",
    "          uri=\"s3://tempo/mab/route\",\n",
    "          local_folder=os.getcwd()+\"/artifacts/mab/router/\",\n",
    "          models=PipelineModels(sklearn=sklearn_tempo, xgboost=xgboost_tempo))\n",
    "class MABRouter(object):\n",
    "\n",
    "    def __init__(self):\n",
    "        self.n_branches = 2\n",
    "        self.beta_params = [1 for _ in range(self.n_branches * 2)]\n",
    "                            \n",
    "        logging.info(f\"Setting up MAB routing pipeline\")\n",
    "            \n",
    "        self._key = \"beta_params\"\n",
    "            \n",
    "    @predictmethod\n",
    "    def predict(self, payload: np.ndarray) -> np.ndarray:\n",
    "        \n",
    "        if not t.state.exists(self._key):\n",
    "            models_beta_params = [1 for _ in range(self.n_branches * 2)]\n",
    "            t.state.internal_state.lpush(self._key, *models_beta_params)\n",
    "        \n",
    "        models_beta_params = [float(i) for i in t.state.internal_state.lrange(self._key, 0, -1)]\n",
    "        branch_values = [np.random.beta(a, b) for a, b in zip(*[iter(models_beta_params)] * 2)]\n",
    "        selected_branch = np.argmax(branch_values)\n",
    "        logging.info(f\"routing to branch: {selected_branch}\")\n",
    "        \n",
    "        if selected_branch:\n",
    "            return self.models.xgboost(payload)\n",
    "        else:\n",
    "            return self.models.sklearn(payload)"
   ]
  },
  {
   "cell_type": "code",
   "execution_count": 41,
   "metadata": {},
   "outputs": [
    {
     "name": "stderr",
     "output_type": "stream",
     "text": [
      "INFO:root:Setting up MAB routing pipeline\n"
     ]
    }
   ],
   "source": [
    "mab_router = MABRouter()"
   ]
  },
  {
   "cell_type": "code",
   "execution_count": 59,
   "metadata": {},
   "outputs": [
    {
     "name": "stderr",
     "output_type": "stream",
     "text": [
      "INFO:root:routing to branch: 0\n",
      "INFO:root:routing to branch: 1\n",
      "INFO:root:routing to branch: 0\n",
      "INFO:root:routing to branch: 1\n"
     ]
    },
    {
     "name": "stdout",
     "output_type": "stream",
     "text": [
      "[0.0865844]\n",
      "[0.]\n",
      "[0.0865844]\n"
     ]
    },
    {
     "name": "stderr",
     "output_type": "stream",
     "text": [
      "INFO:root:routing to branch: 1\n",
      "INFO:root:routing to branch: 1\n"
     ]
    },
    {
     "name": "stdout",
     "output_type": "stream",
     "text": [
      "[0.]\n",
      "[0.]\n"
     ]
    },
    {
     "name": "stderr",
     "output_type": "stream",
     "text": [
      "INFO:root:routing to branch: 1\n",
      "INFO:root:routing to branch: 1\n",
      "INFO:root:routing to branch: 1\n"
     ]
    },
    {
     "name": "stdout",
     "output_type": "stream",
     "text": [
      "[0.]\n",
      "[0.]\n",
      "[0.]\n"
     ]
    },
    {
     "name": "stderr",
     "output_type": "stream",
     "text": [
      "INFO:root:routing to branch: 0\n"
     ]
    },
    {
     "name": "stdout",
     "output_type": "stream",
     "text": [
      "[0.]\n",
      "[0.0865844]\n"
     ]
    }
   ],
   "source": [
    "for i in range(10):\n",
    "    print(mab_router(X_test2[0:1]))"
   ]
  },
  {
   "cell_type": "code",
   "execution_count": 10,
   "metadata": {},
   "outputs": [],
   "source": [
    "from IPython.core.magic import register_line_cell_magic\n",
    "\n",
    "@register_line_cell_magic\n",
    "def writetemplate(line, cell):\n",
    "    with open(line, 'w') as f:\n",
    "        f.write(cell.format(**globals()))"
   ]
  },
  {
   "cell_type": "code",
   "execution_count": 11,
   "metadata": {},
   "outputs": [],
   "source": [
    "import os\n",
    "\n",
    "TEMPO_DIR = os.path.abspath(os.path.join(os.getcwd(), '..', '..', '..'))"
   ]
  },
  {
   "cell_type": "code",
   "execution_count": 12,
   "metadata": {},
   "outputs": [],
   "source": [
    "%%writetemplate artifacts/mab/router/conda.yaml\n",
    "name: tempo-insights\n",
    "channels:\n",
    "  - defaults\n",
    "dependencies:\n",
    "  - pip=21.0.1\n",
    "  - python=3.7.9\n",
    "  - pip:\n",
    "    - mlops-tempo @ file://{TEMPO_DIR}\n",
    "    - mlserver==0.3.1.dev7"
   ]
  },
  {
   "cell_type": "code",
   "execution_count": 13,
   "metadata": {},
   "outputs": [
    {
     "name": "stderr",
     "output_type": "stream",
     "text": [
      "Insights Manager not initialised as empty URL provided.\n",
      "Insights Manager not initialised as empty URL provided.\n"
     ]
    },
    {
     "name": "stdout",
     "output_type": "stream",
     "text": [
      "Collecting packages...\n",
      "Packing environment at '/home/alejandro/miniconda3/envs/tempo-4885c0a3-34a2-4686-ba64-f90e31b1593d' to '/home/alejandro/Programming/kubernetes/seldon/tempo/docs/examples/mab-thompson-sampling-tempo/artifacts/mab/router/environment.tar.gz'\n",
      "[########################################] | 100% Completed | 18.2s\n"
     ]
    }
   ],
   "source": [
    "from tempo.serve.loader import save\n",
    "save(mab_router, save_env=True)"
   ]
  },
  {
   "cell_type": "code",
   "execution_count": 47,
   "metadata": {},
   "outputs": [],
   "source": [
    "from tempo import deploy\n",
    "from tempo.serve.constants import DefaultRedisDockerHost, DefaultRedisPort\n",
    "from tempo.serve.metadata import RuntimeOptions\n",
    "\n",
    "docker_options = RuntimeOptions(**{\n",
    "    \"state_options\": {\n",
    "        \"state_type\": StateTypes.REDIS,\n",
    "        \"host\": DefaultRedisDockerHost,\n",
    "        \"port\": DefaultRedisPort,\n",
    "    }\n",
    "})\n",
    "\n",
    "remote_mab_router = deploy(mab_router, docker_options)"
   ]
  },
  {
   "cell_type": "code",
   "execution_count": 60,
   "metadata": {},
   "outputs": [
    {
     "name": "stdout",
     "output_type": "stream",
     "text": [
      "[0.0865844]\n",
      "[0.0865844]\n",
      "[0.]\n",
      "[0.0865844]\n",
      "[0.0865844]\n",
      "[0.0865844]\n",
      "[0.0865844]\n",
      "[0.0865844]\n",
      "[0.]\n",
      "[0.0865844]\n"
     ]
    }
   ],
   "source": [
    "for i in range(10):\n",
    "    print(remote_mab_router.predict(X_test2[0:1]))"
   ]
  },
  {
   "cell_type": "code",
   "execution_count": 43,
   "metadata": {},
   "outputs": [
    {
     "name": "stderr",
     "output_type": "stream",
     "text": [
      "INFO:tempo:Initialising Insights Manager with Args: ('', 1, 1, 3, 0)\n",
      "WARNING:tempo:Insights Manager not initialised as empty URL provided.\n"
     ]
    }
   ],
   "source": [
    "@pipeline(name=\"mab-feedback\",\n",
    "          runtime_options=local_options,\n",
    "          uri=\"s3://tempo/mab/feedback\",\n",
    "          local_folder=os.getcwd()+\"/artifacts/mab/feedback/\")\n",
    "class MABFeedback(object):\n",
    "\n",
    "    def __init__(self):\n",
    "        self._key = \"beta_params\"\n",
    "\n",
    "    @predictmethod\n",
    "    def predict(self, payload: np.ndarray, parameters: dict) -> np.ndarray:\n",
    "            \n",
    "        logging.info(f\"Feedback method with truth {payload} and parameters {parameters}\")\n",
    "                \n",
    "        reward = parameters[\"reward\"]\n",
    "        routing = parameters[\"routing\"]\n",
    "\n",
    "        logging.info(f\"Sending feedback with route {routing} reward {reward}\")\n",
    "        \n",
    "        # Currently only support 1 feedback at a time\n",
    "        n_predictions = 1\n",
    "        n_success = int(reward * n_predictions)\n",
    "        n_failures = n_predictions - n_success\n",
    "    \n",
    "        logging.info(f\"n_success: {n_success}, n_failures: {n_failures}\")\n",
    "\n",
    "        # Non atomic, race condition op\n",
    "        logging.info(f\"LINDEX key {self._key} on index {routing*2}\")\n",
    "        success_val = float(t.state.internal_state.lindex(self._key, int(routing*2)))\n",
    "        t.state.internal_state.lset(self._key, int(routing*2), str(success_val + n_success))\n",
    "        fail_val = float(t.state.internal_state.lindex(self._key, int(routing*2 + 1)))\n",
    "        t.state.internal_state.lset(self._key, int(routing*2 + 1), str(fail_val + n_failures))\n",
    "        \n",
    "        return np.array([n_success, n_failures])\n",
    "        "
   ]
  },
  {
   "cell_type": "code",
   "execution_count": 44,
   "metadata": {},
   "outputs": [],
   "source": [
    "mab_feedback = MABFeedback()"
   ]
  },
  {
   "cell_type": "markdown",
   "metadata": {},
   "source": [
    "## Send feedback showing that route sklearn model performs better"
   ]
  },
  {
   "cell_type": "code",
   "execution_count": 61,
   "metadata": {},
   "outputs": [
    {
     "name": "stderr",
     "output_type": "stream",
     "text": [
      "INFO:root:Feedback method with truth [[ 2.8590e+03  5.0000e+05  1.0000e+00  1.0000e+00  1.0000e+00  4.0000e+01\n",
      "  -2.0000e+00 -2.0000e+00 -2.0000e+00 -2.0000e+00 -2.0000e+00 -2.0000e+00\n",
      "   5.2550e+03  7.2100e+02  1.7252e+04  7.3880e+03  6.0690e+03  0.0000e+00\n",
      "   7.2100e+02  1.7252e+04  7.4210e+03  6.0690e+03  0.0000e+00  0.0000e+00]] and parameters {'reward': 1, 'routing': 0}\n",
      "INFO:root:Sending feedback with route 0 reward 1\n",
      "INFO:root:n_success: 1, n_failures: 0\n",
      "INFO:root:LINDEX key beta_params on index 0\n",
      "INFO:root:Feedback method with truth [[ 2.8590e+03  5.0000e+05  1.0000e+00  1.0000e+00  1.0000e+00  4.0000e+01\n",
      "  -2.0000e+00 -2.0000e+00 -2.0000e+00 -2.0000e+00 -2.0000e+00 -2.0000e+00\n",
      "   5.2550e+03  7.2100e+02  1.7252e+04  7.3880e+03  6.0690e+03  0.0000e+00\n",
      "   7.2100e+02  1.7252e+04  7.4210e+03  6.0690e+03  0.0000e+00  0.0000e+00]] and parameters {'reward': 1, 'routing': 0}\n",
      "INFO:root:Sending feedback with route 0 reward 1\n",
      "INFO:root:n_success: 1, n_failures: 0\n",
      "INFO:root:LINDEX key beta_params on index 0\n",
      "INFO:root:Feedback method with truth [[ 2.8590e+03  5.0000e+05  1.0000e+00  1.0000e+00  1.0000e+00  4.0000e+01\n",
      "  -2.0000e+00 -2.0000e+00 -2.0000e+00 -2.0000e+00 -2.0000e+00 -2.0000e+00\n",
      "   5.2550e+03  7.2100e+02  1.7252e+04  7.3880e+03  6.0690e+03  0.0000e+00\n",
      "   7.2100e+02  1.7252e+04  7.4210e+03  6.0690e+03  0.0000e+00  0.0000e+00]] and parameters {'reward': 1, 'routing': 0}\n",
      "INFO:root:Sending feedback with route 0 reward 1\n",
      "INFO:root:n_success: 1, n_failures: 0\n",
      "INFO:root:LINDEX key beta_params on index 0\n",
      "INFO:root:Feedback method with truth [[ 2.8590e+03  5.0000e+05  1.0000e+00  1.0000e+00  1.0000e+00  4.0000e+01\n",
      "  -2.0000e+00 -2.0000e+00 -2.0000e+00 -2.0000e+00 -2.0000e+00 -2.0000e+00\n",
      "   5.2550e+03  7.2100e+02  1.7252e+04  7.3880e+03  6.0690e+03  0.0000e+00\n",
      "   7.2100e+02  1.7252e+04  7.4210e+03  6.0690e+03  0.0000e+00  0.0000e+00]] and parameters {'reward': 1, 'routing': 0}\n",
      "INFO:root:Sending feedback with route 0 reward 1\n",
      "INFO:root:n_success: 1, n_failures: 0\n",
      "INFO:root:LINDEX key beta_params on index 0\n",
      "INFO:root:Feedback method with truth [[ 2.8590e+03  5.0000e+05  1.0000e+00  1.0000e+00  1.0000e+00  4.0000e+01\n",
      "  -2.0000e+00 -2.0000e+00 -2.0000e+00 -2.0000e+00 -2.0000e+00 -2.0000e+00\n",
      "   5.2550e+03  7.2100e+02  1.7252e+04  7.3880e+03  6.0690e+03  0.0000e+00\n",
      "   7.2100e+02  1.7252e+04  7.4210e+03  6.0690e+03  0.0000e+00  0.0000e+00]] and parameters {'reward': 1, 'routing': 0}\n",
      "INFO:root:Sending feedback with route 0 reward 1\n",
      "INFO:root:n_success: 1, n_failures: 0\n",
      "INFO:root:LINDEX key beta_params on index 0\n",
      "INFO:root:Feedback method with truth [[ 2.8590e+03  5.0000e+05  1.0000e+00  1.0000e+00  1.0000e+00  4.0000e+01\n",
      "  -2.0000e+00 -2.0000e+00 -2.0000e+00 -2.0000e+00 -2.0000e+00 -2.0000e+00\n",
      "   5.2550e+03  7.2100e+02  1.7252e+04  7.3880e+03  6.0690e+03  0.0000e+00\n",
      "   7.2100e+02  1.7252e+04  7.4210e+03  6.0690e+03  0.0000e+00  0.0000e+00]] and parameters {'reward': 1, 'routing': 0}\n",
      "INFO:root:Sending feedback with route 0 reward 1\n",
      "INFO:root:n_success: 1, n_failures: 0\n",
      "INFO:root:LINDEX key beta_params on index 0\n",
      "INFO:root:Feedback method with truth [[ 2.8590e+03  5.0000e+05  1.0000e+00  1.0000e+00  1.0000e+00  4.0000e+01\n",
      "  -2.0000e+00 -2.0000e+00 -2.0000e+00 -2.0000e+00 -2.0000e+00 -2.0000e+00\n",
      "   5.2550e+03  7.2100e+02  1.7252e+04  7.3880e+03  6.0690e+03  0.0000e+00\n",
      "   7.2100e+02  1.7252e+04  7.4210e+03  6.0690e+03  0.0000e+00  0.0000e+00]] and parameters {'reward': 1, 'routing': 0}\n",
      "INFO:root:Sending feedback with route 0 reward 1\n",
      "INFO:root:n_success: 1, n_failures: 0\n",
      "INFO:root:LINDEX key beta_params on index 0\n",
      "INFO:root:Feedback method with truth [[ 2.8590e+03  5.0000e+05  1.0000e+00  1.0000e+00  1.0000e+00  4.0000e+01\n",
      "  -2.0000e+00 -2.0000e+00 -2.0000e+00 -2.0000e+00 -2.0000e+00 -2.0000e+00\n",
      "   5.2550e+03  7.2100e+02  1.7252e+04  7.3880e+03  6.0690e+03  0.0000e+00\n",
      "   7.2100e+02  1.7252e+04  7.4210e+03  6.0690e+03  0.0000e+00  0.0000e+00]] and parameters {'reward': 1, 'routing': 0}\n",
      "INFO:root:Sending feedback with route 0 reward 1\n",
      "INFO:root:n_success: 1, n_failures: 0\n",
      "INFO:root:LINDEX key beta_params on index 0\n",
      "INFO:root:Feedback method with truth [[ 2.8590e+03  5.0000e+05  1.0000e+00  1.0000e+00  1.0000e+00  4.0000e+01\n",
      "  -2.0000e+00 -2.0000e+00 -2.0000e+00 -2.0000e+00 -2.0000e+00 -2.0000e+00\n",
      "   5.2550e+03  7.2100e+02  1.7252e+04  7.3880e+03  6.0690e+03  0.0000e+00\n",
      "   7.2100e+02  1.7252e+04  7.4210e+03  6.0690e+03  0.0000e+00  0.0000e+00]] and parameters {'reward': 1, 'routing': 0}\n",
      "INFO:root:Sending feedback with route 0 reward 1\n",
      "INFO:root:n_success: 1, n_failures: 0\n",
      "INFO:root:LINDEX key beta_params on index 0\n"
     ]
    },
    {
     "name": "stdout",
     "output_type": "stream",
     "text": [
      "[1 0]\n",
      "[1 0]\n",
      "[1 0]\n",
      "[1 0]\n",
      "[1 0]\n",
      "[1 0]\n",
      "[1 0]\n",
      "[1 0]\n"
     ]
    },
    {
     "name": "stderr",
     "output_type": "stream",
     "text": [
      "INFO:root:Feedback method with truth [[ 2.8590e+03  5.0000e+05  1.0000e+00  1.0000e+00  1.0000e+00  4.0000e+01\n",
      "  -2.0000e+00 -2.0000e+00 -2.0000e+00 -2.0000e+00 -2.0000e+00 -2.0000e+00\n",
      "   5.2550e+03  7.2100e+02  1.7252e+04  7.3880e+03  6.0690e+03  0.0000e+00\n",
      "   7.2100e+02  1.7252e+04  7.4210e+03  6.0690e+03  0.0000e+00  0.0000e+00]] and parameters {'reward': 1, 'routing': 0}\n",
      "INFO:root:Sending feedback with route 0 reward 1\n",
      "INFO:root:n_success: 1, n_failures: 0\n",
      "INFO:root:LINDEX key beta_params on index 0\n"
     ]
    },
    {
     "name": "stdout",
     "output_type": "stream",
     "text": [
      "[1 0]\n",
      "[1 0]\n"
     ]
    }
   ],
   "source": [
    "for i in range(10):\n",
    "    print(mab_feedback(payload=X_rest[0:1], parameters={ \"reward\": 1, \"routing\": 0}))"
   ]
  },
  {
   "cell_type": "markdown",
   "metadata": {},
   "source": [
    "## See now most requests being sent to sklearn model"
   ]
  },
  {
   "cell_type": "code",
   "execution_count": 62,
   "metadata": {},
   "outputs": [
    {
     "name": "stdout",
     "output_type": "stream",
     "text": [
      "[0.0865844]\n",
      "[0.0865844]\n",
      "[0.0865844]\n",
      "[0.0865844]\n",
      "[0.0865844]\n",
      "[0.]\n",
      "[0.0865844]\n",
      "[0.0865844]\n",
      "[0.0865844]\n",
      "[0.0865844]\n"
     ]
    }
   ],
   "source": [
    "for i in range(10):\n",
    "    print(remote_mab_router.predict(X_test2[0:1]))"
   ]
  },
  {
   "cell_type": "markdown",
   "metadata": {},
   "source": [
    "### Deploy Feedback Pipeline"
   ]
  },
  {
   "cell_type": "code",
   "execution_count": 50,
   "metadata": {},
   "outputs": [],
   "source": [
    "%%writetemplate artifacts/mab/feedback/conda.yaml\n",
    "name: tempo-insights\n",
    "channels:\n",
    "  - defaults\n",
    "dependencies:\n",
    "  - pip=21.0.1\n",
    "  - python=3.7.9\n",
    "  - pip:\n",
    "    - mlops-tempo @ file://{TEMPO_DIR}\n",
    "    - mlserver==0.3.1.dev7"
   ]
  },
  {
   "cell_type": "code",
   "execution_count": 51,
   "metadata": {},
   "outputs": [
    {
     "name": "stderr",
     "output_type": "stream",
     "text": [
      "INFO:tempo:Saving environment\n",
      "INFO:tempo:Saving tempo model to /home/alejandro/Programming/kubernetes/seldon/tempo/docs/examples/mab-thompson-sampling-tempo/artifacts/mab/feedback/model.pickle\n",
      "INFO:tempo:Using found conda.yaml\n",
      "INFO:tempo:Creating conda env with: conda env create --name tempo-a70b0c73-effa-4859-b53a-130341b07f76 --file /tmp/tmpcixe4n_l.yml\n",
      "INFO:tempo:packing conda environment from tempo-a70b0c73-effa-4859-b53a-130341b07f76\n"
     ]
    },
    {
     "name": "stdout",
     "output_type": "stream",
     "text": [
      "Collecting packages...\n",
      "Packing environment at '/home/alejandro/miniconda3/envs/tempo-a70b0c73-effa-4859-b53a-130341b07f76' to '/home/alejandro/Programming/kubernetes/seldon/tempo/docs/examples/mab-thompson-sampling-tempo/artifacts/mab/feedback/environment.tar.gz'\n",
      "[########################################] | 100% Completed | 24.1s\n"
     ]
    },
    {
     "name": "stderr",
     "output_type": "stream",
     "text": [
      "INFO:tempo:Removing conda env with: conda remove --name tempo-a70b0c73-effa-4859-b53a-130341b07f76 --all --yes\n"
     ]
    }
   ],
   "source": [
    "save(mab_feedback, save_env=True)"
   ]
  },
  {
   "cell_type": "code",
   "execution_count": 56,
   "metadata": {},
   "outputs": [],
   "source": [
    "remote_mab_feedback = deploy(mab_feedback, docker_options)"
   ]
  },
  {
   "cell_type": "markdown",
   "metadata": {},
   "source": [
    "### Now send 20 positive requests showing xgboost performing better"
   ]
  },
  {
   "cell_type": "code",
   "execution_count": 63,
   "metadata": {},
   "outputs": [
    {
     "name": "stdout",
     "output_type": "stream",
     "text": [
      "[1 0]\n",
      "[1 0]\n",
      "[1 0]\n",
      "[1 0]\n",
      "[1 0]\n",
      "[1 0]\n",
      "[1 0]\n",
      "[1 0]\n",
      "[1 0]\n",
      "[1 0]\n",
      "[1 0]\n",
      "[1 0]\n",
      "[1 0]\n",
      "[1 0]\n",
      "[1 0]\n",
      "[1 0]\n",
      "[1 0]\n",
      "[1 0]\n",
      "[1 0]\n",
      "[1 0]\n"
     ]
    }
   ],
   "source": [
    "for i in range(20):\n",
    "    print(remote_mab_feedback.predict(payload=X_rest[0:1], parameters={ \"reward\": 1, \"routing\": 1}))"
   ]
  },
  {
   "cell_type": "markdown",
   "metadata": {},
   "source": [
    "### We should now see the xgboost model receiving most requests"
   ]
  },
  {
   "cell_type": "code",
   "execution_count": 64,
   "metadata": {},
   "outputs": [
    {
     "name": "stdout",
     "output_type": "stream",
     "text": [
      "[0.]\n",
      "[0.]\n",
      "[0.0865844]\n",
      "[0.]\n",
      "[0.0865844]\n",
      "[0.]\n",
      "[0.0865844]\n",
      "[0.]\n",
      "[0.]\n",
      "[0.]\n"
     ]
    }
   ],
   "source": [
    "for i in range(10):\n",
    "    print(remote_mab_router.predict(X_test2[0:1]))"
   ]
  },
  {
   "cell_type": "markdown",
   "metadata": {},
   "source": [
    "### Clean up Docker"
   ]
  },
  {
   "cell_type": "code",
   "execution_count": 83,
   "metadata": {},
   "outputs": [
    {
     "name": "stderr",
     "output_type": "stream",
     "text": [
      "INFO:tempo:Undeploying mab-router\n",
      "INFO:tempo:Undeploying test-iris-sklearn\n",
      "INFO:tempo:Undeploying test-iris-xgboost\n",
      "INFO:tempo:Undeploying mab-feedback\n"
     ]
    }
   ],
   "source": [
    "remote_mab_router.undeploy()\n",
    "remote_mab_feedback.undeploy()"
   ]
  },
  {
   "cell_type": "code",
   "execution_count": 84,
   "metadata": {},
   "outputs": [],
   "source": [
    "from tempo.docker.utils import undeploy_redis\n",
    "undeploy_redis()"
   ]
  },
  {
   "cell_type": "markdown",
   "metadata": {},
   "source": [
    "## Deploy to Kubernetes"
   ]
  },
  {
   "cell_type": "code",
   "execution_count": 73,
   "metadata": {},
   "outputs": [
    {
     "name": "stdout",
     "output_type": "stream",
     "text": [
      "Error from server (AlreadyExists): namespaces \"production\" already exists\r\n"
     ]
    }
   ],
   "source": [
    "!kubectl create ns production"
   ]
  },
  {
   "cell_type": "code",
   "execution_count": 113,
   "metadata": {},
   "outputs": [
    {
     "name": "stdout",
     "output_type": "stream",
     "text": [
      "secret/minio-secret configured\n",
      "serviceaccount/tempo-pipeline unchanged\n",
      "role.rbac.authorization.k8s.io/tempo-pipeline configured\n",
      "rolebinding.rbac.authorization.k8s.io/tempo-pipeline-rolebinding unchanged\n"
     ]
    }
   ],
   "source": [
    "!kubectl apply -f k8s/rbac -n production"
   ]
  },
  {
   "cell_type": "code",
   "execution_count": 75,
   "metadata": {},
   "outputs": [],
   "source": [
    "from tempo.examples.minio import create_minio_rclone\n",
    "import os\n",
    "create_minio_rclone(os.getcwd()+\"/rclone.conf\")"
   ]
  },
  {
   "cell_type": "code",
   "execution_count": 76,
   "metadata": {},
   "outputs": [
    {
     "name": "stderr",
     "output_type": "stream",
     "text": [
      "INFO:tempo:Uploading /home/alejandro/Programming/kubernetes/seldon/tempo/docs/examples/mab-thompson-sampling-tempo/artifacts/mab/router/ to s3://tempo/mab/route\n",
      "INFO:tempo:Uploading /home/alejandro/Programming/kubernetes/seldon/tempo/docs/examples/mab-thompson-sampling-tempo/artifacts/mab/feedback/ to s3://tempo/mab/feedback\n"
     ]
    }
   ],
   "source": [
    "from tempo.serve.loader import upload\n",
    "upload(mab_router)\n",
    "upload(mab_feedback)"
   ]
  },
  {
   "cell_type": "code",
   "execution_count": 78,
   "metadata": {},
   "outputs": [],
   "source": [
    "from tempo.k8s.utils import deploy_redis\n",
    "\n",
    "deploy_redis()"
   ]
  },
  {
   "cell_type": "code",
   "execution_count": 98,
   "metadata": {},
   "outputs": [],
   "source": [
    "from tempo.serve.metadata import RuntimeOptions, KubernetesOptions, StateOptions, StateTypes\n",
    "from tempo.serve.constants import DefaultRedisK8sHost, DefaultRedisPort\n",
    "from tempo.seldon.k8s import SeldonCoreOptions\n",
    "\n",
    "kubernetes_options = SeldonCoreOptions(\n",
    "        k8s_options=KubernetesOptions(\n",
    "            namespace=\"production\",\n",
    "            authSecretName=\"minio-secret\"\n",
    "        ),\n",
    "        state_options=StateOptions(\n",
    "            state_type=StateTypes.REDIS,\n",
    "            host=DefaultRedisK8sHost,\n",
    "            port=DefaultRedisPort\n",
    "        )\n",
    "    )"
   ]
  },
  {
   "cell_type": "code",
   "execution_count": 99,
   "metadata": {},
   "outputs": [],
   "source": [
    "from tempo import deploy\n",
    "k8s_mab_router = deploy(mab_router, options=kubernetes_options)\n",
    "k8s_mab_feedback = deploy(mab_feedback, options=kubernetes_options)"
   ]
  },
  {
   "cell_type": "code",
   "execution_count": null,
   "metadata": {},
   "outputs": [],
   "source": [
    "k8s_mab_router.predict(payload=X_rest[0:1])"
   ]
  },
  {
   "cell_type": "code",
   "execution_count": null,
   "metadata": {},
   "outputs": [],
   "source": [
    "k8s_mab_router.predict(payload=X_rest[0:1], parameters={\"reward\":0.0,\"routing\":0} )"
   ]
  },
  {
   "cell_type": "code",
   "execution_count": null,
   "metadata": {},
   "outputs": [],
   "source": []
  }
 ],
 "metadata": {
  "kernelspec": {
   "display_name": "Python 3",
   "language": "python",
   "name": "python3"
  },
  "language_info": {
   "codemirror_mode": {
    "name": "ipython",
    "version": 3
   },
   "file_extension": ".py",
   "mimetype": "text/x-python",
   "name": "python",
   "nbconvert_exporter": "python",
   "pygments_lexer": "ipython3",
   "version": "3.7.4"
  }
 },
 "nbformat": 4,
 "nbformat_minor": 4
}
