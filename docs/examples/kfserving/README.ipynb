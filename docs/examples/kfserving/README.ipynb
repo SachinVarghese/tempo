{
 "cells": [
  {
   "cell_type": "markdown",
   "id": "statutory-comedy",
   "metadata": {},
   "source": [
    "# Introction to Tempo on Kubernetes\n",
    "\n",
    "This notebook will walk you through an end-to-end example deploying a Tempo pipeline deployed to Kubernetes.\n",
    "\n",
    "## Prerequisites\n",
    "\n",
    "This notebooks needs to be run in the `tempo-examples` conda environment defined below. Create from project root folder:\n",
    "\n",
    "```bash\n",
    "conda env create --name tempo-examples --file conda/tempo-examples.yaml\n",
    "```"
   ]
  },
  {
   "cell_type": "markdown",
   "id": "polar-complaint",
   "metadata": {},
   "source": [
    "## Architecture\n",
    "\n",
    "We will show two Iris dataset prediction models combined with service orchestration that shows some arbitrary python code to control predictions from the two models.\n",
    "\n",
    "![architecture](architecture.png)"
   ]
  },
  {
   "cell_type": "code",
   "execution_count": 1,
   "id": "hydraulic-basic",
   "metadata": {},
   "outputs": [],
   "source": [
    "from IPython.core.magic import register_line_cell_magic\n",
    "\n",
    "@register_line_cell_magic\n",
    "def writetemplate(line, cell):\n",
    "    with open(line, 'w') as f:\n",
    "        f.write(cell.format(**globals()))"
   ]
  },
  {
   "cell_type": "markdown",
   "id": "still-turning",
   "metadata": {},
   "source": [
    "## Train Iris Models\n",
    "\n",
    "We will train:\n",
    "\n",
    "  * A sklearn logistic regression model\n",
    "  * A xgboost model"
   ]
  },
  {
   "cell_type": "code",
   "execution_count": 2,
   "id": "eleven-retail",
   "metadata": {},
   "outputs": [],
   "source": [
    "!mkdir -p artifacts/sklearn\n",
    "!mkdir -p artifacts/xgboost"
   ]
  },
  {
   "cell_type": "code",
   "execution_count": 3,
   "id": "weekly-favorite",
   "metadata": {},
   "outputs": [],
   "source": [
    "from sklearn import datasets\n",
    "from sklearn.linear_model import LogisticRegression\n",
    "import joblib\n",
    "iris = datasets.load_iris()\n",
    "X = iris.data  # we only take the first two features.\n",
    "y = iris.target\n",
    "logreg = LogisticRegression(C=1e5)\n",
    "logreg.fit(X, y)\n",
    "logreg.predict_proba(X[0:1])\n",
    "with open(\"./artifacts/sklearn/model.joblib\",\"wb\") as f:\n",
    "    joblib.dump(logreg, f)"
   ]
  },
  {
   "cell_type": "code",
   "execution_count": 4,
   "id": "innocent-shock",
   "metadata": {},
   "outputs": [
    {
     "name": "stdout",
     "output_type": "stream",
     "text": [
      "[13:20:57] WARNING: ../src/learner.cc:1061: Starting in XGBoost 1.3.0, the default evaluation metric used with the objective 'multi:softprob' was changed from 'merror' to 'mlogloss'. Explicitly set eval_metric if you'd like to restore the old behavior.\n"
     ]
    },
    {
     "name": "stderr",
     "output_type": "stream",
     "text": [
      "/home/clive/anaconda3/envs/tempo-examples/lib/python3.7/site-packages/xgboost/sklearn.py:888: UserWarning: The use of label encoder in XGBClassifier is deprecated and will be removed in a future release. To remove this warning, do the following: 1) Pass option use_label_encoder=False when constructing XGBClassifier object; and 2) Encode your labels (y) as integers starting with 0, i.e. 0, 1, 2, ..., [num_class - 1].\n",
      "  warnings.warn(label_encoder_deprecation_msg, UserWarning)\n"
     ]
    }
   ],
   "source": [
    "from xgboost import XGBClassifier\n",
    "clf = XGBClassifier()\n",
    "clf.fit(X,y)\n",
    "clf.save_model(\"./artifacts/xgboost/model.bst\")"
   ]
  },
  {
   "cell_type": "markdown",
   "id": "incomplete-sheriff",
   "metadata": {},
   "source": [
    "## Defining pipeline\n",
    "\n",
    "The first step will be to define our custom pipeline.\n",
    "This pipeline will access 2 models, stored remotely. "
   ]
  },
  {
   "cell_type": "code",
   "execution_count": 5,
   "id": "appointed-suspension",
   "metadata": {},
   "outputs": [],
   "source": [
    "import os\n",
    "import numpy as np\n",
    "from typing import Tuple\n",
    "from tempo.serve.metadata import ModelFramework, KubernetesOptions, RuntimeOptions\n",
    "from tempo.serve.model import Model\n",
    "from tempo.serve.pipeline import PipelineModels\n",
    "from tempo.seldon.protocol import SeldonProtocol\n",
    "from tempo.seldon.docker import SeldonDockerRuntime\n",
    "from tempo.kfserving.protocol import KFServingV2Protocol, KFServingV1Protocol\n",
    "from tempo.kfserving.k8s import KFServingKubernetesRuntime\n",
    "from tempo.serve.utils import pipeline, predictmethod\n",
    "from tempo.seldon.k8s import SeldonKubernetesRuntime\n",
    "from tempo.serve.utils import pipeline\n",
    "from tempo.serve.loader import upload, save\n",
    "\n",
    "import logging\n",
    "logging.basicConfig(level=logging.INFO)\n",
    "\n",
    "\n",
    "SKLEARN_FOLDER = f\"{os.getcwd()}/artifacts/sklearn\"\n",
    "XGBOOST_FOLDER = f\"{os.getcwd()}/artifacts/xgboost\"\n",
    "PIPELINE_ARTIFACTS_FOLDER = f\"{os.getcwd()}/artifacts/classifier\"\n",
    "\n",
    "runtimeOptions=RuntimeOptions(  \n",
    "    k8s_options=KubernetesOptions( \n",
    "        defaultRuntime=\"tempo.kfserving.KFServingKubernetesRuntime\",\n",
    "        namespace=\"production\",\n",
    "        serviceAccountName=\"kf-tempo\"\n",
    "    )\n",
    ")\n",
    "\n",
    "\n",
    "sklearn_model = Model(\n",
    "    name=\"test-iris-sklearn\",\n",
    "    platform=ModelFramework.SKLearn,\n",
    "    runtime_options=runtimeOptions,\n",
    "    local_folder=SKLEARN_FOLDER,\n",
    "    uri=\"s3://tempo/basic/sklearn\",\n",
    ")\n",
    "\n",
    "xgboost_model = Model(\n",
    "    name=\"test-iris-xgboost\",\n",
    "    platform=ModelFramework.XGBoost,\n",
    "    runtime_options=runtimeOptions,\n",
    "    local_folder=XGBOOST_FOLDER,\n",
    "    uri=\"s3://tempo/basic/xgboost\",  \n",
    ")\n",
    "\n",
    "@pipeline(\n",
    "    name=\"classifier\",\n",
    "    uri=\"s3://tempo/basic/pipeline\",\n",
    "    local_folder=PIPELINE_ARTIFACTS_FOLDER,\n",
    "    runtime_options=runtimeOptions,\n",
    "    models=PipelineModels(sklearn=sklearn_model, xgboost=xgboost_model)\n",
    ")\n",
    "def classifier(payload: np.ndarray) -> Tuple[np.ndarray,str]:\n",
    "    res1 = classifier.models.sklearn(input=payload)\n",
    "    print(res1)\n",
    "    if res1[0] == 1:\n",
    "        return res1,\"sklearn prediction\"\n",
    "    else:\n",
    "        return classifier.models.xgboost(input=payload),\"xgboost prediction\""
   ]
  },
  {
   "cell_type": "markdown",
   "id": "nonprofit-savage",
   "metadata": {},
   "source": [
    "### Saving artifacts\n",
    "\n",
    "We provide a conda yaml in out `local_folder` which tempo will use as the runtime environment to save. If this file was not there it would save the current conda environment. One can also provide a named conda environment with `conda_env` in the decorator."
   ]
  },
  {
   "cell_type": "code",
   "execution_count": 6,
   "id": "subsequent-recognition",
   "metadata": {},
   "outputs": [],
   "source": [
    "import sys\n",
    "import os\n",
    "PYTHON_VERSION = f\"{sys.version_info.major}.{sys.version_info.minor}.{sys.version_info.micro}\"\n",
    "TEMPO_DIR = os.path.abspath(os.path.join(os.getcwd(), '..', '..', '..'))"
   ]
  },
  {
   "cell_type": "code",
   "execution_count": 7,
   "id": "coral-butler",
   "metadata": {},
   "outputs": [],
   "source": [
    "%%writetemplate artifacts/classifier/conda.yaml\n",
    "name: tempo\n",
    "channels:\n",
    "  - defaults\n",
    "dependencies:\n",
    "  - python={PYTHON_VERSION}\n",
    "  - pip:\n",
    "    - mlops-tempo @ file://{TEMPO_DIR}\n",
    "    - mlserver==0.3.1.dev7"
   ]
  },
  {
   "cell_type": "code",
   "execution_count": 8,
   "id": "tutorial-hometown",
   "metadata": {},
   "outputs": [
    {
     "name": "stderr",
     "output_type": "stream",
     "text": [
      "INFO:tempo:Saving environment\n",
      "INFO:tempo:Saving tempo model to /home/clive/work/mlops/fork-tempo/docs/examples/kfserving/artifacts/classifier/model.pickle\n",
      "INFO:tempo:Using found conda.yaml\n",
      "INFO:tempo:Creating conda env with: conda env create --name tempo-d425c960-57fe-4282-bed0-96b0c102b58d --file /tmp/tmp2cr913av.yml\n",
      "INFO:tempo:packing conda environment from tempo-d425c960-57fe-4282-bed0-96b0c102b58d\n"
     ]
    },
    {
     "name": "stdout",
     "output_type": "stream",
     "text": [
      "Collecting packages...\n",
      "Packing environment at '/home/clive/anaconda3/envs/tempo-d425c960-57fe-4282-bed0-96b0c102b58d' to '/home/clive/work/mlops/fork-tempo/docs/examples/kfserving/artifacts/classifier/environment.tar.gz'\n",
      "[########################################] | 100% Completed | 12.3s\n"
     ]
    },
    {
     "name": "stderr",
     "output_type": "stream",
     "text": [
      "INFO:tempo:Removing conda env with: conda remove --name tempo-d425c960-57fe-4282-bed0-96b0c102b58d --all --yes\n"
     ]
    }
   ],
   "source": [
    "save(classifier, save_env=True)"
   ]
  },
  {
   "cell_type": "markdown",
   "id": "color-machine",
   "metadata": {},
   "source": [
    "## Deploying pipeline to K8s\n",
    "\n",
    "The next step, will be to deploy our pipeline to Kubernetes.\n",
    "We will divide this process into 3 sub-steps:\n",
    "\n",
    "1. Save our artifacts and environment\n",
    "2. Upload to remote storage\n",
    "3. Deploy resources"
   ]
  },
  {
   "cell_type": "markdown",
   "id": "appropriate-domain",
   "metadata": {},
   "source": [
    "### Setup Namespace with Minio Secret"
   ]
  },
  {
   "cell_type": "code",
   "execution_count": 9,
   "id": "adolescent-presentation",
   "metadata": {},
   "outputs": [
    {
     "name": "stdout",
     "output_type": "stream",
     "text": [
      "namespace/production created\r\n"
     ]
    }
   ],
   "source": [
    "!kubectl create namespace production"
   ]
  },
  {
   "cell_type": "code",
   "execution_count": 10,
   "id": "signal-upper",
   "metadata": {},
   "outputs": [
    {
     "name": "stdout",
     "output_type": "stream",
     "text": [
      "Overwriting auth.yaml\n"
     ]
    }
   ],
   "source": [
    "%%writefile auth.yaml\n",
    "---\n",
    "apiVersion: v1\n",
    "kind: Secret\n",
    "metadata:\n",
    "  name: minio-secret\n",
    "  annotations:\n",
    "     serving.kubeflow.org/s3-endpoint: minio.minio-system.svc.cluster.local:9000 # replace with your s3 endpoint\n",
    "     serving.kubeflow.org/s3-usehttps: \"0\" # by default 1, for testing with minio you need to set to 0\n",
    "type: Opaque\n",
    "stringData:\n",
    "  AWS_ACCESS_KEY_ID: minioadmin\n",
    "  AWS_SECRET_ACCESS_KEY: minioadmin\n",
    "---\n",
    "apiVersion: v1\n",
    "kind: ServiceAccount\n",
    "metadata:\n",
    "  name: kf-tempo\n",
    "secrets:\n",
    "- name: minio-secret\n",
    "---\n",
    "apiVersion: rbac.authorization.k8s.io/v1\n",
    "kind: Role\n",
    "metadata:\n",
    "  name: kf-tempo\n",
    "rules:\n",
    "  - apiGroups:\n",
    "      - machinelearning.seldon.io\n",
    "    resources:\n",
    "      - seldondeployments/status\n",
    "    verbs:\n",
    "      - get\n",
    "  - apiGroups:\n",
    "      - serving.kubeflow.org\n",
    "    resources:\n",
    "      - inferenceservices/status\n",
    "    verbs:\n",
    "      - get\n",
    "---\n",
    "apiVersion: rbac.authorization.k8s.io/v1\n",
    "kind: RoleBinding\n",
    "metadata:\n",
    "  name: tempo-pipeline-rolebinding\n",
    "roleRef:\n",
    "  apiGroup: rbac.authorization.k8s.io\n",
    "  kind: Role\n",
    "  name: kf-tempo\n",
    "subjects:\n",
    "  - kind: ServiceAccount\n",
    "    name: kf-tempo"
   ]
  },
  {
   "cell_type": "code",
   "execution_count": 11,
   "id": "thick-postcard",
   "metadata": {},
   "outputs": [
    {
     "name": "stdout",
     "output_type": "stream",
     "text": [
      "secret/minio-secret created\r\n",
      "serviceaccount/kf-tempo created\r\n",
      "role.rbac.authorization.k8s.io/kf-tempo created\r\n",
      "rolebinding.rbac.authorization.k8s.io/tempo-pipeline-rolebinding created\r\n"
     ]
    }
   ],
   "source": [
    "!kubectl apply -f auth.yaml -n production"
   ]
  },
  {
   "cell_type": "markdown",
   "id": "dramatic-austria",
   "metadata": {},
   "source": [
    "### Uploading artifacts"
   ]
  },
  {
   "cell_type": "code",
   "execution_count": 12,
   "id": "molecular-voltage",
   "metadata": {},
   "outputs": [],
   "source": [
    "MINIO_IP=!kubectl get svc minio -n minio-system -o jsonpath='{.status.loadBalancer.ingress[0].ip}'\n",
    "MINIO_IP=MINIO_IP[0]"
   ]
  },
  {
   "cell_type": "code",
   "execution_count": 13,
   "id": "controversial-swiss",
   "metadata": {},
   "outputs": [],
   "source": [
    "%%writetemplate rclone.conf\n",
    "[s3]\n",
    "type = s3\n",
    "provider = minio\n",
    "env_auth = false\n",
    "access_key_id = minioadmin\n",
    "secret_access_key = minioadmin\n",
    "endpoint = http://{MINIO_IP}:9000"
   ]
  },
  {
   "cell_type": "code",
   "execution_count": 14,
   "id": "collaborative-hometown",
   "metadata": {},
   "outputs": [],
   "source": [
    "import os\n",
    "from tempo.conf import settings\n",
    "settings.rclone_cfg = os.getcwd() + \"/rclone.conf\"\n",
    "settings.use_kubernetes = True"
   ]
  },
  {
   "cell_type": "code",
   "execution_count": 15,
   "id": "significant-literature",
   "metadata": {},
   "outputs": [
    {
     "name": "stderr",
     "output_type": "stream",
     "text": [
      "INFO:tempo:Uploading /home/clive/work/mlops/fork-tempo/docs/examples/kfserving/artifacts/sklearn to s3://tempo/basic/sklearn\n",
      "INFO:tempo:Uploading /home/clive/work/mlops/fork-tempo/docs/examples/kfserving/artifacts/xgboost to s3://tempo/basic/xgboost\n",
      "INFO:tempo:Uploading /home/clive/work/mlops/fork-tempo/docs/examples/kfserving/artifacts/classifier to s3://tempo/basic/pipeline\n"
     ]
    }
   ],
   "source": [
    "upload(sklearn_model)\n",
    "upload(xgboost_model)\n",
    "upload(classifier)"
   ]
  },
  {
   "cell_type": "markdown",
   "id": "potential-retro",
   "metadata": {},
   "source": [
    "### Deploy"
   ]
  },
  {
   "cell_type": "code",
   "execution_count": 16,
   "id": "pleasant-brunswick",
   "metadata": {},
   "outputs": [],
   "source": [
    "k8s_runtime = KFServingKubernetesRuntime()\n",
    "k8s_runtime.deploy(classifier)\n",
    "k8s_runtime.wait_ready(classifier)"
   ]
  },
  {
   "cell_type": "markdown",
   "id": "postal-anxiety",
   "metadata": {},
   "source": [
    "### Sending requests\n",
    "\n",
    "Lastly, we can now send requests to our deployed pipeline.\n",
    "For this, we will leverage the `remote()` method, which will interact without our deployed pipeline (as opposed to executing our pipeline's code locally)."
   ]
  },
  {
   "cell_type": "code",
   "execution_count": 17,
   "id": "ambient-permit",
   "metadata": {},
   "outputs": [
    {
     "name": "stdout",
     "output_type": "stream",
     "text": [
      "[2.]\n"
     ]
    },
    {
     "data": {
      "text/plain": [
       "(array([[0.00847207, 0.03168794, 0.95984   ]], dtype=float32),\n",
       " 'xgboost prediction')"
      ]
     },
     "execution_count": 17,
     "metadata": {},
     "output_type": "execute_result"
    }
   ],
   "source": [
    "classifier(payload=np.array([[1, 2, 3, 4]]))"
   ]
  },
  {
   "cell_type": "code",
   "execution_count": 18,
   "id": "extraordinary-shell",
   "metadata": {},
   "outputs": [
    {
     "data": {
      "text/plain": [
       "{'output0': array([[0.00847207, 0.03168794, 0.95984   ]], dtype=float32),\n",
       " 'output1': 'xgboost prediction'}"
      ]
     },
     "execution_count": 18,
     "metadata": {},
     "output_type": "execute_result"
    }
   ],
   "source": [
    "classifier.remote(payload=np.array([[1, 2, 3, 4]]))"
   ]
  },
  {
   "cell_type": "code",
   "execution_count": 19,
   "id": "available-calgary",
   "metadata": {},
   "outputs": [
    {
     "data": {
      "text/plain": [
       "{'output0': array([[0.97329617, 0.02412145, 0.00258233]], dtype=float32),\n",
       " 'output1': 'xgboost prediction'}"
      ]
     },
     "execution_count": 19,
     "metadata": {},
     "output_type": "execute_result"
    }
   ],
   "source": [
    "classifier.remote(payload=np.array([[5.964,4.006,2.081,1.031]]))"
   ]
  },
  {
   "cell_type": "markdown",
   "id": "muslim-fiber",
   "metadata": {},
   "source": [
    "### Undeploy pipeline"
   ]
  },
  {
   "cell_type": "code",
   "execution_count": 20,
   "id": "statewide-match",
   "metadata": {},
   "outputs": [
    {
     "name": "stderr",
     "output_type": "stream",
     "text": [
      "INFO:tempo:Undeploying classifier\n",
      "INFO:tempo:Undeploying test-iris-sklearn\n",
      "INFO:tempo:Undeploying test-iris-xgboost\n"
     ]
    }
   ],
   "source": [
    "k8s_runtime.undeploy(classifier)"
   ]
  },
  {
   "cell_type": "code",
   "execution_count": null,
   "id": "81ef8f30",
   "metadata": {},
   "outputs": [],
   "source": []
  }
 ],
 "metadata": {
  "kernelspec": {
   "display_name": "Python 3",
   "language": "python",
   "name": "python3"
  },
  "language_info": {
   "codemirror_mode": {
    "name": "ipython",
    "version": 3
   },
   "file_extension": ".py",
   "mimetype": "text/x-python",
   "name": "python",
   "nbconvert_exporter": "python",
   "pygments_lexer": "ipython3",
   "version": "3.7.9"
  }
 },
 "nbformat": 4,
 "nbformat_minor": 5
}
