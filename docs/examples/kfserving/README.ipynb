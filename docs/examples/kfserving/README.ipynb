{
 "cells": [
  {
   "cell_type": "markdown",
   "id": "certain-chest",
   "metadata": {},
   "source": [
    "# Introction to Tempo on Kubernetes\n",
    "\n",
    "This notebook will walk you through an end-to-end example deploying a Tempo pipeline deployed to Kubernetes.\n",
    "\n",
    "## Prerequisites\n",
    "\n",
    "  * rclone and conda installed.\n",
    "  * Run this notebook within the `seldon-examples` conda environment. Details to create this can be found [here]()."
   ]
  },
  {
   "cell_type": "markdown",
   "id": "killing-vegetarian",
   "metadata": {},
   "source": [
    "## Architecture\n",
    "\n",
    "We will show two Iris dataset prediction models combined with service orchestration that shows some arbitrary python code to control predictions from the two models.\n",
    "\n",
    "![architecture](architecture.png)"
   ]
  },
  {
   "cell_type": "code",
   "execution_count": null,
   "id": "concerned-internship",
   "metadata": {},
   "outputs": [],
   "source": [
    "from IPython.core.magic import register_line_cell_magic\n",
    "\n",
    "@register_line_cell_magic\n",
    "def writetemplate(line, cell):\n",
    "    with open(line, 'w') as f:\n",
    "        f.write(cell.format(**globals()))"
   ]
  },
  {
   "cell_type": "markdown",
   "id": "adequate-depression",
   "metadata": {},
   "source": [
    "## Train Iris Models\n",
    "\n",
    "We will train:\n",
    "\n",
    "  * A sklearn logistic regression model\n",
    "  * A xgboost model"
   ]
  },
  {
   "cell_type": "code",
   "execution_count": null,
   "id": "written-award",
   "metadata": {},
   "outputs": [],
   "source": [
    "from sklearn import datasets\n",
    "from sklearn.linear_model import LogisticRegression\n",
    "import joblib\n",
    "iris = datasets.load_iris()\n",
    "X = iris.data  # we only take the first two features.\n",
    "y = iris.target\n",
    "logreg = LogisticRegression(C=1e5)\n",
    "logreg.fit(X, y)\n",
    "logreg.predict_proba(X[0:1])\n",
    "with open(\"./artifacts/sklearn/model.joblib\",\"wb\") as f:\n",
    "    joblib.dump(logreg, f)"
   ]
  },
  {
   "cell_type": "code",
   "execution_count": null,
   "id": "specialized-purse",
   "metadata": {},
   "outputs": [],
   "source": [
    "from xgboost import XGBClassifier\n",
    "clf = XGBClassifier()\n",
    "clf.fit(X,y)\n",
    "clf.save_model(\"./artifacts/xgboost/model.bst\")"
   ]
  },
  {
   "cell_type": "markdown",
   "id": "biological-absolute",
   "metadata": {},
   "source": [
    "## Defining pipeline\n",
    "\n",
    "The first step will be to define our custom pipeline.\n",
    "This pipeline will access 2 models, stored remotely. "
   ]
  },
  {
   "cell_type": "code",
   "execution_count": null,
   "id": "impossible-billy",
   "metadata": {},
   "outputs": [],
   "source": [
    "import os\n",
    "import numpy as np\n",
    "from typing import Tuple\n",
    "from tempo.serve.metadata import ModelFramework, KubernetesOptions, RuntimeOptions\n",
    "from tempo.serve.model import Model\n",
    "from tempo.seldon.protocol import SeldonProtocol\n",
    "from tempo.seldon.docker import SeldonDockerRuntime\n",
    "from tempo.kfserving.protocol import KFServingV2Protocol, KFServingV1Protocol\n",
    "from tempo.kfserving.k8s import KFServingKubernetesRuntime\n",
    "from tempo.serve.utils import pipeline, predictmethod\n",
    "from tempo.seldon.k8s import SeldonKubernetesRuntime\n",
    "from tempo.serve.utils import pipeline\n",
    "from tempo.serve.loader import upload, save\n",
    "\n",
    "import logging\n",
    "logging.basicConfig(level=logging.INFO)\n",
    "\n",
    "SKLEARN_FOLDER = os.getcwd()+\"/artifacts/sklearn\"\n",
    "XGBOOST_FOLDER = os.getcwd()+\"/artifacts/xgboost\"\n",
    "PIPELINE_ARTIFACTS_FOLDER = os.getcwd()+\"/artifacts/classifier\"\n",
    "\n",
    "runtimeOptions=RuntimeOptions(  \n",
    "                              k8s_options=KubernetesOptions( \n",
    "                                        defaultRuntime=\"tempo.kfserving.KFServingKubernetesRuntime\",\n",
    "                                        namespace=\"production\",\n",
    "                                        serviceAccountName=\"kf-tempo\")\n",
    "                              )\n",
    "\n",
    "\n",
    "sklearn_model = Model(\n",
    "        name=\"test-iris-sklearn\",\n",
    "        platform=ModelFramework.SKLearn,\n",
    "        protocol=KFServingV2Protocol(),\n",
    "        runtime_options=runtimeOptions,\n",
    "        local_folder=SKLEARN_FOLDER,\n",
    "        uri=\"s3://tempo/basic/sklearn\",\n",
    "        inputs=np.ndarray,\n",
    "        outputs=np.ndarray\n",
    ")\n",
    "\n",
    "xgboost_model = Model(\n",
    "        name=\"test-iris-xgboost\",\n",
    "        platform=ModelFramework.XGBoost,\n",
    "        protocol=KFServingV2Protocol(),\n",
    "        runtime_options=runtimeOptions,\n",
    "        local_folder=XGBOOST_FOLDER,\n",
    "        uri=\"s3://tempo/basic/xgboost\",\n",
    "        inputs=np.ndarray,\n",
    "        outputs=np.ndarray    \n",
    ")\n",
    "\n",
    "@pipeline(name=\"classifier\",\n",
    "          uri=\"s3://tempo/basic/pipeline\",\n",
    "          local_folder=PIPELINE_ARTIFACTS_FOLDER,\n",
    "          runtime_options=runtimeOptions,\n",
    "          models=[sklearn_model, xgboost_model])\n",
    "def classifier(payload: np.ndarray) -> Tuple[np.ndarray,str]:\n",
    "    res1 = sklearn_model(input=payload)\n",
    "    print(res1)\n",
    "    if res1[0] == 1:\n",
    "        return res1,\"sklearn prediction\"\n",
    "    else:\n",
    "        return xgboost_model(input=payload),\"xgboost prediction\""
   ]
  },
  {
   "cell_type": "markdown",
   "id": "widespread-pacific",
   "metadata": {},
   "source": [
    "### Saving artifacts\n",
    "\n",
    "We provide a conda yaml in out `local_folder` which tempo will use as the runtime environment to save. If this file was not there it would save the current conda environment. One can also provide a named conda environment with `conda_env` in the decorator."
   ]
  },
  {
   "cell_type": "code",
   "execution_count": null,
   "id": "ca20654d",
   "metadata": {},
   "outputs": [],
   "source": [
    "import sys\n",
    "import os\n",
    "PYTHON_VERSION = f\"{sys.version_info.major}.{sys.version_info.minor}.{sys.version_info.micro}\"\n",
    "TEMPO_DIR = os.path.abspath(os.path.join(os.getcwd(), '..', '..', '..'))"
   ]
  },
  {
   "cell_type": "code",
   "execution_count": null,
   "id": "af4e3852",
   "metadata": {},
   "outputs": [],
   "source": [
    "%%writetemplate artifacts/classifier/conda.yaml\n",
    "name: tempo\n",
    "channels:\n",
    "  - defaults\n",
    "dependencies:\n",
    "  - python={PYTHON_VERSION}\n",
    "  - pip:\n",
    "    - mlops-tempo @ file://{TEMPO_DIR}\n",
    "    - mlserver==0.3.1.dev7"
   ]
  },
  {
   "cell_type": "code",
   "execution_count": null,
   "id": "charged-compensation",
   "metadata": {},
   "outputs": [],
   "source": [
    "k8s_runtime = KFServingKubernetesRuntime()\n",
    "save(classifier, k8s_runtime, save_env=True)"
   ]
  },
  {
   "cell_type": "markdown",
   "id": "worse-translator",
   "metadata": {},
   "source": [
    "## Deploying pipeline to K8s\n",
    "\n",
    "The next step, will be to deploy our pipeline to Kubernetes.\n",
    "We will divide this process into 3 sub-steps:\n",
    "\n",
    "1. Save our artifacts and environment\n",
    "2. Upload to remote storage\n",
    "3. Deploy resources"
   ]
  },
  {
   "cell_type": "markdown",
   "id": "configured-underground",
   "metadata": {},
   "source": [
    "### Setup Namespace with Minio Secret"
   ]
  },
  {
   "cell_type": "code",
   "execution_count": null,
   "id": "future-apollo",
   "metadata": {},
   "outputs": [],
   "source": [
    "!kubectl create namespace production"
   ]
  },
  {
   "cell_type": "code",
   "execution_count": null,
   "id": "alert-suicide",
   "metadata": {},
   "outputs": [],
   "source": [
    "%%writefile auth.yaml\n",
    "---\n",
    "apiVersion: v1\n",
    "kind: Secret\n",
    "metadata:\n",
    "  name: minio-secret\n",
    "  annotations:\n",
    "     serving.kubeflow.org/s3-endpoint: minio.minio-system.svc.cluster.local:9000 # replace with your s3 endpoint\n",
    "     serving.kubeflow.org/s3-usehttps: \"0\" # by default 1, for testing with minio you need to set to 0\n",
    "type: Opaque\n",
    "stringData:\n",
    "  AWS_ACCESS_KEY_ID: minioadmin\n",
    "  AWS_SECRET_ACCESS_KEY: minioadmin\n",
    "---\n",
    "apiVersion: v1\n",
    "kind: ServiceAccount\n",
    "metadata:\n",
    "  name: kf-tempo\n",
    "secrets:\n",
    "- name: minio-secret\n",
    "---\n",
    "apiVersion: rbac.authorization.k8s.io/v1\n",
    "kind: Role\n",
    "metadata:\n",
    "  name: kf-tempo\n",
    "rules:\n",
    "  - apiGroups:\n",
    "      - machinelearning.seldon.io\n",
    "    resources:\n",
    "      - seldondeployments/status\n",
    "    verbs:\n",
    "      - get\n",
    "  - apiGroups:\n",
    "      - serving.kubeflow.org\n",
    "    resources:\n",
    "      - inferenceservices/status\n",
    "    verbs:\n",
    "      - get\n",
    "---\n",
    "apiVersion: rbac.authorization.k8s.io/v1\n",
    "kind: RoleBinding\n",
    "metadata:\n",
    "  name: tempo-pipeline-rolebinding\n",
    "roleRef:\n",
    "  apiGroup: rbac.authorization.k8s.io\n",
    "  kind: Role\n",
    "  name: kf-tempo\n",
    "subjects:\n",
    "  - kind: ServiceAccount\n",
    "    name: kf-tempo"
   ]
  },
  {
   "cell_type": "code",
   "execution_count": null,
   "id": "amended-boutique",
   "metadata": {},
   "outputs": [],
   "source": [
    "!kubectl apply -f auth.yaml -n production"
   ]
  },
  {
   "cell_type": "markdown",
   "id": "aboriginal-worry",
   "metadata": {},
   "source": [
    "### Uploading artifacts"
   ]
  },
  {
   "cell_type": "code",
   "execution_count": null,
   "id": "joint-bahrain",
   "metadata": {},
   "outputs": [],
   "source": [
    "MINIO_IP=!kubectl get svc minio -n minio-system -o jsonpath='{.status.loadBalancer.ingress[0].ip}'\n",
    "MINIO_IP=MINIO_IP[0]"
   ]
  },
  {
   "cell_type": "code",
   "execution_count": null,
   "id": "burning-parcel",
   "metadata": {},
   "outputs": [],
   "source": [
    "%%writetemplate rclone.conf\n",
    "[s3]\n",
    "type = s3\n",
    "provider = minio\n",
    "env_auth = false\n",
    "access_key_id = minioadmin\n",
    "secret_access_key = minioadmin\n",
    "endpoint = http://{MINIO_IP}:9000"
   ]
  },
  {
   "cell_type": "code",
   "execution_count": null,
   "id": "quick-handy",
   "metadata": {},
   "outputs": [],
   "source": [
    "import os\n",
    "from tempo.conf import settings\n",
    "settings.rclone_cfg = os.getcwd() + \"/rclone.conf\""
   ]
  },
  {
   "cell_type": "code",
   "execution_count": null,
   "id": "essential-south",
   "metadata": {},
   "outputs": [],
   "source": [
    "upload(sklearn_model)\n",
    "upload(xgboost_model)\n",
    "upload(classifier)"
   ]
  },
  {
   "cell_type": "markdown",
   "id": "still-arizona",
   "metadata": {},
   "source": [
    "### Deploy"
   ]
  },
  {
   "cell_type": "code",
   "execution_count": null,
   "id": "absent-cable",
   "metadata": {},
   "outputs": [],
   "source": [
    "k8s_runtime.deploy(classifier)\n",
    "k8s_runtime.wait_ready(classifier)"
   ]
  },
  {
   "cell_type": "markdown",
   "id": "outside-listing",
   "metadata": {},
   "source": [
    "### Sending requests\n",
    "\n",
    "Lastly, we can now send requests to our deployed pipeline.\n",
    "For this, we will leverage the `remote()` method, which will interact without our deployed pipeline (as opposed to executing our pipeline's code locally)."
   ]
  },
  {
   "cell_type": "code",
   "execution_count": null,
   "id": "c05341bb",
   "metadata": {},
   "outputs": [],
   "source": [
    "from tempo.utils import tempo_settings\n",
    "tempo_settings.remote_kubernetes(True)"
   ]
  },
  {
   "cell_type": "code",
   "execution_count": null,
   "id": "hollow-kansas",
   "metadata": {},
   "outputs": [],
   "source": [
    "classifier(payload=np.array([[1, 2, 3, 4]]))"
   ]
  },
  {
   "cell_type": "code",
   "execution_count": null,
   "id": "federal-insulation",
   "metadata": {},
   "outputs": [],
   "source": [
    "classifier.remote(payload=np.array([[1, 2, 3, 4]]))"
   ]
  },
  {
   "cell_type": "code",
   "execution_count": null,
   "id": "wooden-paradise",
   "metadata": {},
   "outputs": [],
   "source": [
    "classifier.remote(payload=np.array([[5.964,4.006,2.081,1.031]]))"
   ]
  },
  {
   "cell_type": "markdown",
   "id": "protected-warehouse",
   "metadata": {},
   "source": [
    "### Undeploy pipeline"
   ]
  },
  {
   "cell_type": "code",
   "execution_count": null,
   "id": "comic-rebate",
   "metadata": {},
   "outputs": [],
   "source": [
    "k8s_runtime.undeploy(classifier)"
   ]
  },
  {
   "cell_type": "code",
   "execution_count": null,
   "id": "tamil-diesel",
   "metadata": {},
   "outputs": [],
   "source": []
  }
 ],
 "metadata": {
  "kernelspec": {
   "display_name": "Python 3",
   "language": "python",
   "name": "python3"
  },
  "language_info": {
   "codemirror_mode": {
    "name": "ipython",
    "version": 3
   },
   "file_extension": ".py",
   "mimetype": "text/x-python",
   "name": "python",
   "nbconvert_exporter": "python",
   "pygments_lexer": "ipython3",
   "version": "3.7.9"
  }
 },
 "nbformat": 4,
 "nbformat_minor": 5
}
