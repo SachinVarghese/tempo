{
 "cells": [
  {
   "cell_type": "markdown",
   "id": "promotional-immune",
   "metadata": {},
   "source": [
    "# Outlier Detection with CIFAR10 using Alibi-Detect\n",
    "\n"
   ]
  },
  {
   "cell_type": "markdown",
   "id": "special-bouquet",
   "metadata": {},
   "source": [
    "## Conda env create\n",
    "\n",
    "We create a conda environment for the runtime of our explainer from the `./artifacts/income_explainer/conda.yaml`\n",
    "**This only needs to be done once**."
   ]
  },
  {
   "cell_type": "code",
   "execution_count": null,
   "id": "patent-kansas",
   "metadata": {},
   "outputs": [],
   "source": [
    "!conda env create --name tempo-outlier-example --file ./artifacts/cifar10_outlier/conda.yaml"
   ]
  },
  {
   "cell_type": "code",
   "execution_count": 1,
   "id": "functioning-guidance",
   "metadata": {},
   "outputs": [],
   "source": [
    "import cloudpickle\n",
    "import tensorflow as tf\n",
    "import matplotlib.pyplot as plt\n",
    "\n",
    "from tempo.serve.metadata import ModelFramework\n",
    "from tempo.serve.model import Model\n",
    "from tempo.seldon.docker import SeldonDockerRuntime\n",
    "from tempo.kfserving.protocol import KFServingV2Protocol, KFServingV1Protocol\n",
    "from tempo.serve.utils import pipeline, predictmethod, model\n",
    "from tempo.seldon.k8s import SeldonKubernetesRuntime\n",
    "from tempo.kfserving.k8s import KFServingKubernetesRuntime\n",
    "from tempo.serve.metadata import ModelFramework, KubernetesOptions\n",
    "from alibi.utils.wrappers import ArgmaxTransformer\n",
    "from typing import Any\n",
    "\n",
    "import numpy as np\n",
    "import os \n",
    "import pprint\n",
    "import json\n",
    "\n",
    "OUTLIER_FOLDER = os.getcwd()+\"/artifacts/cifar10_outlier\"\n",
    "MODEL_FOLDER = os.getcwd()+\"/artifacts/cifar10_model\"\n",
    "SVC_FOLDER = os.getcwd()+\"/artifacts/svc\""
   ]
  },
  {
   "cell_type": "code",
   "execution_count": 2,
   "id": "tracked-smith",
   "metadata": {},
   "outputs": [],
   "source": [
    "import logging\n",
    "import matplotlib.pyplot as plt\n",
    "import numpy as np\n",
    "import tensorflow as tf\n",
    "tf.keras.backend.clear_session()\n",
    "from tensorflow.keras.layers import Conv2D, Conv2DTranspose, Dense, Layer, Reshape, InputLayer\n",
    "from tqdm import tqdm\n",
    "\n",
    "from alibi_detect.models.losses import elbo\n",
    "from alibi_detect.od import OutlierVAE\n",
    "from alibi_detect.utils.fetching import fetch_detector\n",
    "from alibi_detect.utils.perturbation import apply_mask\n",
    "from alibi_detect.utils.saving import load_detector\n",
    "from alibi_detect.utils.visualize import plot_instance_score, plot_feature_outlier_image"
   ]
  },
  {
   "cell_type": "code",
   "execution_count": 3,
   "id": "generic-separate",
   "metadata": {},
   "outputs": [],
   "source": [
    "class NumpyEncoder(json.JSONEncoder):\n",
    "    def default(self, obj):  # pylint: disable=arguments-differ,method-hidden\n",
    "        if isinstance(\n",
    "            obj,\n",
    "            (\n",
    "                np.int_,\n",
    "                np.intc,\n",
    "                np.intp,\n",
    "                np.int8,\n",
    "                np.int16,\n",
    "                np.int32,\n",
    "                np.int64,\n",
    "                np.uint8,\n",
    "                np.uint16,\n",
    "                np.uint32,\n",
    "                np.uint64,\n",
    "            ),\n",
    "        ):\n",
    "            return int(obj)\n",
    "        elif isinstance(obj, (np.float_, np.float16, np.float32, np.float64)):\n",
    "            return float(obj)\n",
    "        elif isinstance(obj, (np.ndarray,)):\n",
    "            return obj.tolist()\n",
    "        return json.JSONEncoder.default(self, obj)\n"
   ]
  },
  {
   "cell_type": "code",
   "execution_count": 4,
   "id": "breathing-laugh",
   "metadata": {},
   "outputs": [],
   "source": [
    "def show_image(X):\n",
    "    plt.imshow(X.reshape(32, 32, 3))\n",
    "    plt.axis('off')\n",
    "    plt.show()"
   ]
  },
  {
   "cell_type": "code",
   "execution_count": 5,
   "id": "divine-applicant",
   "metadata": {},
   "outputs": [
    {
     "name": "stdout",
     "output_type": "stream",
     "text": [
      "(50000, 32, 32, 3) (50000, 1) (10000, 32, 32, 3) (10000, 1)\n"
     ]
    }
   ],
   "source": [
    "train, test = tf.keras.datasets.cifar10.load_data()\n",
    "X_train, y_train = train\n",
    "X_test, y_test = test\n",
    "\n",
    "X_train = X_train.astype('float32') / 255\n",
    "X_test = X_test.astype('float32') / 255\n",
    "print(X_train.shape, y_train.shape, X_test.shape, y_test.shape)\n",
    "class_names = ['airplane', 'automobile', 'bird', 'cat', 'deer',\n",
    "               'dog', 'frog', 'horse', 'ship', 'truck']"
   ]
  },
  {
   "cell_type": "markdown",
   "id": "detailed-plaza",
   "metadata": {},
   "source": [
    "## Create Tempo Artifacts"
   ]
  },
  {
   "cell_type": "code",
   "execution_count": 6,
   "id": "limiting-coordinate",
   "metadata": {},
   "outputs": [],
   "source": [
    "cifar10_model = Model(\n",
    "        name=\"resnet32\",\n",
    "        runtime=SeldonDockerRuntime(protocol=KFServingV1Protocol()),\n",
    "        platform=ModelFramework.Tensorflow,\n",
    "        uri=\"gs://seldon-models/tfserving/cifar10/resnet32\",\n",
    "        local_folder=MODEL_FOLDER,\n",
    "    )\n",
    "\n",
    "@model(\n",
    "        name=\"outlier\",\n",
    "        platform=ModelFramework.TempoPipeline,\n",
    "        runtime=SeldonDockerRuntime(protocol=KFServingV2Protocol()),\n",
    "        uri=\"gs://seldon-models/tempo/cifar10/outlier\",\n",
    "        conda_env=\"tempo-outlier-example\",\n",
    "        local_folder=OUTLIER_FOLDER,\n",
    "    )\n",
    "class OutlierModel(object):\n",
    "    \n",
    "    def __init__(self):\n",
    "        self.loaded = False\n",
    "        \n",
    "    def load(self):\n",
    "        if \"MLSERVER_MODELS_DIR\" in os.environ:\n",
    "            models_folder = \"/mnt/models\"\n",
    "        else:\n",
    "            models_folder = OUTLIER_FOLDER\n",
    "        self.od = load_detector(models_folder+\"/cifar10\")\n",
    "        self.loaded = True\n",
    "        \n",
    "    def unload(self):\n",
    "        self.od = None\n",
    "        self.loaded = False\n",
    "        \n",
    "    @predictmethod\n",
    "    def outlier(self, payload: np.ndarray) -> dict:\n",
    "        if not self.loaded:\n",
    "            self.load()\n",
    "        print(\"Outlier called\")\n",
    "        od_preds = self.od.predict(payload,\n",
    "                      outlier_type='instance',    # use 'feature' or 'instance' level\n",
    "                      return_feature_score=True,  # scores used to determine outliers\n",
    "                      return_instance_score=True)\n",
    "        \n",
    "        return json.loads(json.dumps(od_preds, cls=NumpyEncoder))\n",
    "    \n",
    "outlier = OutlierModel()\n",
    "\n",
    "@pipeline(\n",
    "        name=\"cifar10-service\",\n",
    "        runtime=SeldonDockerRuntime(protocol=KFServingV2Protocol()),\n",
    "        uri=\"gs://seldon-models/tempo/cifar10/svc\",\n",
    "        conda_env=\"tempo-outlier-example\",\n",
    "        local_folder=SVC_FOLDER,\n",
    "        models=[outlier, cifar10_model]\n",
    "    )\n",
    "class Cifar10(object):\n",
    "        \n",
    "    @predictmethod\n",
    "    def predict(self, payload: np.ndarray) -> np.ndarray:\n",
    "        r = outlier(payload=payload)\n",
    "        if r[\"data\"][\"is_outlier\"][0]:\n",
    "            return np.array([])\n",
    "        else:\n",
    "            return cifar10_model(payload)\n",
    "\n",
    "        \n",
    "svc = Cifar10()"
   ]
  },
  {
   "cell_type": "code",
   "execution_count": 7,
   "id": "electric-nation",
   "metadata": {},
   "outputs": [],
   "source": [
    "idx = 1\n",
    "X = X_train[idx:idx+1]\n",
    "np.random.seed(0) \n",
    "X_mask, mask = apply_mask(X.reshape(1, 32, 32, 3),\n",
    "                                  mask_size=(10,10),\n",
    "                                  n_masks=1,\n",
    "                                  channels=[0,1,2],\n",
    "                                  mask_type='normal',\n",
    "                                  noise_distr=(0,1),\n",
    "                                  clip_rng=(0,1))"
   ]
  },
  {
   "cell_type": "markdown",
   "id": "golden-jerusalem",
   "metadata": {},
   "source": [
    "## Test on docker with local pipelines"
   ]
  },
  {
   "cell_type": "code",
   "execution_count": null,
   "id": "convenient-imperial",
   "metadata": {},
   "outputs": [],
   "source": [
    "cifar10_model.download()"
   ]
  },
  {
   "cell_type": "code",
   "execution_count": null,
   "id": "comfortable-pennsylvania",
   "metadata": {},
   "outputs": [],
   "source": [
    "cifar10_model.deploy()\n",
    "cifar10_model.wait_ready()"
   ]
  },
  {
   "cell_type": "code",
   "execution_count": null,
   "id": "rolled-consent",
   "metadata": {},
   "outputs": [],
   "source": [
    "idx = 1\n",
    "X = X_test[idx].reshape(1, 32, 32, 3)\n",
    "plt.imshow(X.reshape(32, 32, 3))\n",
    "plt.axis('off')\n",
    "plt.show()\n",
    "print(\"class:\",class_names[y_test[idx][0]])\n",
    "print(\"prediction:\",class_names[cifar10_model(X_test[idx:idx+1])[0].argmax()])"
   ]
  },
  {
   "cell_type": "code",
   "execution_count": null,
   "id": "threatened-element",
   "metadata": {},
   "outputs": [],
   "source": [
    "show_image(X_mask)\n",
    "r = outlier(payload=X_mask)\n",
    "print(\"Is outlier:\",r[\"data\"][\"is_outlier\"][0] == 1)"
   ]
  },
  {
   "cell_type": "code",
   "execution_count": null,
   "id": "prostate-rubber",
   "metadata": {},
   "outputs": [],
   "source": [
    "svc.predict(X_test[idx:idx+1])"
   ]
  },
  {
   "cell_type": "code",
   "execution_count": null,
   "id": "ranging-rebate",
   "metadata": {},
   "outputs": [],
   "source": [
    "svc.predict(X_mask)"
   ]
  },
  {
   "cell_type": "markdown",
   "id": "cooperative-singles",
   "metadata": {},
   "source": [
    "## Test on Outlier on docker "
   ]
  },
  {
   "cell_type": "code",
   "execution_count": null,
   "id": "micro-essence",
   "metadata": {},
   "outputs": [],
   "source": [
    "outlier.unload()\n",
    "outlier.save(save_env=True)"
   ]
  },
  {
   "cell_type": "code",
   "execution_count": null,
   "id": "synthetic-fancy",
   "metadata": {},
   "outputs": [],
   "source": [
    "outlier.deploy()"
   ]
  },
  {
   "cell_type": "code",
   "execution_count": null,
   "id": "smaller-behavior",
   "metadata": {},
   "outputs": [],
   "source": [
    "show_image(X_mask)\n",
    "r = outlier.remote(payload=X_mask)\n",
    "print(\"Is outlier:\",r[\"data\"][\"is_outlier\"][0] == 1)"
   ]
  },
  {
   "cell_type": "code",
   "execution_count": null,
   "id": "religious-thinking",
   "metadata": {},
   "outputs": [],
   "source": [
    "show_image(X_test[0:1])\n",
    "r = outlier.remote(payload=X_test[0:1])\n",
    "print(\"Is outlier:\",r[\"data\"][\"is_outlier\"][0] == 1)"
   ]
  },
  {
   "cell_type": "markdown",
   "id": "entertaining-spank",
   "metadata": {},
   "source": [
    "## Test Svc on docker"
   ]
  },
  {
   "cell_type": "code",
   "execution_count": null,
   "id": "tight-future",
   "metadata": {},
   "outputs": [],
   "source": [
    "outlier.unload()\n",
    "svc.save(save_env=True)"
   ]
  },
  {
   "cell_type": "code",
   "execution_count": null,
   "id": "toxic-economics",
   "metadata": {},
   "outputs": [],
   "source": [
    "svc.deploy()"
   ]
  },
  {
   "cell_type": "code",
   "execution_count": null,
   "id": "played-terminology",
   "metadata": {},
   "outputs": [],
   "source": [
    "show_image(X_test[0:1])\n",
    "svc.remote(payload=X_test[0:1])"
   ]
  },
  {
   "cell_type": "code",
   "execution_count": null,
   "id": "following-faculty",
   "metadata": {},
   "outputs": [],
   "source": [
    "show_image(X_mask)\n",
    "svc.remote(payload=X_mask)"
   ]
  },
  {
   "cell_type": "markdown",
   "id": "naval-memorabilia",
   "metadata": {},
   "source": [
    "## Deploy to Kubernetes"
   ]
  },
  {
   "cell_type": "code",
   "execution_count": null,
   "id": "interesting-monkey",
   "metadata": {},
   "outputs": [],
   "source": [
    "!kubectl create namespace production"
   ]
  },
  {
   "cell_type": "code",
   "execution_count": null,
   "id": "worthy-attendance",
   "metadata": {},
   "outputs": [],
   "source": [
    "!kubectl apply -f ../../../k8s/tempo-pipeline-rbac.yaml -n production"
   ]
  },
  {
   "cell_type": "markdown",
   "id": "competent-fleece",
   "metadata": {},
   "source": [
    "## Deploy to Kubernetes with Seldon"
   ]
  },
  {
   "cell_type": "code",
   "execution_count": null,
   "id": "durable-chinese",
   "metadata": {},
   "outputs": [],
   "source": [
    "k8s_options = KubernetesOptions(namespace=\"production\")\n",
    "k8s_v1_runtime = SeldonKubernetesRuntime(k8s_options=k8s_options, protocol=KFServingV1Protocol())\n",
    "k8s_v2_runtime = SeldonKubernetesRuntime(k8s_options=k8s_options, protocol=KFServingV2Protocol())\n",
    "\n",
    "cifar10_model.set_runtime(k8s_v1_runtime)\n",
    "outlier.set_runtime(k8s_v2_runtime)\n",
    "svc.set_runtime(k8s_v2_runtime)"
   ]
  },
  {
   "cell_type": "code",
   "execution_count": null,
   "id": "threatened-satellite",
   "metadata": {},
   "outputs": [],
   "source": [
    "outlier.save(save_env=False)\n",
    "outlier.upload()"
   ]
  },
  {
   "cell_type": "code",
   "execution_count": null,
   "id": "monetary-carpet",
   "metadata": {},
   "outputs": [],
   "source": [
    "#svc.save(save_env=False)\n",
    "svc.upload()"
   ]
  },
  {
   "cell_type": "code",
   "execution_count": null,
   "id": "controlling-grave",
   "metadata": {},
   "outputs": [],
   "source": [
    "svc.deploy()\n",
    "svc.wait_ready()"
   ]
  },
  {
   "cell_type": "code",
   "execution_count": null,
   "id": "sonic-horror",
   "metadata": {},
   "outputs": [],
   "source": [
    "show_image(X_test[0:1])\n",
    "svc.remote(payload=X_test[0:1])"
   ]
  },
  {
   "cell_type": "code",
   "execution_count": null,
   "id": "compact-advice",
   "metadata": {},
   "outputs": [],
   "source": [
    "show_image(X_mask)\n",
    "svc.remote(payload=X_mask)"
   ]
  },
  {
   "cell_type": "code",
   "execution_count": null,
   "id": "official-robinson",
   "metadata": {},
   "outputs": [],
   "source": [
    "svc.undeploy()"
   ]
  },
  {
   "cell_type": "markdown",
   "id": "major-capability",
   "metadata": {},
   "source": [
    "## Deploy to Kubernetes with KFServing"
   ]
  },
  {
   "cell_type": "code",
   "execution_count": 8,
   "id": "contemporary-baghdad",
   "metadata": {},
   "outputs": [
    {
     "name": "stdout",
     "output_type": "stream",
     "text": [
      "Loading external kubernetes config\n",
      "Loading external kubernetes config\n"
     ]
    }
   ],
   "source": [
    "k8s_options = KubernetesOptions(namespace=\"production\")\n",
    "k8s_v1_runtime = KFServingKubernetesRuntime(k8s_options=k8s_options, protocol=KFServingV1Protocol())\n",
    "k8s_v2_runtime = KFServingKubernetesRuntime(k8s_options=k8s_options, protocol=KFServingV2Protocol())\n",
    "\n",
    "cifar10_model.set_runtime(k8s_v1_runtime)\n",
    "outlier.set_runtime(k8s_v2_runtime)\n",
    "svc.set_runtime(k8s_v2_runtime)"
   ]
  },
  {
   "cell_type": "code",
   "execution_count": null,
   "id": "english-australian",
   "metadata": {},
   "outputs": [],
   "source": [
    "cifar10_model.deploy()\n",
    "cifar10_model.wait_ready()"
   ]
  },
  {
   "cell_type": "code",
   "execution_count": null,
   "id": "engaging-quick",
   "metadata": {},
   "outputs": [],
   "source": [
    "idx = 1\n",
    "X = X_test[idx].reshape(1, 32, 32, 3)\n",
    "plt.imshow(X.reshape(32, 32, 3))\n",
    "plt.axis('off')\n",
    "plt.show()\n",
    "print(\"class:\",class_names[y_test[idx][0]])\n",
    "print(\"prediction:\",class_names[cifar10_model(X_test[idx:idx+1])[0].argmax()])"
   ]
  },
  {
   "cell_type": "code",
   "execution_count": null,
   "id": "treated-profile",
   "metadata": {},
   "outputs": [],
   "source": [
    "outlier.save(save_env=True)\n",
    "outlier.upload()"
   ]
  },
  {
   "cell_type": "code",
   "execution_count": null,
   "id": "sealed-inside",
   "metadata": {},
   "outputs": [],
   "source": [
    "outlier.deploy()\n",
    "outlier.wait_ready()"
   ]
  },
  {
   "cell_type": "code",
   "execution_count": null,
   "id": "atlantic-decimal",
   "metadata": {},
   "outputs": [],
   "source": [
    "show_image(X_mask)\n",
    "r = outlier.remote(payload=X_mask)\n",
    "print(\"Is outlier:\",r[\"data\"][\"is_outlier\"][0] == 1)"
   ]
  },
  {
   "cell_type": "code",
   "execution_count": 9,
   "id": "precise-niagara",
   "metadata": {},
   "outputs": [
    {
     "name": "stdout",
     "output_type": "stream",
     "text": [
      "Collecting packages...\n",
      "Packing environment at '/home/clive/anaconda3/envs/tempo-outlier-example' to '/home/clive/work/mlops/fork-tempo/docs/examples/outlier/artifacts/svc/environment.tar.gz'\n",
      "[########################################] | 100% Completed |  1min 37.1s\n"
     ]
    }
   ],
   "source": [
    "svc.save(save_env=True)\n",
    "svc.upload()"
   ]
  },
  {
   "cell_type": "code",
   "execution_count": 10,
   "id": "simplified-conference",
   "metadata": {},
   "outputs": [
    {
     "data": {
      "text/plain": [
       "True"
      ]
     },
     "execution_count": 10,
     "metadata": {},
     "output_type": "execute_result"
    }
   ],
   "source": [
    "svc.deploy()\n",
    "svc.wait_ready()"
   ]
  },
  {
   "cell_type": "code",
   "execution_count": 11,
   "id": "boxed-savings",
   "metadata": {
    "scrolled": true
   },
   "outputs": [
    {
     "data": {
      "image/png": "[encoded data removed]",
      "text/plain": [
       "<Figure size 432x288 with 1 Axes>"
      ]
     },
     "metadata": {
      "needs_background": "light"
     },
     "output_type": "display_data"
    },
    {
     "name": "stdout",
     "output_type": "stream",
     "text": [
      "Endpoint is  http://34.77.224.192/v2/models/cifar10-service/infer\n",
      "Loading external kubernetes config\n",
      "Headers are {'Host': 'cifar10-service.production.example.com'}\n"
     ]
    },
    {
     "data": {
      "text/plain": [
       "array([[3.92252275e-09, 1.20454766e-11, 2.66008660e-09, 9.99992609e-01,\n",
       "        2.52210419e-10, 5.40857116e-07, 6.75949923e-06, 4.75114522e-12,\n",
       "        6.90868118e-09, 1.07274354e-11]])"
      ]
     },
     "execution_count": 11,
     "metadata": {},
     "output_type": "execute_result"
    }
   ],
   "source": [
    "show_image(X_test[0:1])\n",
    "svc.remote(payload=X_test[0:1])"
   ]
  },
  {
   "cell_type": "code",
   "execution_count": 12,
   "id": "green-investment",
   "metadata": {},
   "outputs": [
    {
     "data": {
      "image/png": "[encoded data removed]",
      "text/plain": [
       "<Figure size 432x288 with 1 Axes>"
      ]
     },
     "metadata": {
      "needs_background": "light"
     },
     "output_type": "display_data"
    },
    {
     "name": "stdout",
     "output_type": "stream",
     "text": [
      "Endpoint is  http://34.77.224.192/v2/models/cifar10-service/infer\n",
      "Loading external kubernetes config\n",
      "Headers are {'Host': 'cifar10-service.production.example.com'}\n"
     ]
    },
    {
     "data": {
      "text/plain": [
       "array([], dtype=float64)"
      ]
     },
     "execution_count": 12,
     "metadata": {},
     "output_type": "execute_result"
    }
   ],
   "source": [
    "show_image(X_mask)\n",
    "svc.remote(payload=X_mask)"
   ]
  },
  {
   "cell_type": "code",
   "execution_count": null,
   "id": "massive-index",
   "metadata": {},
   "outputs": [],
   "source": [
    "svc.undeploy()"
   ]
  },
  {
   "cell_type": "code",
   "execution_count": null,
   "id": "relevant-words",
   "metadata": {},
   "outputs": [],
   "source": []
  }
 ],
 "metadata": {
  "kernelspec": {
   "display_name": "Python 3",
   "language": "python",
   "name": "python3"
  },
  "language_info": {
   "codemirror_mode": {
    "name": "ipython",
    "version": 3
   },
   "file_extension": ".py",
   "mimetype": "text/x-python",
   "name": "python",
   "nbconvert_exporter": "python",
   "pygments_lexer": "ipython3",
   "version": "3.7.9"
  }
 },
 "nbformat": 4,
 "nbformat_minor": 5
}
