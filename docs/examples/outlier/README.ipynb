{
 "cells": [
  {
   "cell_type": "markdown",
   "id": "parental-crack",
   "metadata": {},
   "source": [
    "# Outlier Detection with CIFAR10 using Alibi-Detect\n",
    "\n",
    "This examples show a Cifar10 prediction service with outlier detection. We ignore the prediction from our model if we suspect the input is an outlier.\n",
    "\n"
   ]
  },
  {
   "cell_type": "markdown",
   "id": "violent-induction",
   "metadata": {},
   "source": [
    "## Prerequisites\n",
    "\n",
    "This notebooks needs to be run in the `tempo-examples` conda environment defined below. Create from project root folder:\n",
    "\n",
    "```bash\n",
    "conda env create --name tempo-examples --file conda/tempo-examples.yaml\n",
    "```"
   ]
  },
  {
   "cell_type": "code",
   "execution_count": null,
   "id": "practical-literature",
   "metadata": {},
   "outputs": [],
   "source": [
    "!cat ../../../conda/tempo-examples.yaml"
   ]
  },
  {
   "cell_type": "code",
   "execution_count": null,
   "id": "sustained-taste",
   "metadata": {},
   "outputs": [],
   "source": [
    "from IPython.core.magic import register_line_cell_magic\n",
    "\n",
    "@register_line_cell_magic\n",
    "def writetemplate(line, cell):\n",
    "    with open(line, 'w') as f:\n",
    "        f.write(cell.format(**globals()))"
   ]
  },
  {
   "cell_type": "code",
   "execution_count": null,
   "id": "hungarian-judgment",
   "metadata": {},
   "outputs": [],
   "source": [
    "import cloudpickle\n",
    "import tensorflow as tf\n",
    "import matplotlib.pyplot as plt\n",
    "\n",
    "from tempo.serve.metadata import ModelFramework, RuntimeOptions\n",
    "from tempo.serve.model import Model\n",
    "from tempo.serve.pipeline import PipelineModels\n",
    "from tempo.seldon.docker import SeldonDockerRuntime\n",
    "from tempo.kfserving.protocol import KFServingV2Protocol, KFServingV1Protocol\n",
    "from tempo.serve.utils import pipeline, predictmethod, model\n",
    "from tempo.seldon.k8s import SeldonKubernetesRuntime\n",
    "from tempo.kfserving.k8s import KFServingKubernetesRuntime\n",
    "from tempo.serve.metadata import ModelFramework, KubernetesOptions\n",
    "from tempo.serve.loader import save, upload, download\n",
    "from alibi.utils.wrappers import ArgmaxTransformer\n",
    "from typing import Any\n",
    "\n",
    "import numpy as np\n",
    "import os \n",
    "import pprint\n",
    "import json\n",
    "\n",
    "OUTLIER_FOLDER = os.getcwd()+\"/artifacts/cifar10_outlier\"\n",
    "MODEL_FOLDER = os.getcwd()+\"/artifacts/cifar10_model\"\n",
    "SVC_FOLDER = os.getcwd()+\"/artifacts/svc\"\n",
    "\n",
    "tf.get_logger().setLevel('INFO')\n",
    "\n",
    "import logging\n",
    "logging.basicConfig(level=logging.ERROR)"
   ]
  },
  {
   "cell_type": "code",
   "execution_count": null,
   "id": "understanding-repository",
   "metadata": {},
   "outputs": [],
   "source": [
    "import logging\n",
    "import matplotlib.pyplot as plt\n",
    "import numpy as np\n",
    "import tensorflow as tf\n",
    "tf.keras.backend.clear_session()\n",
    "from tensorflow.keras.layers import Conv2D, Conv2DTranspose, Dense, Layer, Reshape, InputLayer\n",
    "from tqdm import tqdm\n",
    "\n",
    "from alibi_detect.models.losses import elbo\n",
    "from alibi_detect.od import OutlierVAE\n",
    "from alibi_detect.utils.fetching import fetch_detector\n",
    "from alibi_detect.utils.perturbation import apply_mask\n",
    "from alibi_detect.utils.saving import load_detector\n",
    "from alibi_detect.utils.visualize import plot_instance_score, plot_feature_outlier_image"
   ]
  },
  {
   "cell_type": "code",
   "execution_count": null,
   "id": "satisfied-valley",
   "metadata": {},
   "outputs": [],
   "source": [
    "class NumpyEncoder(json.JSONEncoder):\n",
    "    def default(self, obj):  # pylint: disable=arguments-differ,method-hidden\n",
    "        if isinstance(\n",
    "            obj,\n",
    "            (\n",
    "                np.int_,\n",
    "                np.intc,\n",
    "                np.intp,\n",
    "                np.int8,\n",
    "                np.int16,\n",
    "                np.int32,\n",
    "                np.int64,\n",
    "                np.uint8,\n",
    "                np.uint16,\n",
    "                np.uint32,\n",
    "                np.uint64,\n",
    "            ),\n",
    "        ):\n",
    "            return int(obj)\n",
    "        elif isinstance(obj, (np.float_, np.float16, np.float32, np.float64)):\n",
    "            return float(obj)\n",
    "        elif isinstance(obj, (np.ndarray,)):\n",
    "            return obj.tolist()\n",
    "        return json.JSONEncoder.default(self, obj)\n"
   ]
  },
  {
   "cell_type": "code",
   "execution_count": null,
   "id": "czech-netherlands",
   "metadata": {},
   "outputs": [],
   "source": [
    "def show_image(X):\n",
    "    plt.imshow(X.reshape(32, 32, 3))\n",
    "    plt.axis('off')\n",
    "    plt.show()"
   ]
  },
  {
   "cell_type": "code",
   "execution_count": null,
   "id": "secure-holocaust",
   "metadata": {},
   "outputs": [],
   "source": [
    "train, test = tf.keras.datasets.cifar10.load_data()\n",
    "X_train, y_train = train\n",
    "X_test, y_test = test\n",
    "\n",
    "X_train = X_train.astype('float32') / 255\n",
    "X_test = X_test.astype('float32') / 255\n",
    "print(X_train.shape, y_train.shape, X_test.shape, y_test.shape)\n",
    "class_names = ['airplane', 'automobile', 'bird', 'cat', 'deer',\n",
    "               'dog', 'frog', 'horse', 'ship', 'truck']"
   ]
  },
  {
   "cell_type": "code",
   "execution_count": null,
   "id": "pretty-cooper",
   "metadata": {},
   "outputs": [],
   "source": [
    "%%writefile rclone.conf\n",
    "[gs]\n",
    "type = google cloud storage\n",
    "anonymous = true"
   ]
  },
  {
   "cell_type": "code",
   "execution_count": null,
   "id": "other-biotechnology",
   "metadata": {},
   "outputs": [],
   "source": [
    "import os\n",
    "from tempo.conf import settings\n",
    "settings.rclone_cfg = os.getcwd() + \"/rclone.conf\""
   ]
  },
  {
   "cell_type": "code",
   "execution_count": null,
   "id": "heated-grill",
   "metadata": {},
   "outputs": [],
   "source": [
    "load_pretrained = True\n",
    "if load_pretrained:  # load pre-trained detector\n",
    "    !rclone --config ./rclone.conf copy gs://seldon-models/tempo/cifar10/outlier/cifar10 ./artifacts/cifar10_outlier/cifar10\n",
    "else:  # define model, initialize, train and save outlier detector\n",
    "\n",
    "    # define encoder and decoder networks\n",
    "    latent_dim = 1024\n",
    "    encoder_net = tf.keras.Sequential(\n",
    "      [\n",
    "          InputLayer(input_shape=(32, 32, 3)),\n",
    "          Conv2D(64, 4, strides=2, padding='same', activation=tf.nn.relu),\n",
    "          Conv2D(128, 4, strides=2, padding='same', activation=tf.nn.relu),\n",
    "          Conv2D(512, 4, strides=2, padding='same', activation=tf.nn.relu)\n",
    "      ]\n",
    "    )\n",
    "\n",
    "    decoder_net = tf.keras.Sequential(\n",
    "      [\n",
    "          InputLayer(input_shape=(latent_dim,)),\n",
    "          Dense(4*4*128),\n",
    "          Reshape(target_shape=(4, 4, 128)),\n",
    "          Conv2DTranspose(256, 4, strides=2, padding='same', activation=tf.nn.relu),\n",
    "          Conv2DTranspose(64, 4, strides=2, padding='same', activation=tf.nn.relu),\n",
    "          Conv2DTranspose(3, 4, strides=2, padding='same', activation='sigmoid')\n",
    "      ]\n",
    "    )\n",
    "\n",
    "    # initialize outlier detector\n",
    "    od = OutlierVAE(\n",
    "        threshold=.015,  # threshold for outlier score\n",
    "        encoder_net=encoder_net,  # can also pass VAE model instead\n",
    "        decoder_net=decoder_net,  # of separate encoder and decoder\n",
    "        latent_dim=latent_dim\n",
    "    )\n",
    "\n",
    "    # train\n",
    "    od.fit(X_train, epochs=50, verbose=False)\n",
    "\n",
    "    # save the trained outlier detector\n",
    "    save_detector(od, filepath)"
   ]
  },
  {
   "cell_type": "markdown",
   "id": "historical-channels",
   "metadata": {},
   "source": [
    "## Create Tempo Artifacts"
   ]
  },
  {
   "cell_type": "code",
   "execution_count": null,
   "id": "completed-hebrew",
   "metadata": {},
   "outputs": [],
   "source": [
    "runtimeOptions=RuntimeOptions(  \n",
    "    k8s_options=KubernetesOptions( \n",
    "        namespace=\"production\",\n",
    "        authSecretName=\"minio-secret\"\n",
    "    )\n",
    ")\n",
    "\n",
    "\n",
    "cifar10_model = Model(\n",
    "    name=\"resnet32\",\n",
    "    protocol=KFServingV1Protocol(),\n",
    "    runtime_options=runtimeOptions,\n",
    "    platform=ModelFramework.Tensorflow,\n",
    "    uri=\"gs://seldon-models/tfserving/cifar10/resnet32\",\n",
    "    local_folder=MODEL_FOLDER,\n",
    ")\n",
    "\n",
    "\n",
    "@model(\n",
    "    name=\"outlier\",\n",
    "    platform=ModelFramework.TempoPipeline,\n",
    "    protocol=KFServingV2Protocol(),\n",
    "    runtime_options=runtimeOptions,\n",
    "    uri=\"s3://tempo/outlier/cifar10/outlier\",\n",
    "    local_folder=OUTLIER_FOLDER,\n",
    ")\n",
    "class OutlierModel(object):\n",
    "    \n",
    "    def __init__(self):\n",
    "        self.loaded = False\n",
    "        \n",
    "    def load(self):\n",
    "        if \"MLSERVER_MODELS_DIR\" in os.environ:\n",
    "            models_folder = \"/mnt/models\"\n",
    "        else:\n",
    "            models_folder = OUTLIER_FOLDER\n",
    "        print(f\"Loading from {models_folder}\")\n",
    "        self.od = load_detector(f\"{models_folder}/cifar10\")\n",
    "        self.loaded = True\n",
    "        \n",
    "    def unload(self):\n",
    "        self.od = None\n",
    "        self.loaded = False\n",
    "        \n",
    "    @predictmethod\n",
    "    def outlier(self, payload: np.ndarray) -> dict:\n",
    "        if not self.loaded:\n",
    "            self.load()\n",
    "        od_preds = self.od.predict(payload,\n",
    "                      outlier_type='instance',    # use 'feature' or 'instance' level\n",
    "                      return_feature_score=True,  # scores used to determine outliers\n",
    "                      return_instance_score=True)\n",
    "        \n",
    "        return json.loads(json.dumps(od_preds, cls=NumpyEncoder))   "
   ]
  },
  {
   "cell_type": "code",
   "execution_count": null,
   "id": "infinite-brooks",
   "metadata": {},
   "outputs": [],
   "source": [
    "outlier = OutlierModel()"
   ]
  },
  {
   "cell_type": "code",
   "execution_count": null,
   "id": "introductory-notification",
   "metadata": {},
   "outputs": [],
   "source": [
    "@pipeline(\n",
    "    name=\"cifar10-service\",\n",
    "    protocol=KFServingV2Protocol(),\n",
    "    runtime_options=runtimeOptions,\n",
    "    uri=\"s3://tempo/outlier/cifar10/svc\",\n",
    "    local_folder=SVC_FOLDER,\n",
    "    models=PipelineModels(outlier=outlier, cifar10=cifar10_model)\n",
    ")\n",
    "class Cifar10(object):\n",
    "        \n",
    "    @predictmethod\n",
    "    def predict(self, payload: np.ndarray) -> np.ndarray:\n",
    "        r = self.models.outlier(payload=payload)\n",
    "        if r[\"data\"][\"is_outlier\"][0]:\n",
    "            return np.array([])\n",
    "        else:\n",
    "            return self.models.cifar10(payload)\n",
    "\n",
    "        \n",
    "svc = Cifar10()"
   ]
  },
  {
   "cell_type": "code",
   "execution_count": null,
   "id": "alpine-maker",
   "metadata": {},
   "outputs": [],
   "source": [
    "idx = 1\n",
    "X = X_train[idx:idx+1]\n",
    "np.random.seed(0) \n",
    "X_mask, mask = apply_mask(X.reshape(1, 32, 32, 3),\n",
    "                                  mask_size=(10,10),\n",
    "                                  n_masks=1,\n",
    "                                  channels=[0,1,2],\n",
    "                                  mask_type='normal',\n",
    "                                  noise_distr=(0,1),\n",
    "                                  clip_rng=(0,1))"
   ]
  },
  {
   "cell_type": "markdown",
   "id": "great-wyoming",
   "metadata": {},
   "source": [
    "## Saving Artifacts"
   ]
  },
  {
   "cell_type": "code",
   "execution_count": null,
   "id": "unable-martial",
   "metadata": {},
   "outputs": [],
   "source": [
    "import sys\n",
    "import os\n",
    "PYTHON_VERSION = f\"{sys.version_info.major}.{sys.version_info.minor}.{sys.version_info.micro}\"\n",
    "TEMPO_DIR = os.path.abspath(os.path.join(os.getcwd(), '..', '..', '..'))"
   ]
  },
  {
   "cell_type": "code",
   "execution_count": null,
   "id": "behind-movie",
   "metadata": {},
   "outputs": [],
   "source": [
    "%%writetemplate artifacts/cifar10_outlier/conda.yaml\n",
    "name: tempo\n",
    "channels:\n",
    "  - defaults\n",
    "dependencies:\n",
    "  - python={PYTHON_VERSION}\n",
    "  - pip:\n",
    "    - alibi-detect\n",
    "    - dill\n",
    "    - opencv-python-headless\n",
    "    - mlops-tempo @ file://{TEMPO_DIR}\n",
    "    - mlserver==0.3.1.dev7"
   ]
  },
  {
   "cell_type": "code",
   "execution_count": null,
   "id": "fiscal-identification",
   "metadata": {},
   "outputs": [],
   "source": [
    "!mkdir -p artifacts/svc/"
   ]
  },
  {
   "cell_type": "code",
   "execution_count": null,
   "id": "connected-exception",
   "metadata": {},
   "outputs": [],
   "source": [
    "%%writetemplate artifacts/svc/conda.yaml\n",
    "name: tempo\n",
    "channels:\n",
    "  - defaults\n",
    "dependencies:\n",
    "  - python={PYTHON_VERSION}\n",
    "  - pip:\n",
    "    - mlops-tempo @ file://{TEMPO_DIR}\n",
    "    - mlserver==0.3.1.dev7"
   ]
  },
  {
   "cell_type": "code",
   "execution_count": null,
   "id": "suitable-variety",
   "metadata": {},
   "outputs": [],
   "source": [
    "save(outlier, save_env=True)"
   ]
  },
  {
   "cell_type": "code",
   "execution_count": null,
   "id": "informal-merit",
   "metadata": {},
   "outputs": [],
   "source": [
    "save(svc, save_env=True)"
   ]
  },
  {
   "cell_type": "markdown",
   "id": "frozen-resistance",
   "metadata": {},
   "source": [
    "## Test on docker with local pipelines"
   ]
  },
  {
   "cell_type": "code",
   "execution_count": null,
   "id": "romance-centre",
   "metadata": {},
   "outputs": [],
   "source": [
    "download(cifar10_model)"
   ]
  },
  {
   "cell_type": "markdown",
   "id": "attractive-safety",
   "metadata": {},
   "source": [
    "## Test Svc on docker"
   ]
  },
  {
   "cell_type": "code",
   "execution_count": null,
   "id": "married-charter",
   "metadata": {},
   "outputs": [],
   "source": [
    "docker_runtime = SeldonDockerRuntime()\n",
    "docker_runtime.deploy(svc)\n",
    "docker_runtime.wait_ready(svc)"
   ]
  },
  {
   "cell_type": "markdown",
   "id": "graduate-chess",
   "metadata": {},
   "source": [
    "Run first with our python code running locally and only calling out to the model externally"
   ]
  },
  {
   "cell_type": "code",
   "execution_count": null,
   "id": "occupational-floor",
   "metadata": {},
   "outputs": [],
   "source": [
    "show_image(X_test[0:1])\n",
    "svc(payload=X_test[0:1])"
   ]
  },
  {
   "cell_type": "markdown",
   "id": "stuck-syntax",
   "metadata": {},
   "source": [
    "Run again completely remotely."
   ]
  },
  {
   "cell_type": "code",
   "execution_count": null,
   "id": "further-balloon",
   "metadata": {},
   "outputs": [],
   "source": [
    "show_image(X_test[0:1])\n",
    "svc.remote(payload=X_test[0:1])"
   ]
  },
  {
   "cell_type": "code",
   "execution_count": null,
   "id": "biblical-cooper",
   "metadata": {},
   "outputs": [],
   "source": [
    "show_image(X_mask)\n",
    "svc.remote(payload=X_mask)"
   ]
  },
  {
   "cell_type": "code",
   "execution_count": null,
   "id": "transsexual-edwards",
   "metadata": {},
   "outputs": [],
   "source": [
    "docker_runtime.undeploy(svc)"
   ]
  },
  {
   "cell_type": "markdown",
   "id": "strange-affect",
   "metadata": {},
   "source": [
    "## Deploy to Kubernetes\n",
    "\n",
    "To create a Kubernetes cluster in Kind with all the required install use the ansible playbook defined  below.\n",
    "Create with\n",
    "\n",
    "```bash\n",
    "ansible-playbook ansible/playbooks/default.yaml\n",
    "```"
   ]
  },
  {
   "cell_type": "code",
   "execution_count": null,
   "id": "gross-format",
   "metadata": {},
   "outputs": [],
   "source": [
    "!cat ../../../ansible/playbooks/default.yaml"
   ]
  },
  {
   "cell_type": "code",
   "execution_count": null,
   "id": "liberal-abortion",
   "metadata": {},
   "outputs": [],
   "source": [
    "!kubectl create namespace production"
   ]
  },
  {
   "cell_type": "code",
   "execution_count": null,
   "id": "analyzed-poverty",
   "metadata": {},
   "outputs": [],
   "source": [
    "!kubectl apply -f ../../../k8s/tempo-pipeline-rbac.yaml -n production"
   ]
  },
  {
   "cell_type": "code",
   "execution_count": null,
   "id": "civilian-organ",
   "metadata": {},
   "outputs": [],
   "source": [
    "%%writefile minio-secret.yaml\n",
    "\n",
    "apiVersion: v1\n",
    "kind: Secret\n",
    "metadata:\n",
    "  name: minio-secret\n",
    "type: Opaque\n",
    "stringData:\n",
    "  AWS_ACCESS_KEY_ID: minioadmin\n",
    "  AWS_SECRET_ACCESS_KEY: minioadmin\n",
    "  AWS_ENDPOINT_URL: http://minio.minio-system.svc.cluster.local:9000\n",
    "  USE_SSL: \"false\""
   ]
  },
  {
   "cell_type": "code",
   "execution_count": null,
   "id": "perfect-assurance",
   "metadata": {},
   "outputs": [],
   "source": [
    "!kubectl apply -f minio-secret.yaml -n production"
   ]
  },
  {
   "cell_type": "markdown",
   "id": "controversial-combining",
   "metadata": {},
   "source": [
    "### Uploading artifacts"
   ]
  },
  {
   "cell_type": "code",
   "execution_count": null,
   "id": "center-celebration",
   "metadata": {},
   "outputs": [],
   "source": [
    "MINIO_IP=!kubectl get svc minio -n minio-system -o jsonpath='{.status.loadBalancer.ingress[0].ip}'\n",
    "MINIO_IP=MINIO_IP[0]"
   ]
  },
  {
   "cell_type": "code",
   "execution_count": null,
   "id": "literary-subscriber",
   "metadata": {},
   "outputs": [],
   "source": [
    "%%writetemplate rclone.conf\n",
    "[gs]\n",
    "type = google cloud storage\n",
    "anonymous = true\n",
    "\n",
    "[s3]\n",
    "type = s3\n",
    "provider = minio\n",
    "env_auth = false\n",
    "access_key_id = minioadmin\n",
    "secret_access_key = minioadmin\n",
    "endpoint = http://{MINIO_IP}:9000"
   ]
  },
  {
   "cell_type": "code",
   "execution_count": null,
   "id": "latest-revolution",
   "metadata": {},
   "outputs": [],
   "source": [
    "import os\n",
    "from tempo.conf import settings\n",
    "settings.rclone_cfg = os.getcwd() + \"/rclone.conf\""
   ]
  },
  {
   "cell_type": "code",
   "execution_count": null,
   "id": "running-adoption",
   "metadata": {},
   "outputs": [],
   "source": [
    "upload(outlier)\n",
    "upload(svc)"
   ]
  },
  {
   "cell_type": "markdown",
   "id": "optical-danger",
   "metadata": {},
   "source": [
    "## Deploy to Kubernetes with Seldon"
   ]
  },
  {
   "cell_type": "code",
   "execution_count": null,
   "id": "electrical-acoustic",
   "metadata": {},
   "outputs": [],
   "source": [
    "k8s_runtime = SeldonKubernetesRuntime()\n",
    "k8s_runtime.deploy(svc)\n",
    "k8s_runtime.wait_ready(svc)"
   ]
  },
  {
   "cell_type": "code",
   "execution_count": null,
   "id": "studied-momentum",
   "metadata": {},
   "outputs": [],
   "source": [
    "from tempo.utils import tempo_settings\n",
    "tempo_settings.remote_kubernetes(True)"
   ]
  },
  {
   "cell_type": "code",
   "execution_count": null,
   "id": "classified-snowboard",
   "metadata": {},
   "outputs": [],
   "source": [
    "show_image(X_test[0:1])\n",
    "svc.remote(payload=X_test[0:1])"
   ]
  },
  {
   "cell_type": "code",
   "execution_count": null,
   "id": "steady-burns",
   "metadata": {},
   "outputs": [],
   "source": [
    "show_image(X_mask)\n",
    "svc.remote(payload=X_mask)"
   ]
  },
  {
   "cell_type": "code",
   "execution_count": null,
   "id": "clean-grace",
   "metadata": {},
   "outputs": [],
   "source": [
    "k8s_runtime.undeploy(svc)"
   ]
  },
  {
   "cell_type": "code",
   "execution_count": null,
   "id": "fc6849d3",
   "metadata": {},
   "outputs": [],
   "source": []
  }
 ],
 "metadata": {
  "kernelspec": {
   "display_name": "Python 3",
   "language": "python",
   "name": "python3"
  },
  "language_info": {
   "codemirror_mode": {
    "name": "ipython",
    "version": 3
   },
   "file_extension": ".py",
   "mimetype": "text/x-python",
   "name": "python",
   "nbconvert_exporter": "python",
   "pygments_lexer": "ipython3",
   "version": "3.7.9"
  }
 },
 "nbformat": 4,
 "nbformat_minor": 5
}
