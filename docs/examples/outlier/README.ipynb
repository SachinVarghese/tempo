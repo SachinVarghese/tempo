{
 "cells": [
  {
   "cell_type": "markdown",
   "id": "8ef410d1",
   "metadata": {},
   "source": [
    "# Outlier Example\n",
    "\n",
    "![architecture](architecture.png)\n",
    "\n",
    "In this example we will:\n",
    "\n",
    "  * [Describe the project structure](#Project-Structure)\n",
    "  * [Train some models](#Train-Models)\n",
    "  * [Create Tempo artifacts](#Create-Tempo-Artifacts)\n",
    "  * [Run unit tests](#Unit-Tests)\n",
    "  * [Save python environment for our classifier](#Save-Classifier-Environment)\n",
    "  * [Test Locally on Docker](#Test-Locally-on-Docker)\n",
    "  * [Production on Kubernetes via Tempo](#Production-Option-1-(Deploy-to-Kubernetes-with-Tempo))\n",
    "  * [Prodiuction on Kuebrnetes via GitOps](#Production-Option-2-(Gitops))"
   ]
  },
  {
   "cell_type": "markdown",
   "id": "c86b5277",
   "metadata": {},
   "source": [
    "## Prerequisites\n",
    "\n",
    "This notebooks needs to be run in the `tempo-examples` conda environment defined below. Create from project root folder:\n",
    "\n",
    "```bash\n",
    "conda env create --name tempo-examples --file conda/tempo-examples.yaml\n",
    "```"
   ]
  },
  {
   "cell_type": "markdown",
   "id": "f12ce5e8",
   "metadata": {},
   "source": [
    "## Project Structure"
   ]
  },
  {
   "cell_type": "code",
   "execution_count": 1,
   "id": "b8ca70f9",
   "metadata": {
    "scrolled": true
   },
   "outputs": [
    {
     "name": "stdout",
     "output_type": "stream",
     "text": [
      "\u001b[01;34m.\u001b[00m\r\n",
      "├── \u001b[01;34martifacts\u001b[00m\r\n",
      "│   ├── \u001b[01;34mmodel\u001b[00m\r\n",
      "│   ├── \u001b[01;34moutlier\u001b[00m\r\n",
      "│   └── \u001b[01;34msvc\u001b[00m\r\n",
      "├── \u001b[01;34mk8s\u001b[00m\r\n",
      "│   └── \u001b[01;34mrbac\u001b[00m\r\n",
      "├── \u001b[01;34msrc\u001b[00m\r\n",
      "│   ├── constants.py\r\n",
      "│   ├── data.py\r\n",
      "│   ├── outlier.py\r\n",
      "│   ├── tempo.py\r\n",
      "│   └── utils.py\r\n",
      "└── \u001b[01;34mtests\u001b[00m\r\n",
      "    └── test_tempo.py\r\n",
      "\r\n",
      "8 directories, 6 files\r\n"
     ]
    }
   ],
   "source": [
    "!tree -P \"*.py\"  -I \"__init__.py|__pycache__\" -L 2"
   ]
  },
  {
   "cell_type": "markdown",
   "id": "b55dad4f",
   "metadata": {},
   "source": [
    "## Train Models\n",
    "\n",
    " * This section is where as a data scientist you do your work of training models and creating artfacts.\n",
    " * For this example we train sklearn and xgboost classification models for the iris dataset."
   ]
  },
  {
   "cell_type": "code",
   "execution_count": 2,
   "id": "42c20ffa",
   "metadata": {},
   "outputs": [],
   "source": [
    "import os\n",
    "from tempo.utils import logger\n",
    "import logging\n",
    "import numpy as np\n",
    "logger.setLevel(logging.ERROR)\n",
    "logging.basicConfig(level=logging.ERROR)\n",
    "ARTIFACTS_FOLDER = os.getcwd()+\"/artifacts\""
   ]
  },
  {
   "cell_type": "code",
   "execution_count": 3,
   "id": "aa35a350",
   "metadata": {},
   "outputs": [
    {
     "name": "stdout",
     "output_type": "stream",
     "text": [
      "(50000, 32, 32, 3) (50000, 1) (10000, 32, 32, 3) (10000, 1)\n"
     ]
    }
   ],
   "source": [
    "from src.data import Cifar10\n",
    "data = Cifar10()"
   ]
  },
  {
   "cell_type": "markdown",
   "id": "f4a06be4",
   "metadata": {},
   "source": [
    "Download pretrained Resnet32 Tensorflow model for CIFAR10"
   ]
  },
  {
   "cell_type": "code",
   "execution_count": 4,
   "id": "1ce59700",
   "metadata": {},
   "outputs": [],
   "source": [
    "!rclone --config ./rclone-gcs.conf copy gs://seldon-models/tfserving/cifar10/resnet32 ./artifacts/model"
   ]
  },
  {
   "cell_type": "markdown",
   "id": "fac873c0",
   "metadata": {},
   "source": [
    "Download or train an outlier detector on CIFAR10 data"
   ]
  },
  {
   "cell_type": "code",
   "execution_count": 5,
   "id": "e7bafec3",
   "metadata": {},
   "outputs": [],
   "source": [
    "load_pretrained = True\n",
    "if load_pretrained:  # load pre-trained detector\n",
    "    !rclone --config ./rclone-gcs.conf copy gs://seldon-models/tempo/cifar10/outlier/cifar10 ./artifacts/outlier/cifar10\n",
    "else:\n",
    "    from src.outlier import train_outlier_detector\n",
    "    train_outlier_detector(data, ARTIFACTS_FOLDER)"
   ]
  },
  {
   "cell_type": "markdown",
   "id": "c396b609",
   "metadata": {},
   "source": [
    "## Create Tempo Artifacts\n"
   ]
  },
  {
   "cell_type": "code",
   "execution_count": 6,
   "id": "a8345fb6",
   "metadata": {},
   "outputs": [],
   "source": [
    "from src.tempo import create_outlier_cls, create_model, create_svc_cls\n",
    "cifar10_model = create_model(ARTIFACTS_FOLDER)\n",
    "OutlierModel = create_outlier_cls(ARTIFACTS_FOLDER)\n",
    "outlier = OutlierModel()\n",
    "Cifar10Svc = create_svc_cls(outlier, cifar10_model, ARTIFACTS_FOLDER)\n",
    "svc = Cifar10Svc()"
   ]
  },
  {
   "cell_type": "code",
   "execution_count": null,
   "id": "c0b0af26",
   "metadata": {
    "code_folding": []
   },
   "outputs": [],
   "source": [
    "# %load src/tempo.py\n",
    "import json\n",
    "import os\n",
    "\n",
    "import numpy as np\n",
    "from src.constants import MODEL_FOLDER, OUTLIER_FOLDER\n",
    "\n",
    "from tempo.kfserving.protocol import KFServingV1Protocol, KFServingV2Protocol\n",
    "from tempo.serve.metadata import ModelFramework\n",
    "from tempo.serve.model import Model\n",
    "from tempo.serve.pipeline import PipelineModels\n",
    "from tempo.serve.utils import model, pipeline, predictmethod\n",
    "from alibi_detect.base import NumpyEncoder\n",
    "\n",
    "\n",
    "def create_outlier_cls(artifacts_folder: str):\n",
    "    @model(\n",
    "        name=\"outlier\",\n",
    "        platform=ModelFramework.TempoPipeline,\n",
    "        protocol=KFServingV2Protocol(),\n",
    "        uri=\"s3://tempo/outlier/cifar10/outlier\",\n",
    "        local_folder=f\"{artifacts_folder}/{OUTLIER_FOLDER}\",\n",
    "    )\n",
    "    class OutlierModel(object):\n",
    "\n",
    "        def __init__(self):\n",
    "            self.loaded = False\n",
    "\n",
    "        def load(self):\n",
    "            from alibi_detect.utils.saving import load_detector\n",
    "\n",
    "            if \"MLSERVER_MODELS_DIR\" in os.environ:\n",
    "                models_folder = \"/mnt/models\"\n",
    "            else:\n",
    "                models_folder = f\"{artifacts_folder}/{OUTLIER_FOLDER}\"\n",
    "            print(f\"Loading from {models_folder}\")\n",
    "            self.od = load_detector(f\"{models_folder}/cifar10\")\n",
    "            self.loaded = True\n",
    "\n",
    "        def unload(self):\n",
    "            self.od = None\n",
    "            self.loaded = False\n",
    "\n",
    "        @predictmethod\n",
    "        def outlier(self, payload: np.ndarray) -> dict:\n",
    "            if not self.loaded:\n",
    "                self.load()\n",
    "            od_preds = self.od.predict(\n",
    "                payload,\n",
    "                outlier_type=\"instance\",  # use 'feature' or 'instance' level\n",
    "                return_feature_score=True,\n",
    "                # scores used to determine outliers\n",
    "                return_instance_score=True,\n",
    "            )\n",
    "\n",
    "            return json.loads(json.dumps(od_preds, cls=NumpyEncoder))\n",
    "\n",
    "    return OutlierModel\n",
    "\n",
    "\n",
    "def create_model(arifacts_folder: str):\n",
    "\n",
    "    cifar10_model = Model(\n",
    "        name=\"resnet32\",\n",
    "        protocol=KFServingV1Protocol(),\n",
    "        platform=ModelFramework.Tensorflow,\n",
    "        uri=\"gs://seldon-models/tfserving/cifar10/resnet32\",\n",
    "        local_folder=f\"{arifacts_folder}/{MODEL_FOLDER}\",\n",
    "    )\n",
    "\n",
    "    return cifar10_model\n",
    "\n",
    "\n",
    "def create_svc_cls(outlier, model, arifacts_folder: str):\n",
    "    @pipeline(\n",
    "        name=\"cifar10-service\",\n",
    "        protocol=KFServingV2Protocol(),\n",
    "        uri=\"s3://tempo/outlier/cifar10/svc\",\n",
    "        local_folder=f\"{arifacts_folder}/svc\",\n",
    "        models=PipelineModels(outlier=outlier, cifar10=model),\n",
    "    )\n",
    "    class Cifar10Svc(object):\n",
    "        @predictmethod\n",
    "        def predict(self, payload: np.ndarray) -> np.ndarray:\n",
    "            r = self.models.outlier(payload=payload)\n",
    "            if r[\"data\"][\"is_outlier\"][0]:\n",
    "                return np.array([])\n",
    "            else:\n",
    "                return self.models.cifar10(payload)\n",
    "\n",
    "    return Cifar10Svc\n"
   ]
  },
  {
   "cell_type": "markdown",
   "id": "f7a0525e",
   "metadata": {},
   "source": [
    "## Unit Tests\n",
    "\n",
    " * Here we run our unit tests to ensure the orchestration works before running on the actual models."
   ]
  },
  {
   "cell_type": "code",
   "execution_count": null,
   "id": "8159cbec",
   "metadata": {
    "code_folding": [
     0
    ]
   },
   "outputs": [],
   "source": [
    "# %load tests/test_tempo.py\n",
    "from src.tempo import create_outlier_cls, create_model, create_svc_cls\n",
    "import numpy as np\n",
    "\n",
    "\n",
    "def test_svc_outlier():\n",
    "    model = create_model(\"\")\n",
    "    OutlierModel = create_outlier_cls(\"\")\n",
    "    outlier = OutlierModel()\n",
    "    Cifar10Svc = create_svc_cls(outlier, model, \"\")\n",
    "    svc = Cifar10Svc()\n",
    "    svc.models.outlier = lambda payload: {\"data\":{\"is_outlier\":[1]}}\n",
    "    svc.models.cifar10 = lambda input: np.array([[0.2]])\n",
    "    res = svc(np.array([1]))\n",
    "    assert res.shape[0] == 0\n",
    "\n",
    "\n",
    "def test_svc_inlier():\n",
    "    model = create_model(\"\")\n",
    "    OutlierModel = create_outlier_cls(\"\")\n",
    "    outlier = OutlierModel()\n",
    "    Cifar10Svc = create_svc_cls(outlier, model, \"\")\n",
    "    svc = Cifar10Svc()\n",
    "    svc.models.outlier = lambda payload: {\"data\":{\"is_outlier\":[0]}}\n",
    "    svc.models.cifar10 = lambda input: np.array([[0.2]])\n",
    "    res = svc(np.array([1]))\n",
    "    assert res.shape[0] == 1"
   ]
  },
  {
   "cell_type": "code",
   "execution_count": 7,
   "id": "aa78ec19",
   "metadata": {},
   "outputs": [
    {
     "name": "stdout",
     "output_type": "stream",
     "text": [
      "\u001b[1m============================= test session starts ==============================\u001b[0m\n",
      "platform linux -- Python 3.7.9, pytest-6.2.0, py-1.10.0, pluggy-0.13.1\n",
      "rootdir: /home/clive/work/mlops/fork-tempo, configfile: setup.cfg\n",
      "plugins: asyncio-0.14.0\n",
      "collected 2 items                                                              \u001b[0m\u001b[1m\n",
      "\n",
      "tests/test_tempo.py \u001b[32m.\u001b[0m\u001b[32m.\u001b[0m\u001b[33m                                                   [100%]\u001b[0m\n",
      "\n",
      "\u001b[33m=============================== warnings summary ===============================\u001b[0m\n",
      "../../../../../../anaconda3/envs/tempo-examples/lib/python3.7/site-packages/tensorflow/python/autograph/impl/api.py:22\n",
      "  /home/clive/anaconda3/envs/tempo-examples/lib/python3.7/site-packages/tensorflow/python/autograph/impl/api.py:22: DeprecationWarning: the imp module is deprecated in favour of importlib; see the module's documentation for alternative uses\n",
      "    import imp\n",
      "\n",
      "../../../../../../anaconda3/envs/tempo-examples/lib/python3.7/site-packages/packaging/version.py:130\n",
      "  /home/clive/anaconda3/envs/tempo-examples/lib/python3.7/site-packages/packaging/version.py:130: DeprecationWarning: Creating a LegacyVersion has been deprecated and will be removed in the next major release\n",
      "    DeprecationWarning,\n",
      "\n",
      "-- Docs: https://docs.pytest.org/en/stable/warnings.html\n",
      "\u001b[33m======================== \u001b[32m2 passed\u001b[0m, \u001b[33m\u001b[1m2 warnings\u001b[0m\u001b[33m in 4.48s\u001b[0m\u001b[33m =========================\u001b[0m\n"
     ]
    }
   ],
   "source": [
    "!python -m pytest tests/"
   ]
  },
  {
   "cell_type": "markdown",
   "id": "18dc6a4b",
   "metadata": {},
   "source": [
    "## Save Outlier and Svc Environments\n"
   ]
  },
  {
   "cell_type": "code",
   "execution_count": 9,
   "id": "3e1f9017",
   "metadata": {},
   "outputs": [
    {
     "name": "stdout",
     "output_type": "stream",
     "text": [
      "name: tempo\r\n",
      "channels:\r\n",
      "  - defaults\r\n",
      "dependencies:\r\n",
      "  - python=3.7.9\r\n",
      "  - pip:\r\n",
      "    - alibi-detect\r\n",
      "    - dill\r\n",
      "    - opencv-python-headless\r\n",
      "    - mlops-tempo\r\n",
      "    - mlserver==0.3.1.dev7\r\n"
     ]
    }
   ],
   "source": [
    "!cat artifacts/outlier/conda.yaml"
   ]
  },
  {
   "cell_type": "code",
   "execution_count": 10,
   "id": "9a515728",
   "metadata": {},
   "outputs": [
    {
     "name": "stdout",
     "output_type": "stream",
     "text": [
      "name: tempo\r\n",
      "channels:\r\n",
      "  - defaults\r\n",
      "dependencies:\r\n",
      "  - python=3.7.9\r\n",
      "  - pip:\r\n",
      "    - mlops-tempo\r\n",
      "    - mlserver==0.3.1.dev7\r\n"
     ]
    }
   ],
   "source": [
    "!cat artifacts/svc/conda.yaml"
   ]
  },
  {
   "cell_type": "code",
   "execution_count": null,
   "id": "3c23ab3b",
   "metadata": {},
   "outputs": [],
   "source": [
    "from tempo.serve.loader import save\n",
    "save(outlier)\n",
    "save(svc)"
   ]
  },
  {
   "cell_type": "markdown",
   "id": "ae7a21d5",
   "metadata": {},
   "source": [
    "## Test Locally on Docker\n",
    "\n",
    "Here we test our models using production images but running locally on Docker. This allows us to ensure the final production deployed model will behave as expected when deployed."
   ]
  },
  {
   "cell_type": "code",
   "execution_count": null,
   "id": "a36bfb9f",
   "metadata": {},
   "outputs": [],
   "source": [
    "from tempo.seldon.docker import SeldonDockerRuntime\n",
    "docker_runtime = SeldonDockerRuntime()\n",
    "docker_runtime.deploy(svc)\n",
    "docker_runtime.wait_ready(svc)"
   ]
  },
  {
   "cell_type": "code",
   "execution_count": null,
   "id": "fb09a516",
   "metadata": {},
   "outputs": [],
   "source": [
    "from src.utils import show_image\n",
    "show_image(data.X_test[0:1])\n",
    "svc(payload=data.X_test[0:1])"
   ]
  },
  {
   "cell_type": "code",
   "execution_count": null,
   "id": "b22014e7",
   "metadata": {},
   "outputs": [],
   "source": [
    "show_image(data.X_test[0:1])\n",
    "svc.remote(payload=data.X_test[0:1])"
   ]
  },
  {
   "cell_type": "code",
   "execution_count": null,
   "id": "03ef662f",
   "metadata": {},
   "outputs": [],
   "source": [
    "from src.utils import create_cifar10_outlier\n",
    "outlier_img = create_cifar10_outlier(data)\n",
    "show_image(outlier_img)\n",
    "svc.remote(payload=outlier_img)"
   ]
  },
  {
   "cell_type": "code",
   "execution_count": null,
   "id": "6c6ea7c7",
   "metadata": {},
   "outputs": [],
   "source": [
    "docker_runtime.undeploy(svc)"
   ]
  },
  {
   "cell_type": "markdown",
   "id": "7a91f4d7",
   "metadata": {},
   "source": [
    "## Production Option 1 (Deploy to Kubernetes with Tempo)\n",
    "\n",
    " * Here we illustrate how to run the final models in \"production\" on Kubernetes by using Tempo to deploy\n",
    " \n",
    "### Prerequisites\n",
    " \n",
    " Create a Kind Kubernetes cluster with Minio and Seldon Core installed using Ansible from the Tempo project Ansible playbook.\n",
    " \n",
    " ```\n",
    " ansible-playbook ansible/playbooks/default.yaml\n",
    " ```"
   ]
  },
  {
   "cell_type": "code",
   "execution_count": null,
   "id": "d8d2fb32",
   "metadata": {},
   "outputs": [],
   "source": [
    "!kubectl apply -f k8s/rbac -n production"
   ]
  },
  {
   "cell_type": "code",
   "execution_count": null,
   "id": "9fa80565",
   "metadata": {},
   "outputs": [],
   "source": [
    "from tempo.examples.minio import create_minio_rclone\n",
    "import os\n",
    "create_minio_rclone(os.getcwd()+\"/rclone-minio.conf\")"
   ]
  },
  {
   "cell_type": "code",
   "execution_count": null,
   "id": "39ff404c",
   "metadata": {},
   "outputs": [],
   "source": [
    "from tempo.serve.loader import upload\n",
    "upload(cifar10_model)\n",
    "upload(outlier)\n",
    "upload(svc)"
   ]
  },
  {
   "cell_type": "code",
   "execution_count": 12,
   "id": "c56b5ca7",
   "metadata": {},
   "outputs": [],
   "source": [
    "from tempo.serve.metadata import RuntimeOptions, KubernetesOptions\n",
    "runtime_options = RuntimeOptions(\n",
    "        k8s_options=KubernetesOptions(\n",
    "            namespace=\"production\",\n",
    "            authSecretName=\"minio-secret\"\n",
    "        )\n",
    "    )"
   ]
  },
  {
   "cell_type": "code",
   "execution_count": null,
   "id": "363a9b61",
   "metadata": {},
   "outputs": [],
   "source": [
    "from tempo.seldon.k8s import SeldonKubernetesRuntime\n",
    "k8s_runtime = SeldonKubernetesRuntime(runtime_options)\n",
    "k8s_runtime.deploy(svc)\n",
    "k8s_runtime.wait_ready(svc)"
   ]
  },
  {
   "cell_type": "code",
   "execution_count": null,
   "id": "8feb662b",
   "metadata": {},
   "outputs": [],
   "source": [
    "from src.utils import show_image\n",
    "show_image(data.X_test[0:1])\n",
    "svc.remote(payload=data.X_test[0:1])"
   ]
  },
  {
   "cell_type": "code",
   "execution_count": null,
   "id": "97b59a44",
   "metadata": {},
   "outputs": [],
   "source": [
    "from src.utils import create_cifar10_outlier\n",
    "outlier_img = create_cifar10_outlier(data)\n",
    "show_image(outlier_img)\n",
    "svc.remote(payload=outlier_img)"
   ]
  },
  {
   "cell_type": "code",
   "execution_count": null,
   "id": "c789f08b",
   "metadata": {},
   "outputs": [],
   "source": [
    "k8s_runtime.undeploy(svc)"
   ]
  },
  {
   "cell_type": "markdown",
   "id": "efd7205b",
   "metadata": {},
   "source": [
    "## Production Option 2 (Gitops)\n",
    "\n",
    " * We create yaml to provide to our DevOps team to deploy to a production cluster\n",
    " * We add Kustomize patches to modify the base Kubernetes yaml created by Tempo"
   ]
  },
  {
   "cell_type": "code",
   "execution_count": 13,
   "id": "69ee5f4a",
   "metadata": {},
   "outputs": [],
   "source": [
    "from tempo.seldon.k8s import SeldonKubernetesRuntime\n",
    "k8s_runtime = SeldonKubernetesRuntime(runtime_options)\n",
    "yaml_str = k8s_runtime.to_k8s_yaml(svc)\n",
    "with open(os.getcwd()+\"/k8s/tempo.yaml\",\"w\") as f:\n",
    "    f.write(yaml_str)"
   ]
  },
  {
   "cell_type": "code",
   "execution_count": 14,
   "id": "748bd754",
   "metadata": {},
   "outputs": [
    {
     "name": "stdout",
     "output_type": "stream",
     "text": [
      "apiVersion: machinelearning.seldon.io/v1\r\n",
      "kind: SeldonDeployment\r\n",
      "metadata:\r\n",
      "  name: cifar10-service\r\n",
      "  namespace: production\r\n",
      "spec:\r\n",
      "  predictors:\r\n",
      "  - componentSpecs:\r\n",
      "    - spec:\r\n",
      "        containers:\r\n",
      "        - args: []\r\n",
      "          env:\r\n",
      "          - name: MLSERVER_HTTP_PORT\r\n",
      "            value: \"9000\"\r\n",
      "          - name: MLSERVER_GRPC_PORT\r\n",
      "            value: \"9500\"\r\n",
      "          - name: MLSERVER_MODEL_IMPLEMENTATION\r\n",
      "            value: tempo.mlserver.InferenceRuntime\r\n",
      "          - name: MLSERVER_MODEL_NAME\r\n",
      "            value: cifar10-service\r\n",
      "          - name: MLSERVER_MODEL_URI\r\n",
      "            value: /mnt/models\r\n",
      "          - name: TEMPO_RUNTIME_OPTIONS\r\n",
      "            value: '{\"runtime\": \"tempo.seldon.SeldonKubernetesRuntime\", \"docker_options\":\r\n",
      "              {\"defaultRuntime\": \"tempo.seldon.SeldonDockerRuntime\"}, \"k8s_options\":\r\n",
      "              {\"replicas\": 1, \"minReplicas\": null, \"maxReplicas\": null, \"authSecretName\":\r\n",
      "              \"minio-secret\", \"serviceAccountName\": null, \"defaultRuntime\": \"tempo.seldon.SeldonKubernetesRuntime\",\r\n",
      "              \"namespace\": \"production\"}, \"ingress_options\": {\"ingress\": \"tempo.ingress.istio.IstioIngress\",\r\n",
      "              \"ssl\": false, \"verify_ssl\": true}}'\r\n",
      "          image: seldonio/mlserver:0.3.1.dev7\r\n",
      "          name: cifar10-service\r\n",
      "          resources:\r\n",
      "            limits:\r\n",
      "              cpu: 1\r\n",
      "              memory: 1Gi\r\n",
      "            requests:\r\n",
      "              cpu: 500m\r\n",
      "              memory: 500Mi\r\n",
      "    graph:\r\n",
      "      envSecretRefName: minio-secret\r\n",
      "      implementation: TRITON_SERVER\r\n",
      "      modelUri: s3://tempo/outlier/cifar10/svc\r\n",
      "      name: cifar10-service\r\n",
      "      serviceAccountName: tempo-pipeline\r\n",
      "      type: MODEL\r\n",
      "    name: default\r\n",
      "    replicas: 1\r\n",
      "  protocol: kfserving\r\n",
      "---\r\n",
      "apiVersion: machinelearning.seldon.io/v1\r\n",
      "kind: SeldonDeployment\r\n",
      "metadata:\r\n",
      "  name: outlier\r\n",
      "  namespace: production\r\n",
      "spec:\r\n",
      "  predictors:\r\n",
      "  - componentSpecs:\r\n",
      "    - spec:\r\n",
      "        containers:\r\n",
      "        - args: []\r\n",
      "          env:\r\n",
      "          - name: MLSERVER_HTTP_PORT\r\n",
      "            value: \"9000\"\r\n",
      "          - name: MLSERVER_GRPC_PORT\r\n",
      "            value: \"9500\"\r\n",
      "          - name: MLSERVER_MODEL_IMPLEMENTATION\r\n",
      "            value: tempo.mlserver.InferenceRuntime\r\n",
      "          - name: MLSERVER_MODEL_NAME\r\n",
      "            value: outlier\r\n",
      "          - name: MLSERVER_MODEL_URI\r\n",
      "            value: /mnt/models\r\n",
      "          - name: TEMPO_RUNTIME_OPTIONS\r\n",
      "            value: '{\"runtime\": \"tempo.seldon.SeldonKubernetesRuntime\", \"docker_options\":\r\n",
      "              {\"defaultRuntime\": \"tempo.seldon.SeldonDockerRuntime\"}, \"k8s_options\":\r\n",
      "              {\"replicas\": 1, \"minReplicas\": null, \"maxReplicas\": null, \"authSecretName\":\r\n",
      "              \"minio-secret\", \"serviceAccountName\": null, \"defaultRuntime\": \"tempo.seldon.SeldonKubernetesRuntime\",\r\n",
      "              \"namespace\": \"production\"}, \"ingress_options\": {\"ingress\": \"tempo.ingress.istio.IstioIngress\",\r\n",
      "              \"ssl\": false, \"verify_ssl\": true}}'\r\n",
      "          image: seldonio/mlserver:0.3.1.dev7\r\n",
      "          name: outlier\r\n",
      "    graph:\r\n",
      "      envSecretRefName: minio-secret\r\n",
      "      implementation: TRITON_SERVER\r\n",
      "      modelUri: s3://tempo/outlier/cifar10/outlier\r\n",
      "      name: outlier\r\n",
      "      serviceAccountName: tempo-pipeline\r\n",
      "      type: MODEL\r\n",
      "    name: default\r\n",
      "    replicas: 1\r\n",
      "  protocol: kfserving\r\n",
      "---\r\n",
      "apiVersion: machinelearning.seldon.io/v1\r\n",
      "kind: SeldonDeployment\r\n",
      "metadata:\r\n",
      "  name: resnet32\r\n",
      "  namespace: production\r\n",
      "spec:\r\n",
      "  predictors:\r\n",
      "  - graph:\r\n",
      "      envSecretRefName: minio-secret\r\n",
      "      implementation: TENSORFLOW_SERVER\r\n",
      "      modelUri: gs://seldon-models/tfserving/cifar10/resnet32\r\n",
      "      name: resnet32\r\n",
      "      type: MODEL\r\n",
      "    name: default\r\n",
      "    replicas: 1\r\n",
      "  protocol: tensorflow\r\n"
     ]
    }
   ],
   "source": [
    "!kustomize build k8s"
   ]
  },
  {
   "cell_type": "code",
   "execution_count": null,
   "id": "59cc649c",
   "metadata": {},
   "outputs": [],
   "source": []
  }
 ],
 "metadata": {
  "kernelspec": {
   "display_name": "Python 3",
   "language": "python",
   "name": "python3"
  },
  "language_info": {
   "codemirror_mode": {
    "name": "ipython",
    "version": 3
   },
   "file_extension": ".py",
   "mimetype": "text/x-python",
   "name": "python",
   "nbconvert_exporter": "python",
   "pygments_lexer": "ipython3",
   "version": "3.7.9"
  }
 },
 "nbformat": 4,
 "nbformat_minor": 5
}
