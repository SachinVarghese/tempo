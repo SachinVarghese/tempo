{
 "cells": [
  {
   "cell_type": "markdown",
   "metadata": {},
   "source": [
    "# Sending Insights to Remote Server\n",
    "\n",
    "This example walks you through the API for sending insights to remote metrics servers."
   ]
  },
  {
   "cell_type": "markdown",
   "metadata": {},
   "source": [
    "## Prerequisites\n",
    "\n",
    "This notebooks needs to be run in the `tempo-examples` conda environment defined below. Create from project root folder:\n",
    "\n",
    "```bash\n",
    "conda env create --name tempo-examples --file conda/tempo-examples.yaml\n",
    "```"
   ]
  },
  {
   "cell_type": "code",
   "execution_count": 1,
   "metadata": {},
   "outputs": [],
   "source": [
    "from IPython.core.magic import register_line_cell_magic\n",
    "\n",
    "@register_line_cell_magic\n",
    "def writetemplate(line, cell):\n",
    "    with open(line, 'w') as f:\n",
    "        f.write(cell.format(**globals()))"
   ]
  },
  {
   "cell_type": "code",
   "execution_count": 2,
   "metadata": {},
   "outputs": [],
   "source": [
    "import os\n",
    "\n",
    "ARTIFACTS_FOLDER = os.getcwd()+\"/artifacts\"\n",
    "TEMPO_DIR = os.path.abspath(os.path.join(os.getcwd(), '..', '..', '..'))"
   ]
  },
  {
   "cell_type": "markdown",
   "metadata": {},
   "source": [
    "### Custom inference logic \n",
    "\n",
    "Our custom model will be very simple to focus the logic on the insights functionality.\n"
   ]
  },
  {
   "cell_type": "code",
   "execution_count": 37,
   "metadata": {
    "code_folding": [
     0
    ]
   },
   "outputs": [],
   "source": [
    "import numpy as np\n",
    "from tempo.serve.utils import pipeline, predictmethod\n",
    "from tempo.serve.metadata import InsightRequestModes, RuntimeOptions\n",
    "from tempo.serve.constants import DefaultInsightsLocalEndpoint\n",
    "\n",
    "from tempo.magic import t\n",
    "\n",
    "local_options = RuntimeOptions(**{\"insights_options\": {\"worker_endpoint\": DefaultInsightsLocalEndpoint }})\n",
    "\n",
    "@pipeline(\n",
    "    name='insights-pipeline',\n",
    "    uri=\"s3://tempo/insights-pipeline/resources\",\n",
    "    local_folder=ARTIFACTS_FOLDER,\n",
    "    runtime_options=local_options,\n",
    ")\n",
    "class Pipeline:\n",
    "    \n",
    "    @predictmethod\n",
    "    def predict(self, data: np.ndarray, parameters: dict) -> np.ndarray:\n",
    "        if parameters.get(\"log\"):\n",
    "            t.insights.log_request()\n",
    "            t.insights.log_response()\n",
    "            t.insights.log(parameters)\n",
    "        return data\n"
   ]
  },
  {
   "cell_type": "markdown",
   "metadata": {},
   "source": [
    "## Create pipeline"
   ]
  },
  {
   "cell_type": "code",
   "execution_count": 38,
   "metadata": {},
   "outputs": [],
   "source": [
    "pipeline = Pipeline()"
   ]
  },
  {
   "cell_type": "markdown",
   "metadata": {},
   "source": [
    "## Deploy Docker Insights Dumper"
   ]
  },
  {
   "cell_type": "code",
   "execution_count": 5,
   "metadata": {},
   "outputs": [],
   "source": [
    "from tempo.docker.utils import deploy_insights_message_dumper\n",
    "\n",
    "deploy_insights_message_dumper()"
   ]
  },
  {
   "cell_type": "markdown",
   "metadata": {},
   "source": [
    "## Print logs to make sure there's none"
   ]
  },
  {
   "cell_type": "code",
   "execution_count": 6,
   "metadata": {},
   "outputs": [
    {
     "name": "stdout",
     "output_type": "stream",
     "text": [
      "\n"
     ]
    }
   ],
   "source": [
    "from tempo.docker.utils import get_logs_insights_message_dumper\n",
    "\n",
    "print(get_logs_insights_message_dumper())"
   ]
  },
  {
   "cell_type": "markdown",
   "metadata": {},
   "source": [
    "### Explicitly Log Insights \n",
    "We explicitly request to log by passing the parameters"
   ]
  },
  {
   "cell_type": "code",
   "execution_count": 31,
   "metadata": {},
   "outputs": [
    {
     "name": "stdout",
     "output_type": "stream",
     "text": [
      "<function pipeline.<locals>._pipeline at 0x7f8171ca34d0>\n"
     ]
    }
   ],
   "source": [
    "params = { \"log\": \"value\" }\n",
    "data = np.array([63])\n",
    "pred = pipeline(data, params)\n",
    "print(pred)"
   ]
  },
  {
   "cell_type": "markdown",
   "metadata": {},
   "source": [
    "## Check the logs\n",
    "\n",
    "We can see that only the params has been logged. \n",
    "\n",
    "This is because even we are passing an input to our model, there is still no request or response. \n",
    "\n",
    "To log HTTP request/response, this is relevant when the model is deployed."
   ]
  },
  {
   "cell_type": "code",
   "execution_count": 8,
   "metadata": {},
   "outputs": [
    {
     "name": "stdout",
     "output_type": "stream",
     "text": [
      "-----------------\n",
      "{\n",
      "    \"path\": \"/\",\n",
      "    \"headers\": {\n",
      "        \"host\": \"0.0.0.0:8080\",\n",
      "        \"ce-id\": \"ee4c3bf7-760f-4fb5-a39a-9cc5eb3da044\",\n",
      "        \"ce-specversion\": \"0.3\",\n",
      "        \"ce-source\": \"io.seldon.serving.deployment.NOTIMPLEMENTED.NOTIMPLEMENTED\",\n",
      "        \"ce-type\": \"io.seldon.serving.inference.custominsight\",\n",
      "        \"requestid\": \"ee4c3bf7-760f-4fb5-a39a-9cc5eb3da044\",\n",
      "        \"modelid\": \"NOTIMPLEMENTED\",\n",
      "        \"inferenceservicename\": \"NOTIMPLEMENTED\",\n",
      "        \"namespace\": \"NOTIMPLEMENTED\",\n",
      "        \"endpoint\": \"NOTIMPLEMENTED\",\n",
      "        \"accept\": \"*/*\",\n",
      "        \"accept-encoding\": \"gzip, deflate\",\n",
      "        \"user-agent\": \"Python/3.7 aiohttp/3.6.2\",\n",
      "        \"content-length\": \"16\",\n",
      "        \"content-type\": \"application/json\"\n",
      "    },\n",
      "    \"method\": \"POST\",\n",
      "    \"body\": \"{\\\"log\\\": \\\"value\\\"}\",\n",
      "    \"fresh\": false,\n",
      "    \"hostname\": \"0.0.0.0\",\n",
      "    \"ip\": \"::ffff:172.18.0.1\",\n",
      "    \"ips\": [],\n",
      "    \"protocol\": \"http\",\n",
      "    \"query\": {},\n",
      "    \"subdomains\": [],\n",
      "    \"xhr\": false,\n",
      "    \"os\": {\n",
      "        \"hostname\": \"c8008dc7eb3b\"\n",
      "    },\n",
      "    \"connection\": {},\n",
      "    \"json\": {\n",
      "        \"log\": \"value\"\n",
      "    }\n",
      "}\n",
      "::ffff:172.18.0.1 - - [20/Jun/2021:11:53:44 +0000] \"POST / HTTP/1.1\" 200 979 \"-\" \"Python/3.7 aiohttp/3.6.2\"\n",
      "\n"
     ]
    }
   ],
   "source": [
    "print(get_logs_insights_message_dumper())"
   ]
  },
  {
   "cell_type": "markdown",
   "metadata": {},
   "source": [
    "### Don't log insights\n",
    "\n",
    "We are now going to send the values with the blank parameters to avoid passing through the branch that explicitly logs the insights."
   ]
  },
  {
   "cell_type": "code",
   "execution_count": 9,
   "metadata": {},
   "outputs": [
    {
     "name": "stdout",
     "output_type": "stream",
     "text": [
      "[63]\n"
     ]
    }
   ],
   "source": [
    "params = { }\n",
    "data = np.array([63])\n",
    "pred = pipeline(data, params)\n",
    "print(pred)"
   ]
  },
  {
   "cell_type": "markdown",
   "metadata": {},
   "source": [
    "## Check logs again\n",
    "We can see that now new logs have been added"
   ]
  },
  {
   "cell_type": "code",
   "execution_count": 10,
   "metadata": {},
   "outputs": [
    {
     "name": "stdout",
     "output_type": "stream",
     "text": [
      "-----------------\n",
      "{\n",
      "    \"path\": \"/\",\n",
      "    \"headers\": {\n",
      "        \"host\": \"0.0.0.0:8080\",\n",
      "        \"ce-id\": \"ee4c3bf7-760f-4fb5-a39a-9cc5eb3da044\",\n",
      "        \"ce-specversion\": \"0.3\",\n",
      "        \"ce-source\": \"io.seldon.serving.deployment.NOTIMPLEMENTED.NOTIMPLEMENTED\",\n",
      "        \"ce-type\": \"io.seldon.serving.inference.custominsight\",\n",
      "        \"requestid\": \"ee4c3bf7-760f-4fb5-a39a-9cc5eb3da044\",\n",
      "        \"modelid\": \"NOTIMPLEMENTED\",\n",
      "        \"inferenceservicename\": \"NOTIMPLEMENTED\",\n",
      "        \"namespace\": \"NOTIMPLEMENTED\",\n",
      "        \"endpoint\": \"NOTIMPLEMENTED\",\n",
      "        \"accept\": \"*/*\",\n",
      "        \"accept-encoding\": \"gzip, deflate\",\n",
      "        \"user-agent\": \"Python/3.7 aiohttp/3.6.2\",\n",
      "        \"content-length\": \"16\",\n",
      "        \"content-type\": \"application/json\"\n",
      "    },\n",
      "    \"method\": \"POST\",\n",
      "    \"body\": \"{\\\"log\\\": \\\"value\\\"}\",\n",
      "    \"fresh\": false,\n",
      "    \"hostname\": \"0.0.0.0\",\n",
      "    \"ip\": \"::ffff:172.18.0.1\",\n",
      "    \"ips\": [],\n",
      "    \"protocol\": \"http\",\n",
      "    \"query\": {},\n",
      "    \"subdomains\": [],\n",
      "    \"xhr\": false,\n",
      "    \"os\": {\n",
      "        \"hostname\": \"c8008dc7eb3b\"\n",
      "    },\n",
      "    \"connection\": {},\n",
      "    \"json\": {\n",
      "        \"log\": \"value\"\n",
      "    }\n",
      "}\n",
      "::ffff:172.18.0.1 - - [20/Jun/2021:11:53:44 +0000] \"POST / HTTP/1.1\" 200 979 \"-\" \"Python/3.7 aiohttp/3.6.2\"\n",
      "\n"
     ]
    }
   ],
   "source": [
    "print(get_logs_insights_message_dumper())"
   ]
  },
  {
   "cell_type": "markdown",
   "metadata": {},
   "source": [
    "### Deploy the  Model to Docker\n",
    "\n",
    "Finally, we'll be able to deploy our model using Tempo against one of the available runtimes (i.e. Kubernetes, Docker or Seldon Deploy).\n",
    "\n",
    "We'll deploy first to Docker to test."
   ]
  },
  {
   "cell_type": "code",
   "execution_count": 33,
   "metadata": {},
   "outputs": [],
   "source": [
    "%%writetemplate $ARTIFACTS_FOLDER/conda.yaml\n",
    "name: tempo-insights\n",
    "channels:\n",
    "  - defaults\n",
    "dependencies:\n",
    "  - pip=21.0.1\n",
    "  - python=3.7.9\n",
    "  - pip:\n",
    "    - mlops-tempo @ file://{TEMPO_DIR}\n",
    "    - mlserver==0.3.1.dev7"
   ]
  },
  {
   "cell_type": "code",
   "execution_count": 39,
   "metadata": {},
   "outputs": [
    {
     "name": "stdout",
     "output_type": "stream",
     "text": [
      "Collecting packages...\n",
      "Packing environment at '/home/alejandro/miniconda3/envs/tempo-9b187809-1946-4576-b8fe-38d4fabf3ecf' to '/home/alejandro/Programming/kubernetes/seldon/tempo/docs/examples/logging-insights/artifacts/environment.tar.gz'\n",
      "[########################################] | 100% Completed | 19.6s\n"
     ]
    }
   ],
   "source": [
    "from tempo.serve.loader import save\n",
    "save(pipeline, save_env=True)"
   ]
  },
  {
   "cell_type": "code",
   "execution_count": 11,
   "metadata": {},
   "outputs": [
    {
     "name": "stderr",
     "output_type": "stream",
     "text": [
      "inside deploy: runtime='tempo.seldon.SeldonDockerRuntime' docker_options=DockerOptions(runtime='tempo.seldon.SeldonDockerRuntime') k8s_options=KubernetesOptions(runtime='tempo.seldon.SeldonKubernetesRuntime', replicas=1, minReplicas=None, maxReplicas=None, authSecretName=None, serviceAccountName=None, namespace='default') ingress_options=IngressOptions(ingress='tempo.ingress.istio.IstioIngress', ssl=False, verify_ssl=True) insights_options=InsightsOptions(worker_endpoint='http://insights-dumper:8080', batch_size=1, parallelism=1, retries=3, window_time=0, mode_type=<InsightRequestModes.NONE: 'NONE'>, in_asyncio=False)\n",
      "inside deploy: runtime='tempo.seldon.SeldonDockerRuntime' docker_options=DockerOptions(runtime='tempo.seldon.SeldonDockerRuntime') k8s_options=KubernetesOptions(runtime='tempo.seldon.SeldonKubernetesRuntime', replicas=1, minReplicas=None, maxReplicas=None, authSecretName=None, serviceAccountName=None, namespace='default') ingress_options=IngressOptions(ingress='tempo.ingress.istio.IstioIngress', ssl=False, verify_ssl=True) insights_options=InsightsOptions(worker_endpoint='http://insights-dumper:8080', batch_size=1, parallelism=1, retries=3, window_time=0, mode_type=<InsightRequestModes.NONE: 'NONE'>, in_asyncio=False)\n"
     ]
    }
   ],
   "source": [
    "from tempo.serve.constants import DefaultInsightsDockerEndpoint\n",
    "from tempo.serve.metadata import RuntimeOptions\n",
    "from tempo import deploy\n",
    "\n",
    "docker_options = RuntimeOptions(**{\n",
    "    \"insights_options\": {\n",
    "        \"worker_endpoint\": DefaultInsightsDockerEndpoint \n",
    "    }\n",
    "})\n",
    "\n",
    "remote_model = deploy(pipeline, docker_options)"
   ]
  },
  {
   "cell_type": "markdown",
   "metadata": {},
   "source": [
    "We can now test our model deployed in Docker as:"
   ]
  },
  {
   "cell_type": "markdown",
   "metadata": {},
   "source": [
    "## Log insights"
   ]
  },
  {
   "cell_type": "code",
   "execution_count": 13,
   "metadata": {},
   "outputs": [
    {
     "data": {
      "text/plain": [
       "array([63])"
      ]
     },
     "execution_count": 13,
     "metadata": {},
     "output_type": "execute_result"
    }
   ],
   "source": [
    "params = { \"log\": \"value\" }\n",
    "data = np.array([63])\n",
    "remote_model.predict(data=data, parameters=params)"
   ]
  },
  {
   "cell_type": "markdown",
   "metadata": {},
   "source": [
    "## Check that all logs are now present\n",
    "Now we can see that in our model running in docker, the request and response were also logged as per our code logic"
   ]
  },
  {
   "cell_type": "code",
   "execution_count": 14,
   "metadata": {},
   "outputs": [
    {
     "name": "stdout",
     "output_type": "stream",
     "text": [
      "-----------------\n",
      "{\n",
      "    \"path\": \"/\",\n",
      "    \"headers\": {\n",
      "        \"host\": \"0.0.0.0:8080\",\n",
      "        \"ce-id\": \"ee4c3bf7-760f-4fb5-a39a-9cc5eb3da044\",\n",
      "        \"ce-specversion\": \"0.3\",\n",
      "        \"ce-source\": \"io.seldon.serving.deployment.NOTIMPLEMENTED.NOTIMPLEMENTED\",\n",
      "        \"ce-type\": \"io.seldon.serving.inference.custominsight\",\n",
      "        \"requestid\": \"ee4c3bf7-760f-4fb5-a39a-9cc5eb3da044\",\n",
      "        \"modelid\": \"NOTIMPLEMENTED\",\n",
      "        \"inferenceservicename\": \"NOTIMPLEMENTED\",\n",
      "        \"namespace\": \"NOTIMPLEMENTED\",\n",
      "        \"endpoint\": \"NOTIMPLEMENTED\",\n",
      "        \"accept\": \"*/*\",\n",
      "        \"accept-encoding\": \"gzip, deflate\",\n",
      "        \"user-agent\": \"Python/3.7 aiohttp/3.6.2\",\n",
      "        \"content-length\": \"16\",\n",
      "        \"content-type\": \"application/json\"\n",
      "    },\n",
      "    \"method\": \"POST\",\n",
      "    \"body\": \"{\\\"log\\\": \\\"value\\\"}\",\n",
      "    \"fresh\": false,\n",
      "    \"hostname\": \"0.0.0.0\",\n",
      "    \"ip\": \"::ffff:172.18.0.1\",\n",
      "    \"ips\": [],\n",
      "    \"protocol\": \"http\",\n",
      "    \"query\": {},\n",
      "    \"subdomains\": [],\n",
      "    \"xhr\": false,\n",
      "    \"os\": {\n",
      "        \"hostname\": \"c8008dc7eb3b\"\n",
      "    },\n",
      "    \"connection\": {},\n",
      "    \"json\": {\n",
      "        \"log\": \"value\"\n",
      "    }\n",
      "}\n",
      "::ffff:172.18.0.1 - - [20/Jun/2021:11:53:44 +0000] \"POST / HTTP/1.1\" 200 979 \"-\" \"Python/3.7 aiohttp/3.6.2\"\n",
      "-----------------\n",
      "{\n",
      "    \"path\": \"/\",\n",
      "    \"headers\": {\n",
      "        \"host\": \"insights-dumper:8080\",\n",
      "        \"ce-id\": \"6960b14c-78e0-495e-bd55-de07c9fe75fb\",\n",
      "        \"ce-specversion\": \"0.3\",\n",
      "        \"ce-source\": \"io.seldon.serving.deployment.NOTIMPLEMENTED.NOTIMPLEMENTED\",\n",
      "        \"ce-type\": \"io.seldon.serving.inference.custominsight\",\n",
      "        \"requestid\": \"6960b14c-78e0-495e-bd55-de07c9fe75fb\",\n",
      "        \"modelid\": \"NOTIMPLEMENTED\",\n",
      "        \"inferenceservicename\": \"NOTIMPLEMENTED\",\n",
      "        \"namespace\": \"NOTIMPLEMENTED\",\n",
      "        \"endpoint\": \"NOTIMPLEMENTED\",\n",
      "        \"accept\": \"*/*\",\n",
      "        \"accept-encoding\": \"gzip, deflate\",\n",
      "        \"user-agent\": \"Python/3.7 aiohttp/3.7.4.post0\",\n",
      "        \"content-length\": \"16\",\n",
      "        \"content-type\": \"application/json\"\n",
      "    },\n",
      "    \"method\": \"POST\",\n",
      "    \"body\": \"{\\\"log\\\": \\\"value\\\"}\",\n",
      "    \"fresh\": false,\n",
      "    \"hostname\": \"insights-dumper\",\n",
      "    \"ip\": \"::ffff:172.18.0.2\",\n",
      "    \"ips\": [],\n",
      "    \"protocol\": \"http\",\n",
      "    \"query\": {},\n",
      "    \"subdomains\": [],\n",
      "    \"xhr\": false,\n",
      "    \"os\": {\n",
      "        \"hostname\": \"c8008dc7eb3b\"\n",
      "    },\n",
      "    \"connection\": {},\n",
      "    \"json\": {\n",
      "        \"log\": \"value\"\n",
      "    }\n",
      "}\n",
      "::ffff:172.18.0.2 - - [20/Jun/2021:11:54:03 +0000] \"POST / HTTP/1.1\" 200 1001 \"-\" \"Python/3.7 aiohttp/3.7.4.post0\"\n",
      "-----------------\n",
      "{\n",
      "    \"path\": \"/\",\n",
      "    \"headers\": {\n",
      "        \"host\": \"insights-dumper:8080\",\n",
      "        \"ce-id\": \"6960b14c-78e0-495e-bd55-de07c9fe75fb\",\n",
      "        \"ce-specversion\": \"0.3\",\n",
      "        \"ce-source\": \"io.seldon.serving.deployment.NOTIMPLEMENTED.NOTIMPLEMENTED\",\n",
      "        \"ce-type\": \"io.seldon.serving.inference.request\",\n",
      "        \"requestid\": \"6960b14c-78e0-495e-bd55-de07c9fe75fb\",\n",
      "        \"modelid\": \"NOTIMPLEMENTED\",\n",
      "        \"inferenceservicename\": \"NOTIMPLEMENTED\",\n",
      "        \"namespace\": \"NOTIMPLEMENTED\",\n",
      "        \"endpoint\": \"NOTIMPLEMENTED\",\n",
      "        \"accept\": \"*/*\",\n",
      "        \"accept-encoding\": \"gzip, deflate\",\n",
      "        \"user-agent\": \"Python/3.7 aiohttp/3.7.4.post0\",\n",
      "        \"content-length\": \"345\",\n",
      "        \"content-type\": \"application/json\"\n",
      "    },\n",
      "    \"method\": \"POST\",\n",
      "    \"body\": \"{\\\"id\\\": \\\"6960b14c-78e0-495e-bd55-de07c9fe75fb\\\", \\\"parameters\\\": null, \\\"inputs\\\": [{\\\"name\\\": \\\"data\\\", \\\"shape\\\": [1], \\\"datatype\\\": \\\"INT64\\\", \\\"parameters\\\": null, \\\"data\\\": [63]}, {\\\"name\\\": \\\"parameters\\\", \\\"shape\\\": [16], \\\"datatype\\\": \\\"BYTES\\\", \\\"parameters\\\": null, \\\"data\\\": [123, 39, 108, 111, 103, 39, 58, 32, 39, 118, 97, 108, 117, 101, 39, 125]}], \\\"outputs\\\": null}\",\n",
      "    \"fresh\": false,\n",
      "    \"hostname\": \"insights-dumper\",\n",
      "    \"ip\": \"::ffff:172.18.0.2\",\n",
      "    \"ips\": [],\n",
      "    \"protocol\": \"http\",\n",
      "    \"query\": {},\n",
      "    \"subdomains\": [],\n",
      "    \"xhr\": false,\n",
      "    \"os\": {\n",
      "        \"hostname\": \"c8008dc7eb3b\"\n",
      "    },\n",
      "    \"connection\": {},\n",
      "    \"json\": {\n",
      "        \"id\": \"6960b14c-78e0-495e-bd55-de07c9fe75fb\",\n",
      "        \"parameters\": null,\n",
      "        \"inputs\": [\n",
      "            {\n",
      "                \"name\": \"data\",\n",
      "                \"shape\": [\n",
      "                    1\n",
      "                ],\n",
      "                \"datatype\": \"INT64\",\n",
      "                \"parameters\": null,\n",
      "                \"data\": [\n",
      "                    63\n",
      "                ]\n",
      "            },\n",
      "            {\n",
      "                \"name\": \"parameters\",\n",
      "                \"shape\": [\n",
      "                    16\n",
      "                ],\n",
      "                \"datatype\": \"BYTES\",\n",
      "                \"parameters\": null,\n",
      "                \"data\": [\n",
      "                    123,\n",
      "                    39,\n",
      "                    108,\n",
      "                    111,\n",
      "                    103,\n",
      "                    39,\n",
      "                    58,\n",
      "                    32,\n",
      "                    39,\n",
      "                    118,\n",
      "                    97,\n",
      "                    108,\n",
      "                    117,\n",
      "                    101,\n",
      "                    39,\n",
      "                    125\n",
      "                ]\n",
      "            }\n",
      "        ],\n",
      "        \"outputs\": null\n",
      "    }\n",
      "}\n",
      "::ffff:172.18.0.2 - - [20/Jun/2021:11:54:03 +0000] \"POST / HTTP/1.1\" 200 2044 \"-\" \"Python/3.7 aiohttp/3.7.4.post0\"\n",
      "-----------------\n",
      "{\n",
      "    \"path\": \"/\",\n",
      "    \"headers\": {\n",
      "        \"host\": \"insights-dumper:8080\",\n",
      "        \"ce-id\": \"6960b14c-78e0-495e-bd55-de07c9fe75fb\",\n",
      "        \"ce-specversion\": \"0.3\",\n",
      "        \"ce-source\": \"io.seldon.serving.deployment.NOTIMPLEMENTED.NOTIMPLEMENTED\",\n",
      "        \"ce-type\": \"io.seldon.serving.inference.response\",\n",
      "        \"requestid\": \"6960b14c-78e0-495e-bd55-de07c9fe75fb\",\n",
      "        \"modelid\": \"NOTIMPLEMENTED\",\n",
      "        \"inferenceservicename\": \"NOTIMPLEMENTED\",\n",
      "        \"namespace\": \"NOTIMPLEMENTED\",\n",
      "        \"endpoint\": \"NOTIMPLEMENTED\",\n",
      "        \"accept\": \"*/*\",\n",
      "        \"accept-encoding\": \"gzip, deflate\",\n",
      "        \"user-agent\": \"Python/3.7 aiohttp/3.7.4.post0\",\n",
      "        \"content-length\": \"118\",\n",
      "        \"content-type\": \"application/json\"\n",
      "    },\n",
      "    \"method\": \"POST\",\n",
      "    \"body\": \"{\\\"model_name\\\": \\\"insights-pipeline\\\", \\\"outputs\\\": [{\\\"name\\\": \\\"output0\\\", \\\"datatype\\\": \\\"INT64\\\", \\\"data\\\": [63], \\\"shape\\\": [1]}]}\",\n",
      "    \"fresh\": false,\n",
      "    \"hostname\": \"insights-dumper\",\n",
      "    \"ip\": \"::ffff:172.18.0.2\",\n",
      "    \"ips\": [],\n",
      "    \"protocol\": \"http\",\n",
      "    \"query\": {},\n",
      "    \"subdomains\": [],\n",
      "    \"xhr\": false,\n",
      "    \"os\": {\n",
      "        \"hostname\": \"c8008dc7eb3b\"\n",
      "    },\n",
      "    \"connection\": {},\n",
      "    \"json\": {\n",
      "        \"model_name\": \"insights-pipeline\",\n",
      "        \"outputs\": [\n",
      "            {\n",
      "                \"name\": \"output0\",\n",
      "                \"datatype\": \"INT64\",\n",
      "                \"data\": [\n",
      "                    63\n",
      "                ],\n",
      "                \"shape\": [\n",
      "                    1\n",
      "                ]\n",
      "            }\n",
      "        ]\n",
      "    }\n",
      "}\n",
      "::ffff:172.18.0.2 - - [20/Jun/2021:11:54:03 +0000] \"POST / HTTP/1.1\" 200 1311 \"-\" \"Python/3.7 aiohttp/3.7.4.post0\"\n",
      "\n"
     ]
    }
   ],
   "source": [
    "print(get_logs_insights_message_dumper())"
   ]
  },
  {
   "cell_type": "markdown",
   "metadata": {},
   "source": [
    "## Don't log"
   ]
  },
  {
   "cell_type": "code",
   "execution_count": 15,
   "metadata": {},
   "outputs": [
    {
     "data": {
      "text/plain": [
       "array([63])"
      ]
     },
     "execution_count": 15,
     "metadata": {},
     "output_type": "execute_result"
    }
   ],
   "source": [
    "params = { }\n",
    "data = np.array([63])\n",
    "remote_model.predict(data=data, parameters=params)"
   ]
  },
  {
   "cell_type": "markdown",
   "metadata": {},
   "source": [
    "## Also we can see logs are not present when requested\n",
    "\n",
    "When providing the explicit configuration the logs are not sent, and this can be seen in the insights logger container logs"
   ]
  },
  {
   "cell_type": "code",
   "execution_count": 16,
   "metadata": {},
   "outputs": [
    {
     "name": "stdout",
     "output_type": "stream",
     "text": [
      "-----------------\n",
      "{\n",
      "    \"path\": \"/\",\n",
      "    \"headers\": {\n",
      "        \"host\": \"0.0.0.0:8080\",\n",
      "        \"ce-id\": \"ee4c3bf7-760f-4fb5-a39a-9cc5eb3da044\",\n",
      "        \"ce-specversion\": \"0.3\",\n",
      "        \"ce-source\": \"io.seldon.serving.deployment.NOTIMPLEMENTED.NOTIMPLEMENTED\",\n",
      "        \"ce-type\": \"io.seldon.serving.inference.custominsight\",\n",
      "        \"requestid\": \"ee4c3bf7-760f-4fb5-a39a-9cc5eb3da044\",\n",
      "        \"modelid\": \"NOTIMPLEMENTED\",\n",
      "        \"inferenceservicename\": \"NOTIMPLEMENTED\",\n",
      "        \"namespace\": \"NOTIMPLEMENTED\",\n",
      "        \"endpoint\": \"NOTIMPLEMENTED\",\n",
      "        \"accept\": \"*/*\",\n",
      "        \"accept-encoding\": \"gzip, deflate\",\n",
      "        \"user-agent\": \"Python/3.7 aiohttp/3.6.2\",\n",
      "        \"content-length\": \"16\",\n",
      "        \"content-type\": \"application/json\"\n",
      "    },\n",
      "    \"method\": \"POST\",\n",
      "    \"body\": \"{\\\"log\\\": \\\"value\\\"}\",\n",
      "    \"fresh\": false,\n",
      "    \"hostname\": \"0.0.0.0\",\n",
      "    \"ip\": \"::ffff:172.18.0.1\",\n",
      "    \"ips\": [],\n",
      "    \"protocol\": \"http\",\n",
      "    \"query\": {},\n",
      "    \"subdomains\": [],\n",
      "    \"xhr\": false,\n",
      "    \"os\": {\n",
      "        \"hostname\": \"c8008dc7eb3b\"\n",
      "    },\n",
      "    \"connection\": {},\n",
      "    \"json\": {\n",
      "        \"log\": \"value\"\n",
      "    }\n",
      "}\n",
      "::ffff:172.18.0.1 - - [20/Jun/2021:11:53:44 +0000] \"POST / HTTP/1.1\" 200 979 \"-\" \"Python/3.7 aiohttp/3.6.2\"\n",
      "-----------------\n",
      "{\n",
      "    \"path\": \"/\",\n",
      "    \"headers\": {\n",
      "        \"host\": \"insights-dumper:8080\",\n",
      "        \"ce-id\": \"6960b14c-78e0-495e-bd55-de07c9fe75fb\",\n",
      "        \"ce-specversion\": \"0.3\",\n",
      "        \"ce-source\": \"io.seldon.serving.deployment.NOTIMPLEMENTED.NOTIMPLEMENTED\",\n",
      "        \"ce-type\": \"io.seldon.serving.inference.custominsight\",\n",
      "        \"requestid\": \"6960b14c-78e0-495e-bd55-de07c9fe75fb\",\n",
      "        \"modelid\": \"NOTIMPLEMENTED\",\n",
      "        \"inferenceservicename\": \"NOTIMPLEMENTED\",\n",
      "        \"namespace\": \"NOTIMPLEMENTED\",\n",
      "        \"endpoint\": \"NOTIMPLEMENTED\",\n",
      "        \"accept\": \"*/*\",\n",
      "        \"accept-encoding\": \"gzip, deflate\",\n",
      "        \"user-agent\": \"Python/3.7 aiohttp/3.7.4.post0\",\n",
      "        \"content-length\": \"16\",\n",
      "        \"content-type\": \"application/json\"\n",
      "    },\n",
      "    \"method\": \"POST\",\n",
      "    \"body\": \"{\\\"log\\\": \\\"value\\\"}\",\n",
      "    \"fresh\": false,\n",
      "    \"hostname\": \"insights-dumper\",\n",
      "    \"ip\": \"::ffff:172.18.0.2\",\n",
      "    \"ips\": [],\n",
      "    \"protocol\": \"http\",\n",
      "    \"query\": {},\n",
      "    \"subdomains\": [],\n",
      "    \"xhr\": false,\n",
      "    \"os\": {\n",
      "        \"hostname\": \"c8008dc7eb3b\"\n",
      "    },\n",
      "    \"connection\": {},\n",
      "    \"json\": {\n",
      "        \"log\": \"value\"\n",
      "    }\n",
      "}\n",
      "::ffff:172.18.0.2 - - [20/Jun/2021:11:54:03 +0000] \"POST / HTTP/1.1\" 200 1001 \"-\" \"Python/3.7 aiohttp/3.7.4.post0\"\n",
      "-----------------\n",
      "{\n",
      "    \"path\": \"/\",\n",
      "    \"headers\": {\n",
      "        \"host\": \"insights-dumper:8080\",\n",
      "        \"ce-id\": \"6960b14c-78e0-495e-bd55-de07c9fe75fb\",\n",
      "        \"ce-specversion\": \"0.3\",\n",
      "        \"ce-source\": \"io.seldon.serving.deployment.NOTIMPLEMENTED.NOTIMPLEMENTED\",\n",
      "        \"ce-type\": \"io.seldon.serving.inference.request\",\n",
      "        \"requestid\": \"6960b14c-78e0-495e-bd55-de07c9fe75fb\",\n",
      "        \"modelid\": \"NOTIMPLEMENTED\",\n",
      "        \"inferenceservicename\": \"NOTIMPLEMENTED\",\n",
      "        \"namespace\": \"NOTIMPLEMENTED\",\n",
      "        \"endpoint\": \"NOTIMPLEMENTED\",\n",
      "        \"accept\": \"*/*\",\n",
      "        \"accept-encoding\": \"gzip, deflate\",\n",
      "        \"user-agent\": \"Python/3.7 aiohttp/3.7.4.post0\",\n",
      "        \"content-length\": \"345\",\n",
      "        \"content-type\": \"application/json\"\n",
      "    },\n",
      "    \"method\": \"POST\",\n",
      "    \"body\": \"{\\\"id\\\": \\\"6960b14c-78e0-495e-bd55-de07c9fe75fb\\\", \\\"parameters\\\": null, \\\"inputs\\\": [{\\\"name\\\": \\\"data\\\", \\\"shape\\\": [1], \\\"datatype\\\": \\\"INT64\\\", \\\"parameters\\\": null, \\\"data\\\": [63]}, {\\\"name\\\": \\\"parameters\\\", \\\"shape\\\": [16], \\\"datatype\\\": \\\"BYTES\\\", \\\"parameters\\\": null, \\\"data\\\": [123, 39, 108, 111, 103, 39, 58, 32, 39, 118, 97, 108, 117, 101, 39, 125]}], \\\"outputs\\\": null}\",\n",
      "    \"fresh\": false,\n",
      "    \"hostname\": \"insights-dumper\",\n",
      "    \"ip\": \"::ffff:172.18.0.2\",\n",
      "    \"ips\": [],\n",
      "    \"protocol\": \"http\",\n",
      "    \"query\": {},\n",
      "    \"subdomains\": [],\n",
      "    \"xhr\": false,\n",
      "    \"os\": {\n",
      "        \"hostname\": \"c8008dc7eb3b\"\n",
      "    },\n",
      "    \"connection\": {},\n",
      "    \"json\": {\n",
      "        \"id\": \"6960b14c-78e0-495e-bd55-de07c9fe75fb\",\n",
      "        \"parameters\": null,\n",
      "        \"inputs\": [\n",
      "            {\n",
      "                \"name\": \"data\",\n",
      "                \"shape\": [\n",
      "                    1\n",
      "                ],\n",
      "                \"datatype\": \"INT64\",\n",
      "                \"parameters\": null,\n",
      "                \"data\": [\n",
      "                    63\n",
      "                ]\n",
      "            },\n",
      "            {\n",
      "                \"name\": \"parameters\",\n",
      "                \"shape\": [\n",
      "                    16\n",
      "                ],\n",
      "                \"datatype\": \"BYTES\",\n",
      "                \"parameters\": null,\n",
      "                \"data\": [\n",
      "                    123,\n",
      "                    39,\n",
      "                    108,\n",
      "                    111,\n",
      "                    103,\n",
      "                    39,\n",
      "                    58,\n",
      "                    32,\n",
      "                    39,\n",
      "                    118,\n",
      "                    97,\n",
      "                    108,\n",
      "                    117,\n",
      "                    101,\n",
      "                    39,\n",
      "                    125\n",
      "                ]\n",
      "            }\n",
      "        ],\n",
      "        \"outputs\": null\n",
      "    }\n",
      "}\n",
      "::ffff:172.18.0.2 - - [20/Jun/2021:11:54:03 +0000] \"POST / HTTP/1.1\" 200 2044 \"-\" \"Python/3.7 aiohttp/3.7.4.post0\"\n",
      "-----------------\n",
      "{\n",
      "    \"path\": \"/\",\n",
      "    \"headers\": {\n",
      "        \"host\": \"insights-dumper:8080\",\n",
      "        \"ce-id\": \"6960b14c-78e0-495e-bd55-de07c9fe75fb\",\n",
      "        \"ce-specversion\": \"0.3\",\n",
      "        \"ce-source\": \"io.seldon.serving.deployment.NOTIMPLEMENTED.NOTIMPLEMENTED\",\n",
      "        \"ce-type\": \"io.seldon.serving.inference.response\",\n",
      "        \"requestid\": \"6960b14c-78e0-495e-bd55-de07c9fe75fb\",\n",
      "        \"modelid\": \"NOTIMPLEMENTED\",\n",
      "        \"inferenceservicename\": \"NOTIMPLEMENTED\",\n",
      "        \"namespace\": \"NOTIMPLEMENTED\",\n",
      "        \"endpoint\": \"NOTIMPLEMENTED\",\n",
      "        \"accept\": \"*/*\",\n",
      "        \"accept-encoding\": \"gzip, deflate\",\n",
      "        \"user-agent\": \"Python/3.7 aiohttp/3.7.4.post0\",\n",
      "        \"content-length\": \"118\",\n",
      "        \"content-type\": \"application/json\"\n",
      "    },\n",
      "    \"method\": \"POST\",\n",
      "    \"body\": \"{\\\"model_name\\\": \\\"insights-pipeline\\\", \\\"outputs\\\": [{\\\"name\\\": \\\"output0\\\", \\\"datatype\\\": \\\"INT64\\\", \\\"data\\\": [63], \\\"shape\\\": [1]}]}\",\n",
      "    \"fresh\": false,\n",
      "    \"hostname\": \"insights-dumper\",\n",
      "    \"ip\": \"::ffff:172.18.0.2\",\n",
      "    \"ips\": [],\n",
      "    \"protocol\": \"http\",\n",
      "    \"query\": {},\n",
      "    \"subdomains\": [],\n",
      "    \"xhr\": false,\n",
      "    \"os\": {\n",
      "        \"hostname\": \"c8008dc7eb3b\"\n",
      "    },\n",
      "    \"connection\": {},\n",
      "    \"json\": {\n",
      "        \"model_name\": \"insights-pipeline\",\n",
      "        \"outputs\": [\n",
      "            {\n",
      "                \"name\": \"output0\",\n",
      "                \"datatype\": \"INT64\",\n",
      "                \"data\": [\n",
      "                    63\n",
      "                ],\n",
      "                \"shape\": [\n",
      "                    1\n",
      "                ]\n",
      "            }\n",
      "        ]\n",
      "    }\n",
      "}\n",
      "::ffff:172.18.0.2 - - [20/Jun/2021:11:54:03 +0000] \"POST / HTTP/1.1\" 200 1311 \"-\" \"Python/3.7 aiohttp/3.7.4.post0\"\n",
      "\n"
     ]
    }
   ],
   "source": [
    "print(get_logs_insights_message_dumper())"
   ]
  },
  {
   "cell_type": "markdown",
   "metadata": {},
   "source": [
    "## Now undeploy to move to Kubernetes"
   ]
  },
  {
   "cell_type": "code",
   "execution_count": 17,
   "metadata": {},
   "outputs": [],
   "source": [
    "remote_model.undeploy()"
   ]
  },
  {
   "cell_type": "code",
   "execution_count": 18,
   "metadata": {},
   "outputs": [],
   "source": [
    "from tempo.docker.utils import undeploy_insights_message_dumper\n",
    "\n",
    "undeploy_insights_message_dumper()"
   ]
  },
  {
   "cell_type": "markdown",
   "metadata": {},
   "source": [
    "## Deploy to Kubernetes with Tempo\n",
    "\n",
    " * Here we illustrate how the same workflow applies in kubernetes\n",
    " \n",
    "### Prerequisites\n",
    " \n",
    " Create a Kind Kubernetes cluster with Minio and Seldon Core installed using Ansible from the Tempo project Ansible playbook.\n",
    " \n",
    " ```\n",
    " ansible-playbook ansible/playbooks/default.yaml\n",
    " ```"
   ]
  },
  {
   "cell_type": "code",
   "execution_count": 19,
   "metadata": {},
   "outputs": [
    {
     "name": "stdout",
     "output_type": "stream",
     "text": [
      "Error from server (AlreadyExists): namespaces \"seldon\" already exists\r\n"
     ]
    }
   ],
   "source": [
    "!kubectl create ns seldon"
   ]
  },
  {
   "cell_type": "code",
   "execution_count": 20,
   "metadata": {},
   "outputs": [
    {
     "name": "stdout",
     "output_type": "stream",
     "text": [
      "secret/minio-secret configured\n",
      "serviceaccount/tempo-pipeline unchanged\n",
      "role.rbac.authorization.k8s.io/tempo-pipeline unchanged\n",
      "rolebinding.rbac.authorization.k8s.io/tempo-pipeline-rolebinding unchanged\n"
     ]
    }
   ],
   "source": [
    "!kubectl apply -f k8s/rbac -n seldon"
   ]
  },
  {
   "cell_type": "code",
   "execution_count": 9,
   "metadata": {},
   "outputs": [],
   "source": [
    "from tempo.examples.minio import create_minio_rclone\n",
    "import os\n",
    "create_minio_rclone(os.getcwd()+\"/rclone.conf\")"
   ]
  },
  {
   "cell_type": "code",
   "execution_count": 40,
   "metadata": {},
   "outputs": [],
   "source": [
    "from tempo.serve.loader import upload\n",
    "upload(pipeline)"
   ]
  },
  {
   "cell_type": "code",
   "execution_count": 11,
   "metadata": {},
   "outputs": [],
   "source": [
    "from tempo.serve.metadata import RuntimeOptions, KubernetesOptions, InsightsOptions\n",
    "from tempo.serve.constants import DefaultInsightsK8sEndpoint\n",
    "from tempo.seldon.k8s import SeldonCoreOptions\n",
    "\n",
    "kubernetes_options = SeldonCoreOptions(\n",
    "        k8s_options=KubernetesOptions(\n",
    "            namespace=\"seldon\",\n",
    "            authSecretName=\"minio-secret\"\n",
    "        ),\n",
    "        insights_options=InsightsOptions(\n",
    "            worker_endpoint=DefaultInsightsK8sEndpoint\n",
    "        )\n",
    "    )"
   ]
  },
  {
   "cell_type": "code",
   "execution_count": 44,
   "metadata": {},
   "outputs": [],
   "source": [
    "from tempo.k8s.utils import deploy_insights_message_dumper\n",
    "\n",
    "deploy_insights_message_dumper()"
   ]
  },
  {
   "cell_type": "code",
   "execution_count": 32,
   "metadata": {},
   "outputs": [
    {
     "name": "stdout",
     "output_type": "stream",
     "text": [
      "\n"
     ]
    }
   ],
   "source": [
    "from tempo.k8s.utils import get_logs_insights_message_dumper\n",
    "\n",
    "print(get_logs_insights_message_dumper())"
   ]
  },
  {
   "cell_type": "code",
   "execution_count": 12,
   "metadata": {},
   "outputs": [],
   "source": [
    "from tempo import deploy\n",
    "\n",
    "remote_model = deploy(pipeline, kubernetes_options)"
   ]
  },
  {
   "cell_type": "markdown",
   "metadata": {},
   "source": [
    "## Log insights"
   ]
  },
  {
   "cell_type": "code",
   "execution_count": 45,
   "metadata": {},
   "outputs": [
    {
     "data": {
      "text/plain": [
       "array([[63.1   , 62.3   ,  0.1234]])"
      ]
     },
     "execution_count": 45,
     "metadata": {},
     "output_type": "execute_result"
    }
   ],
   "source": [
    "params = { \"log\": \"value\" }\n",
    "data = np.array([63])\n",
    "remote_model.predict(data=data, parameters=params)"
   ]
  },
  {
   "cell_type": "code",
   "execution_count": 21,
   "metadata": {},
   "outputs": [
    {
     "name": "stdout",
     "output_type": "stream",
     "text": [
      "-----------------\n",
      "{\n",
      "    \"path\": \"/\",\n",
      "    \"headers\": {\n",
      "        \"host\": \"insights-dumper.seldon-system:8080\",\n",
      "        \"ce-id\": \"ebdf84c1-1a63-4ecb-84d4-d5edb5408987\",\n",
      "        \"ce-specversion\": \"0.3\",\n",
      "        \"ce-source\": \"io.seldon.serving.deployment.insights-pipeline.NOTIMPLEMENTED\",\n",
      "        \"ce-type\": \"io.seldon.serving.inference.custominsight\",\n",
      "        \"requestid\": \"ebdf84c1-1a63-4ecb-84d4-d5edb5408987\",\n",
      "        \"modelid\": \"insights-pipeline\",\n",
      "        \"inferenceservicename\": \"insights-pipeline\",\n",
      "        \"namespace\": \"NOTIMPLEMENTED\",\n",
      "        \"endpoint\": \"default\",\n",
      "        \"accept\": \"*/*\",\n",
      "        \"accept-encoding\": \"gzip, deflate\",\n",
      "        \"user-agent\": \"Python/3.7 aiohttp/3.7.4.post0\",\n",
      "        \"content-length\": \"16\",\n",
      "        \"content-type\": \"application/json\"\n",
      "    },\n",
      "    \"method\": \"POST\",\n",
      "    \"body\": \"{\\\"log\\\": \\\"value\\\"}\",\n",
      "    \"fresh\": false,\n",
      "    \"hostname\": \"insights-dumper.seldon-system\",\n",
      "    \"ip\": \"::ffff:10.8.3.26\",\n",
      "    \"ips\": [],\n",
      "    \"protocol\": \"http\",\n",
      "    \"query\": {},\n",
      "    \"subdomains\": [],\n",
      "    \"xhr\": false,\n",
      "    \"os\": {\n",
      "        \"hostname\": \"insights-dumper\"\n",
      "    },\n",
      "    \"connection\": {},\n",
      "    \"json\": {\n",
      "        \"log\": \"value\"\n",
      "    }\n",
      "}\n",
      "::ffff:10.8.3.26 - - [20/Jun/2021:11:02:52 +0000] \"POST / HTTP/1.1\" 200 1033 \"-\" \"Python/3.7 aiohttp/3.7.4.post0\"\n",
      "-----------------\n",
      "{\n",
      "    \"path\": \"/\",\n",
      "    \"headers\": {\n",
      "        \"host\": \"insights-dumper.seldon-system:8080\",\n",
      "        \"ce-id\": \"ebdf84c1-1a63-4ecb-84d4-d5edb5408987\",\n",
      "        \"ce-specversion\": \"0.3\",\n",
      "        \"ce-source\": \"io.seldon.serving.deployment.insights-pipeline.NOTIMPLEMENTED\",\n",
      "        \"ce-type\": \"io.seldon.serving.inference.request\",\n",
      "        \"requestid\": \"ebdf84c1-1a63-4ecb-84d4-d5edb5408987\",\n",
      "        \"modelid\": \"insights-pipeline\",\n",
      "        \"inferenceservicename\": \"insights-pipeline\",\n",
      "        \"namespace\": \"NOTIMPLEMENTED\",\n",
      "        \"endpoint\": \"default\",\n",
      "        \"accept\": \"*/*\",\n",
      "        \"accept-encoding\": \"gzip, deflate\",\n",
      "        \"user-agent\": \"Python/3.7 aiohttp/3.7.4.post0\",\n",
      "        \"content-length\": \"345\",\n",
      "        \"content-type\": \"application/json\"\n",
      "    },\n",
      "    \"method\": \"POST\",\n",
      "    \"body\": \"{\\\"id\\\": \\\"ebdf84c1-1a63-4ecb-84d4-d5edb5408987\\\", \\\"parameters\\\": null, \\\"inputs\\\": [{\\\"name\\\": \\\"data\\\", \\\"shape\\\": [1], \\\"datatype\\\": \\\"INT64\\\", \\\"parameters\\\": null, \\\"data\\\": [63]}, {\\\"name\\\": \\\"parameters\\\", \\\"shape\\\": [16], \\\"datatype\\\": \\\"BYTES\\\", \\\"parameters\\\": null, \\\"data\\\": [123, 39, 108, 111, 103, 39, 58, 32, 39, 118, 97, 108, 117, 101, 39, 125]}], \\\"outputs\\\": null}\",\n",
      "    \"fresh\": false,\n",
      "    \"hostname\": \"insights-dumper.seldon-system\",\n",
      "    \"ip\": \"::ffff:10.8.3.26\",\n",
      "    \"ips\": [],\n",
      "    \"protocol\": \"http\",\n",
      "    \"query\": {},\n",
      "    \"subdomains\": [],\n",
      "    \"xhr\": false,\n",
      "    \"os\": {\n",
      "        \"hostname\": \"insights-dumper\"\n",
      "    },\n",
      "    \"connection\": {},\n",
      "    \"json\": {\n",
      "        \"id\": \"ebdf84c1-1a63-4ecb-84d4-d5edb5408987\",\n",
      "        \"parameters\": null,\n",
      "        \"inputs\": [\n",
      "            {\n",
      "                \"name\": \"data\",\n",
      "                \"shape\": [\n",
      "                    1\n",
      "                ],\n",
      "                \"datatype\": \"INT64\",\n",
      "                \"parameters\": null,\n",
      "                \"data\": [\n",
      "                    63\n",
      "                ]\n",
      "            },\n",
      "            {\n",
      "                \"name\": \"parameters\",\n",
      "                \"shape\": [\n",
      "                    16\n",
      "                ],\n",
      "                \"datatype\": \"BYTES\",\n",
      "                \"parameters\": null,\n",
      "                \"data\": [\n",
      "                    123,\n",
      "                    39,\n",
      "                    108,\n",
      "                    111,\n",
      "                    103,\n",
      "                    39,\n",
      "                    58,\n",
      "                    32,\n",
      "                    39,\n",
      "                    118,\n",
      "                    97,\n",
      "                    108,\n",
      "                    117,\n",
      "                    101,\n",
      "                    39,\n",
      "                    125\n",
      "                ]\n",
      "            }\n",
      "        ],\n",
      "        \"outputs\": null\n",
      "    }\n",
      "}\n",
      "::ffff:10.8.3.26 - - [20/Jun/2021:11:02:52 +0000] \"POST / HTTP/1.1\" 200 2076 \"-\" \"Python/3.7 aiohttp/3.7.4.post0\"\n",
      "-----------------\n",
      "{\n",
      "    \"path\": \"/\",\n",
      "    \"headers\": {\n",
      "        \"host\": \"insights-dumper.seldon-system:8080\",\n",
      "        \"ce-id\": \"ebdf84c1-1a63-4ecb-84d4-d5edb5408987\",\n",
      "        \"ce-specversion\": \"0.3\",\n",
      "        \"ce-source\": \"io.seldon.serving.deployment.insights-pipeline.NOTIMPLEMENTED\",\n",
      "        \"ce-type\": \"io.seldon.serving.inference.response\",\n",
      "        \"requestid\": \"ebdf84c1-1a63-4ecb-84d4-d5edb5408987\",\n",
      "        \"modelid\": \"insights-pipeline\",\n",
      "        \"inferenceservicename\": \"insights-pipeline\",\n",
      "        \"namespace\": \"NOTIMPLEMENTED\",\n",
      "        \"endpoint\": \"default\",\n",
      "        \"accept\": \"*/*\",\n",
      "        \"accept-encoding\": \"gzip, deflate\",\n",
      "        \"user-agent\": \"Python/3.7 aiohttp/3.7.4.post0\",\n",
      "        \"content-length\": \"118\",\n",
      "        \"content-type\": \"application/json\"\n",
      "    },\n",
      "    \"method\": \"POST\",\n",
      "    \"body\": \"{\\\"model_name\\\": \\\"insights-pipeline\\\", \\\"outputs\\\": [{\\\"name\\\": \\\"output0\\\", \\\"datatype\\\": \\\"INT64\\\", \\\"data\\\": [63], \\\"shape\\\": [1]}]}\",\n",
      "    \"fresh\": false,\n",
      "    \"hostname\": \"insights-dumper.seldon-system\",\n",
      "    \"ip\": \"::ffff:10.8.3.26\",\n",
      "    \"ips\": [],\n",
      "    \"protocol\": \"http\",\n",
      "    \"query\": {},\n",
      "    \"subdomains\": [],\n",
      "    \"xhr\": false,\n",
      "    \"os\": {\n",
      "        \"hostname\": \"insights-dumper\"\n",
      "    },\n",
      "    \"connection\": {},\n",
      "    \"json\": {\n",
      "        \"model_name\": \"insights-pipeline\",\n",
      "        \"outputs\": [\n",
      "            {\n",
      "                \"name\": \"output0\",\n",
      "                \"datatype\": \"INT64\",\n",
      "                \"data\": [\n",
      "                    63\n",
      "                ],\n",
      "                \"shape\": [\n",
      "                    1\n",
      "                ]\n",
      "            }\n",
      "        ]\n",
      "    }\n",
      "}\n",
      "::ffff:10.8.3.26 - - [20/Jun/2021:11:02:52 +0000] \"POST / HTTP/1.1\" 200 1343 \"-\" \"Python/3.7 aiohttp/3.7.4.post0\"\n",
      "-----------------\n",
      "{\n",
      "    \"path\": \"/\",\n",
      "    \"headers\": {\n",
      "        \"host\": \"insights-dumper.seldon-system:8080\",\n",
      "        \"ce-id\": \"a3d9ceff-ac39-4e8c-a6cd-718b9c88e2a9\",\n",
      "        \"ce-specversion\": \"0.3\",\n",
      "        \"ce-source\": \"io.seldon.serving.deployment.insights-pipeline.NOTIMPLEMENTED\",\n",
      "        \"ce-type\": \"io.seldon.serving.inference.custominsight\",\n",
      "        \"requestid\": \"a3d9ceff-ac39-4e8c-a6cd-718b9c88e2a9\",\n",
      "        \"modelid\": \"insights-pipeline\",\n",
      "        \"inferenceservicename\": \"insights-pipeline\",\n",
      "        \"namespace\": \"NOTIMPLEMENTED\",\n",
      "        \"endpoint\": \"default\",\n",
      "        \"accept\": \"*/*\",\n",
      "        \"accept-encoding\": \"gzip, deflate\",\n",
      "        \"user-agent\": \"Python/3.7 aiohttp/3.7.4.post0\",\n",
      "        \"content-length\": \"16\",\n",
      "        \"content-type\": \"application/json\"\n",
      "    },\n",
      "    \"method\": \"POST\",\n",
      "    \"body\": \"{\\\"log\\\": \\\"value\\\"}\",\n",
      "    \"fresh\": false,\n",
      "    \"hostname\": \"insights-dumper.seldon-system\",\n",
      "    \"ip\": \"::ffff:10.8.3.27\",\n",
      "    \"ips\": [],\n",
      "    \"protocol\": \"http\",\n",
      "    \"query\": {},\n",
      "    \"subdomains\": [],\n",
      "    \"xhr\": false,\n",
      "    \"os\": {\n",
      "        \"hostname\": \"insights-dumper\"\n",
      "    },\n",
      "    \"connection\": {},\n",
      "    \"json\": {\n",
      "        \"log\": \"value\"\n",
      "    }\n",
      "}\n",
      "::ffff:10.8.3.27 - - [20/Jun/2021:11:12:50 +0000] \"POST / HTTP/1.1\" 200 1033 \"-\" \"Python/3.7 aiohttp/3.7.4.post0\"\n",
      "-----------------\n",
      "{\n",
      "    \"path\": \"/\",\n",
      "    \"headers\": {\n",
      "        \"host\": \"insights-dumper.seldon-system:8080\",\n",
      "        \"ce-id\": \"a3d9ceff-ac39-4e8c-a6cd-718b9c88e2a9\",\n",
      "        \"ce-specversion\": \"0.3\",\n",
      "        \"ce-source\": \"io.seldon.serving.deployment.insights-pipeline.NOTIMPLEMENTED\",\n",
      "        \"ce-type\": \"io.seldon.serving.inference.request\",\n",
      "        \"requestid\": \"a3d9ceff-ac39-4e8c-a6cd-718b9c88e2a9\",\n",
      "        \"modelid\": \"insights-pipeline\",\n",
      "        \"inferenceservicename\": \"insights-pipeline\",\n",
      "        \"namespace\": \"NOTIMPLEMENTED\",\n",
      "        \"endpoint\": \"default\",\n",
      "        \"accept\": \"*/*\",\n",
      "        \"accept-encoding\": \"gzip, deflate\",\n",
      "        \"user-agent\": \"Python/3.7 aiohttp/3.7.4.post0\",\n",
      "        \"content-length\": \"345\",\n",
      "        \"content-type\": \"application/json\"\n",
      "    },\n",
      "    \"method\": \"POST\",\n",
      "    \"body\": \"{\\\"id\\\": \\\"a3d9ceff-ac39-4e8c-a6cd-718b9c88e2a9\\\", \\\"parameters\\\": null, \\\"inputs\\\": [{\\\"name\\\": \\\"data\\\", \\\"shape\\\": [1], \\\"datatype\\\": \\\"INT64\\\", \\\"parameters\\\": null, \\\"data\\\": [63]}, {\\\"name\\\": \\\"parameters\\\", \\\"shape\\\": [16], \\\"datatype\\\": \\\"BYTES\\\", \\\"parameters\\\": null, \\\"data\\\": [123, 39, 108, 111, 103, 39, 58, 32, 39, 118, 97, 108, 117, 101, 39, 125]}], \\\"outputs\\\": null}\",\n",
      "    \"fresh\": false,\n",
      "    \"hostname\": \"insights-dumper.seldon-system\",\n",
      "    \"ip\": \"::ffff:10.8.3.27\",\n",
      "    \"ips\": [],\n",
      "    \"protocol\": \"http\",\n",
      "    \"query\": {},\n",
      "    \"subdomains\": [],\n",
      "    \"xhr\": false,\n",
      "    \"os\": {\n",
      "        \"hostname\": \"insights-dumper\"\n",
      "    },\n",
      "    \"connection\": {},\n",
      "    \"json\": {\n",
      "        \"id\": \"a3d9ceff-ac39-4e8c-a6cd-718b9c88e2a9\",\n",
      "        \"parameters\": null,\n",
      "        \"inputs\": [\n",
      "            {\n",
      "                \"name\": \"data\",\n",
      "                \"shape\": [\n",
      "                    1\n",
      "                ],\n",
      "                \"datatype\": \"INT64\",\n",
      "                \"parameters\": null,\n",
      "                \"data\": [\n",
      "                    63\n",
      "                ]\n",
      "            },\n",
      "            {\n",
      "                \"name\": \"parameters\",\n",
      "                \"shape\": [\n",
      "                    16\n",
      "                ],\n",
      "                \"datatype\": \"BYTES\",\n",
      "                \"parameters\": null,\n",
      "                \"data\": [\n",
      "                    123,\n",
      "                    39,\n",
      "                    108,\n",
      "                    111,\n",
      "                    103,\n",
      "                    39,\n",
      "                    58,\n",
      "                    32,\n",
      "                    39,\n",
      "                    118,\n",
      "                    97,\n",
      "                    108,\n",
      "                    117,\n",
      "                    101,\n",
      "                    39,\n",
      "                    125\n",
      "                ]\n",
      "            }\n",
      "        ],\n",
      "        \"outputs\": null\n",
      "    }\n",
      "}\n",
      "::ffff:10.8.3.27 - - [20/Jun/2021:11:12:50 +0000] \"POST / HTTP/1.1\" 200 2076 \"-\" \"Python/3.7 aiohttp/3.7.4.post0\"\n",
      "-----------------\n",
      "{\n",
      "    \"path\": \"/\",\n",
      "    \"headers\": {\n",
      "        \"host\": \"insights-dumper.seldon-system:8080\",\n",
      "        \"ce-id\": \"a3d9ceff-ac39-4e8c-a6cd-718b9c88e2a9\",\n",
      "        \"ce-specversion\": \"0.3\",\n",
      "        \"ce-source\": \"io.seldon.serving.deployment.insights-pipeline.NOTIMPLEMENTED\",\n",
      "        \"ce-type\": \"io.seldon.serving.inference.response\",\n",
      "        \"requestid\": \"a3d9ceff-ac39-4e8c-a6cd-718b9c88e2a9\",\n",
      "        \"modelid\": \"insights-pipeline\",\n",
      "        \"inferenceservicename\": \"insights-pipeline\",\n",
      "        \"namespace\": \"NOTIMPLEMENTED\",\n",
      "        \"endpoint\": \"default\",\n",
      "        \"accept\": \"*/*\",\n",
      "        \"accept-encoding\": \"gzip, deflate\",\n",
      "        \"user-agent\": \"Python/3.7 aiohttp/3.7.4.post0\",\n",
      "        \"content-length\": \"118\",\n",
      "        \"content-type\": \"application/json\"\n",
      "    },\n",
      "    \"method\": \"POST\",\n",
      "    \"body\": \"{\\\"model_name\\\": \\\"insights-pipeline\\\", \\\"outputs\\\": [{\\\"name\\\": \\\"output0\\\", \\\"datatype\\\": \\\"INT64\\\", \\\"data\\\": [63], \\\"shape\\\": [1]}]}\",\n",
      "    \"fresh\": false,\n",
      "    \"hostname\": \"insights-dumper.seldon-system\",\n",
      "    \"ip\": \"::ffff:10.8.3.27\",\n",
      "    \"ips\": [],\n",
      "    \"protocol\": \"http\",\n",
      "    \"query\": {},\n",
      "    \"subdomains\": [],\n",
      "    \"xhr\": false,\n",
      "    \"os\": {\n",
      "        \"hostname\": \"insights-dumper\"\n",
      "    },\n",
      "    \"connection\": {},\n",
      "    \"json\": {\n",
      "        \"model_name\": \"insights-pipeline\",\n",
      "        \"outputs\": [\n",
      "            {\n",
      "                \"name\": \"output0\",\n",
      "                \"datatype\": \"INT64\",\n",
      "                \"data\": [\n",
      "                    63\n",
      "                ],\n",
      "                \"shape\": [\n",
      "                    1\n",
      "                ]\n",
      "            }\n",
      "        ]\n",
      "    }\n",
      "}\n",
      "::ffff:10.8.3.27 - - [20/Jun/2021:11:12:50 +0000] \"POST / HTTP/1.1\" 200 1343 \"-\" \"Python/3.7 aiohttp/3.7.4.post0\"\n",
      "\n"
     ]
    }
   ],
   "source": [
    "from tempo.k8s.utils import get_logs_insights_message_dumper\n",
    "\n",
    "print(get_logs_insights_message_dumper())"
   ]
  },
  {
   "cell_type": "markdown",
   "metadata": {},
   "source": [
    "## Don't log"
   ]
  },
  {
   "cell_type": "code",
   "execution_count": null,
   "metadata": {},
   "outputs": [],
   "source": [
    "params = {  }\n",
    "data = np.array([63])\n",
    "pipeline.remote(data=data, parameters=params)"
   ]
  },
  {
   "cell_type": "code",
   "execution_count": null,
   "metadata": {},
   "outputs": [],
   "source": [
    "print(get_logs_insights_message_dumper())"
   ]
  },
  {
   "cell_type": "code",
   "execution_count": null,
   "metadata": {},
   "outputs": [],
   "source": [
    "k8s_runtime.undeploy(pipeline)"
   ]
  },
  {
   "cell_type": "code",
   "execution_count": null,
   "metadata": {},
   "outputs": [],
   "source": [
    "from tempo.k8s.utils import undeploy_insights_message_dumper\n",
    "\n",
    "undeploy_insights_message_dumper()"
   ]
  },
  {
   "cell_type": "code",
   "execution_count": null,
   "metadata": {},
   "outputs": [],
   "source": []
  }
 ],
 "metadata": {
  "kernelspec": {
   "display_name": "Python 3",
   "language": "python",
   "name": "python3"
  },
  "language_info": {
   "codemirror_mode": {
    "name": "ipython",
    "version": 3
   },
   "file_extension": ".py",
   "mimetype": "text/x-python",
   "name": "python",
   "nbconvert_exporter": "python",
   "pygments_lexer": "ipython3",
   "version": "3.7.4"
  }
 },
 "nbformat": 4,
 "nbformat_minor": 4
}
