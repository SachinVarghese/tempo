{
 "cells": [
  {
   "cell_type": "markdown",
   "id": "76d8cfac",
   "metadata": {},
   "source": [
    "## Load Tempo Artifact and Call"
   ]
  },
  {
   "cell_type": "code",
   "execution_count": 1,
   "id": "58c38ea3",
   "metadata": {},
   "outputs": [],
   "source": [
    "import os\n",
    "import numpy as np\n",
    "from tempo.serve.loader import load\n",
    "ARTIFACTS_FOLDER = os.getcwd()+\"/artifacts\"\n",
    "model = load(f\"{ARTIFACTS_FOLDER}/classifier\")"
   ]
  },
  {
   "cell_type": "code",
   "execution_count": 2,
   "id": "089a651d",
   "metadata": {},
   "outputs": [
    {
     "data": {
      "text/plain": [
       "ModelDataArgs(args=[ModelDataArg(ty=<class 'numpy.ndarray'>, name='payload')])"
      ]
     },
     "execution_count": 2,
     "metadata": {},
     "output_type": "execute_result"
    }
   ],
   "source": [
    "model.details.inputs"
   ]
  },
  {
   "cell_type": "code",
   "execution_count": 3,
   "id": "0bf03748",
   "metadata": {},
   "outputs": [],
   "source": [
    "from tempo.serve.metadata import RuntimeOptions, KubernetesOptions\n",
    "runtime_options = RuntimeOptions(\n",
    "        runtime=\"tempo.seldon.SeldonKubernetesRuntime\",\n",
    "        k8s_options=KubernetesOptions(\n",
    "            namespace=\"production\",\n",
    "            authSecretName=\"minio-secret\"\n",
    "        )\n",
    "    )"
   ]
  },
  {
   "cell_type": "code",
   "execution_count": 4,
   "id": "5c193647",
   "metadata": {},
   "outputs": [],
   "source": [
    "model.set_runtime_options_override(runtime_options)"
   ]
  },
  {
   "cell_type": "code",
   "execution_count": 6,
   "id": "2996e819",
   "metadata": {},
   "outputs": [
    {
     "data": {
      "text/plain": [
       "{'output0': array([1.], dtype=float32), 'output1': 'sklearn prediction'}"
      ]
     },
     "execution_count": 6,
     "metadata": {},
     "output_type": "execute_result"
    }
   ],
   "source": [
    "model.remote(np.array([[0, 0, 0,0]]))"
   ]
  },
  {
   "cell_type": "markdown",
   "id": "2fb031ee",
   "metadata": {},
   "source": [
    "Questions\n",
    "\n",
    " * Nicer way to set runtime_options?"
   ]
  },
  {
   "cell_type": "markdown",
   "id": "cd5356df",
   "metadata": {},
   "source": [
    "### Call via Requests"
   ]
  },
  {
   "cell_type": "code",
   "execution_count": 13,
   "id": "a7ec5744",
   "metadata": {},
   "outputs": [],
   "source": [
    "from tempo.seldon.k8s import SeldonKubernetesRuntime\n",
    "k8s_runtime = SeldonKubernetesRuntime(runtime_options)\n",
    "url = k8s_runtime.get_endpoint(model)"
   ]
  },
  {
   "cell_type": "code",
   "execution_count": 14,
   "id": "7cf145f9",
   "metadata": {},
   "outputs": [],
   "source": [
    "payload = model.model_spec.protocol.to_protocol_request(np.array([[0, 0, 0,0]]))"
   ]
  },
  {
   "cell_type": "code",
   "execution_count": 15,
   "id": "a3c74be6",
   "metadata": {},
   "outputs": [
    {
     "name": "stdout",
     "output_type": "stream",
     "text": [
      "<Response [200]>\n",
      "{'model_name': 'classifier', 'model_version': None, 'id': '9bb1d795-e941-44ef-97a9-ec8cf6322b92', 'parameters': None, 'outputs': [{'name': 'output0', 'shape': [1], 'datatype': 'FP32', 'parameters': None, 'data': [1.0]}, {'name': 'output1', 'shape': [18], 'datatype': 'BYTES', 'parameters': None, 'data': [115, 107, 108, 101, 97, 114, 110, 32, 112, 114, 101, 100, 105, 99, 116, 105, 111, 110]}]}\n"
     ]
    }
   ],
   "source": [
    "import requests\n",
    "res = requests.post(url,json=payload)\n",
    "print(res)\n",
    "print(res.json())"
   ]
  },
  {
   "cell_type": "markdown",
   "id": "1668c79b",
   "metadata": {},
   "source": [
    "Questions:\n",
    " * We need a better way to get core details or URL and Payload so one can run an external curl/requests oneself?"
   ]
  },
  {
   "cell_type": "markdown",
   "id": "fccf2ff6",
   "metadata": {},
   "source": [
    "## Create Tempo Model from Metadata\n"
   ]
  },
  {
   "cell_type": "code",
   "execution_count": 27,
   "id": "520f93df",
   "metadata": {},
   "outputs": [],
   "source": [
    "from tempo.serve.model import Model\n",
    "from typing import Tuple\n",
    "from tempo.serve.metadata import ModelFramework\n",
    "from tempo.kfserving.protocol import KFServingV2Protocol\n",
    "\n",
    "model2 = Model(name=model.details.name, \n",
    "               platform=ModelFramework.Custom,\n",
    "               inputs={\"payload\":np.ndarray}, \n",
    "               outputs=(np.ndarray, str),\n",
    "               protocol=KFServingV2Protocol(),\n",
    "               runtime_options=runtime_options)"
   ]
  },
  {
   "cell_type": "code",
   "execution_count": 28,
   "id": "cd17e1df",
   "metadata": {},
   "outputs": [
    {
     "data": {
      "text/plain": [
       "{'output0': array([1.], dtype=float32), 'output1': 'sklearn prediction'}"
      ]
     },
     "execution_count": 28,
     "metadata": {},
     "output_type": "execute_result"
    }
   ],
   "source": [
    "model2.remote(np.array([[0, 0, 0,0]]))"
   ]
  },
  {
   "cell_type": "markdown",
   "id": "22cd159d",
   "metadata": {},
   "source": [
    "Questions\n",
    "\n",
    " * For this we would need a `serialize` and `deserialize` method to store the metadata for the model?"
   ]
  },
  {
   "cell_type": "code",
   "execution_count": null,
   "id": "594c91ff",
   "metadata": {},
   "outputs": [],
   "source": []
  }
 ],
 "metadata": {
  "kernelspec": {
   "display_name": "Python 3",
   "language": "python",
   "name": "python3"
  },
  "language_info": {
   "codemirror_mode": {
    "name": "ipython",
    "version": 3
   },
   "file_extension": ".py",
   "mimetype": "text/x-python",
   "name": "python",
   "nbconvert_exporter": "python",
   "pygments_lexer": "ipython3",
   "version": "3.7.10"
  }
 },
 "nbformat": 4,
 "nbformat_minor": 5
}
