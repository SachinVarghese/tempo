{
 "cells": [
  {
   "cell_type": "markdown",
   "metadata": {},
   "source": [
    "# Introduction to Tempo Example\n",
    "\n",
    "This notebook will walk you through an end-to-end example deploying a Tempo pipeline, running on its own Conda environment.\n",
    "\n",
    "## Prerequisites\n",
    "\n",
    "  * rclone and conda installed.\n",
    "  * Run this notebook within the `seldon-examples` conda environment. Details to create this can be found [here]()."
   ]
  },
  {
   "cell_type": "markdown",
   "metadata": {},
   "source": [
    "## Architecture\n",
    "\n",
    "We will show two Iris dataset prediction models combined with service orchestration that shows some arbitrary python code to control predictions from the two models.\n",
    "\n",
    "![architecture](architecture.png)"
   ]
  },
  {
   "cell_type": "code",
   "execution_count": 1,
   "metadata": {},
   "outputs": [],
   "source": [
    "from IPython.core.magic import register_line_cell_magic\n",
    "\n",
    "@register_line_cell_magic\n",
    "def writetemplate(line, cell):\n",
    "    with open(line, 'w') as f:\n",
    "        f.write(cell.format(**globals()))"
   ]
  },
  {
   "cell_type": "markdown",
   "metadata": {},
   "source": [
    "## Train Iris Models\n",
    "\n",
    "We will train:\n",
    "\n",
    "  * A sklearn logistic regression model\n",
    "  * A xgboost model"
   ]
  },
  {
   "cell_type": "code",
   "execution_count": 2,
   "metadata": {},
   "outputs": [],
   "source": [
    "from sklearn import datasets\n",
    "from sklearn.linear_model import LogisticRegression\n",
    "import joblib\n",
    "iris = datasets.load_iris()\n",
    "X = iris.data  # we only take the first two features.\n",
    "y = iris.target\n",
    "logreg = LogisticRegression(C=1e5)\n",
    "logreg.fit(X, y)\n",
    "logreg.predict_proba(X[0:1])\n",
    "with open(\"./artifacts/sklearn/model.joblib\",\"wb\") as f:\n",
    "    joblib.dump(logreg, f)"
   ]
  },
  {
   "cell_type": "code",
   "execution_count": 3,
   "metadata": {},
   "outputs": [
    {
     "name": "stderr",
     "output_type": "stream",
     "text": [
      "/home/clive/anaconda3/envs/tempo-examples/lib/python3.7/site-packages/xgboost/sklearn.py:888: UserWarning: The use of label encoder in XGBClassifier is deprecated and will be removed in a future release. To remove this warning, do the following: 1) Pass option use_label_encoder=False when constructing XGBClassifier object; and 2) Encode your labels (y) as integers starting with 0, i.e. 0, 1, 2, ..., [num_class - 1].\n",
      "  warnings.warn(label_encoder_deprecation_msg, UserWarning)\n"
     ]
    },
    {
     "name": "stdout",
     "output_type": "stream",
     "text": [
      "[17:02:27] WARNING: ../src/learner.cc:1061: Starting in XGBoost 1.3.0, the default evaluation metric used with the objective 'multi:softprob' was changed from 'merror' to 'mlogloss'. Explicitly set eval_metric if you'd like to restore the old behavior.\n"
     ]
    }
   ],
   "source": [
    "from xgboost import XGBClassifier\n",
    "clf = XGBClassifier()\n",
    "clf.fit(X,y)\n",
    "clf.save_model(\"./artifacts/xgboost/model.bst\")"
   ]
  },
  {
   "cell_type": "markdown",
   "metadata": {},
   "source": [
    "## Defining pipeline\n",
    "\n",
    "The first step will be to define our custom pipeline.\n",
    "This pipeline will access 2 models, stored remotely. "
   ]
  },
  {
   "cell_type": "code",
   "execution_count": 4,
   "metadata": {},
   "outputs": [],
   "source": [
    "import os\n",
    "import numpy as np\n",
    "from typing import Tuple\n",
    "from tempo.serve.metadata import ModelFramework, KubernetesOptions\n",
    "from tempo.serve.model import Model\n",
    "from tempo.seldon.docker import SeldonDockerRuntime\n",
    "from tempo.kfserving.protocol import KFServingV2Protocol\n",
    "from tempo.serve.utils import pipeline, predictmethod\n",
    "from tempo.seldon.k8s import SeldonKubernetesRuntime\n",
    "from tempo.serve.utils import pipeline\n",
    "\n",
    "import logging\n",
    "logging.basicConfig(level=logging.INFO)\n",
    "\n",
    "SKLEARN_FOLDER = os.getcwd()+\"/artifacts/sklearn\"\n",
    "XGBOOST_FOLDER = os.getcwd()+\"/artifacts/xgboost\"\n",
    "PIPELINE_ARTIFACTS_FOLDER = os.getcwd()+\"/artifacts/classifier\"\n",
    "\n",
    "docker_runtime = SeldonDockerRuntime()\n",
    "\n",
    "sklearn_model = Model(\n",
    "        name=\"test-iris-sklearn\",\n",
    "        runtime=docker_runtime,\n",
    "        platform=ModelFramework.SKLearn,\n",
    "        local_folder=SKLEARN_FOLDER,\n",
    "        uri=\"s3://tempo/basic/sklearn\"\n",
    ")\n",
    "\n",
    "xgboost_model = Model(\n",
    "        name=\"test-iris-xgboost\",\n",
    "        runtime=docker_runtime,\n",
    "        platform=ModelFramework.XGBoost,\n",
    "        local_folder=XGBOOST_FOLDER,\n",
    "        uri=\"s3://tempo/basic/xgboost\"\n",
    ")\n",
    "\n",
    "docker_runtime_v2 = SeldonDockerRuntime(protocol=KFServingV2Protocol())\n",
    "\n",
    "@pipeline(name=\"classifier\",\n",
    "          runtime=docker_runtime_v2,\n",
    "          uri=\"s3://tempo/basic/pipeline\",\n",
    "          local_folder=PIPELINE_ARTIFACTS_FOLDER,\n",
    "          models=[sklearn_model, xgboost_model])\n",
    "def classifier(payload: np.ndarray) -> Tuple[np.ndarray,str]:\n",
    "    res1 = sklearn_model(payload)\n",
    "\n",
    "    if res1[0][0] > 0.5:\n",
    "        return res1,\"sklearn prediction\"\n",
    "    else:\n",
    "        return xgboost_model(payload),\"xgboost prediction\""
   ]
  },
  {
   "cell_type": "markdown",
   "metadata": {},
   "source": [
    "## Deploying pipeline to Docker\n",
    "\n",
    "The next step, will be to deploy our pipeline to Docker.\n",
    "We will divide this process into 2 steps:\n",
    "\n",
    "1. Save our artifacts and environment\n",
    "2. Deploy resources"
   ]
  },
  {
   "cell_type": "markdown",
   "metadata": {},
   "source": [
    "### Saving artifacts\n",
    "\n",
    "We provide a conda yaml in out `local_folder` which tempo will use as the runtime environment to save. If this file was not there it would save the current conda environment. One can also provide a named conda environment with `conda_env` in the decorator."
   ]
  },
  {
   "cell_type": "code",
   "execution_count": 1,
   "metadata": {},
   "outputs": [
    {
     "name": "stdout",
     "output_type": "stream",
     "text": [
      "Overwriting artifacts/classifier/conda.yaml\n"
     ]
    }
   ],
   "source": [
    "%%writefile artifacts/classifier/conda.yaml\n",
    "name: tempo\n",
    "channels:\n",
    "  - defaults\n",
    "dependencies:\n",
    "  - _libgcc_mutex=0.1=main\n",
    "  - ca-certificates=2021.1.19=h06a4308_0\n",
    "  - certifi=2020.12.5=py37h06a4308_0\n",
    "  - ld_impl_linux-64=2.33.1=h53a641e_7\n",
    "  - libedit=3.1.20191231=h14c3975_1\n",
    "  - libffi=3.3=he6710b0_2\n",
    "  - libgcc-ng=9.1.0=hdf63c60_0\n",
    "  - libstdcxx-ng=9.1.0=hdf63c60_0\n",
    "  - ncurses=6.2=he6710b0_1\n",
    "  - openssl=1.1.1j=h27cfd23_0\n",
    "  - pip=21.0.1=py37h06a4308_0\n",
    "  - python=3.7.9=h7579374_0\n",
    "  - readline=8.1=h27cfd23_0\n",
    "  - setuptools=52.0.0=py37h06a4308_0\n",
    "  - sqlite=3.33.0=h62c20be_0\n",
    "  - tk=8.6.10=hbc83047_0\n",
    "  - wheel=0.36.2=pyhd3eb1b0_0\n",
    "  - xz=5.2.5=h7b6447c_0\n",
    "  - zlib=1.2.11=h7b6447c_3\n",
    "  - pip:\n",
    "    - mlops-tempo\n",
    "    - mlserver==0.3.1.dev5"
   ]
  },
  {
   "cell_type": "code",
   "execution_count": 6,
   "metadata": {},
   "outputs": [
    {
     "name": "stderr",
     "output_type": "stream",
     "text": [
      "INFO:root:Saving environment\n"
     ]
    }
   ],
   "source": [
    "classifier.save(save_env=False)"
   ]
  },
  {
   "cell_type": "markdown",
   "metadata": {},
   "source": [
    "### Deploying pipeline"
   ]
  },
  {
   "cell_type": "code",
   "execution_count": 7,
   "metadata": {
    "scrolled": true
   },
   "outputs": [
    {
     "name": "stderr",
     "output_type": "stream",
     "text": [
      "INFO:tempo:Deploying test-iris-sklearn\n",
      "INFO:tempo:Deploying test-iris-xgboost\n",
      "INFO:tempo:Deploying classifier\n"
     ]
    },
    {
     "data": {
      "text/plain": [
       "True"
      ]
     },
     "execution_count": 7,
     "metadata": {},
     "output_type": "execute_result"
    }
   ],
   "source": [
    "classifier.deploy()\n",
    "classifier.wait_ready()"
   ]
  },
  {
   "cell_type": "markdown",
   "metadata": {},
   "source": [
    "### Sending requests\n",
    "\n",
    "We can send requests to the deployed components with either the python code for the classifier running locally or remotely. \n",
    "\n",
    "First we test calling the classifer locally. It will call out to the remote models running in Docker."
   ]
  },
  {
   "cell_type": "code",
   "execution_count": 8,
   "metadata": {},
   "outputs": [
    {
     "data": {
      "text/plain": [
       "(array([[0.00847207, 0.03168794, 0.95984   ]]), 'xgboost prediction')"
      ]
     },
     "execution_count": 8,
     "metadata": {},
     "output_type": "execute_result"
    }
   ],
   "source": [
    "classifier(payload=np.array([[1, 2, 3, 4]]))"
   ]
  },
  {
   "cell_type": "markdown",
   "metadata": {},
   "source": [
    "Now we can use the `.remote` method to call to the remote classifier running in Docker."
   ]
  },
  {
   "cell_type": "code",
   "execution_count": 9,
   "metadata": {},
   "outputs": [
    {
     "data": {
      "text/plain": [
       "{'output0': array([[0.00847207, 0.03168794, 0.95984   ]]),\n",
       " 'output1': 'xgboost prediction'}"
      ]
     },
     "execution_count": 9,
     "metadata": {},
     "output_type": "execute_result"
    }
   ],
   "source": [
    "classifier.remote(payload=np.array([[1, 2, 3, 4]]))"
   ]
  },
  {
   "cell_type": "code",
   "execution_count": 10,
   "metadata": {},
   "outputs": [
    {
     "data": {
      "text/plain": [
       "{'output0': array([[1.00000000e+00, 1.02962312e-10, 1.64000397e-30]]),\n",
       " 'output1': 'sklearn prediction'}"
      ]
     },
     "execution_count": 10,
     "metadata": {},
     "output_type": "execute_result"
    }
   ],
   "source": [
    "classifier.remote(payload=np.array([[5.964,4.006,2.081,1.031]]))"
   ]
  },
  {
   "cell_type": "markdown",
   "metadata": {},
   "source": [
    "### Undeploy pipeline"
   ]
  },
  {
   "cell_type": "code",
   "execution_count": 11,
   "metadata": {},
   "outputs": [
    {
     "name": "stderr",
     "output_type": "stream",
     "text": [
      "INFO:tempo:Undeploying classifier\n",
      "INFO:tempo:Undeploying test-iris-sklearn\n",
      "INFO:tempo:Undeploying test-iris-xgboost\n"
     ]
    }
   ],
   "source": [
    "classifier.undeploy()"
   ]
  }
 ],
 "metadata": {
  "kernelspec": {
   "display_name": "Python 3",
   "language": "python",
   "name": "python3"
  },
  "language_info": {
   "codemirror_mode": {
    "name": "ipython",
    "version": 3
   },
   "file_extension": ".py",
   "mimetype": "text/x-python",
   "name": "python",
   "nbconvert_exporter": "python",
   "pygments_lexer": "ipython3",
   "version": "3.9.2"
  }
 },
 "nbformat": 4,
 "nbformat_minor": 5
}
