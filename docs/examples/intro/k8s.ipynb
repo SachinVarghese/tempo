{
 "cells": [
  {
   "cell_type": "markdown",
   "id": "breeding-narrative",
   "metadata": {},
   "source": [
    "# Introction to Tempo on Kubernetes\n",
    "\n",
    "This notebook will walk you through an end-to-end example deploying a Tempo pipeline deployed to Kubernetes.\n",
    "\n",
    "## Prerequisites\n",
    "\n",
    "  * rclone and conda installed.\n",
    "  * Run this notebook within the `seldon-examples` conda environment. Details to create this can be found [here]()."
   ]
  },
  {
   "cell_type": "markdown",
   "id": "anonymous-membership",
   "metadata": {},
   "source": [
    "## Architecture\n",
    "\n",
    "We will show two Iris dataset prediction models combined with service orchestration that shows some arbitrary python code to control predictions from the two models.\n",
    "\n",
    "![architecture](architecture.png)"
   ]
  },
  {
   "cell_type": "code",
   "execution_count": 1,
   "id": "daily-faculty",
   "metadata": {},
   "outputs": [],
   "source": [
    "from IPython.core.magic import register_line_cell_magic\n",
    "\n",
    "@register_line_cell_magic\n",
    "def writetemplate(line, cell):\n",
    "    with open(line, 'w') as f:\n",
    "        f.write(cell.format(**globals()))"
   ]
  },
  {
   "cell_type": "markdown",
   "id": "historical-excellence",
   "metadata": {},
   "source": [
    "## Train Iris Models\n",
    "\n",
    "We will train:\n",
    "\n",
    "  * A sklearn logistic regression model\n",
    "  * A xgboost model"
   ]
  },
  {
   "cell_type": "code",
   "execution_count": 2,
   "id": "piano-receptor",
   "metadata": {},
   "outputs": [],
   "source": [
    "%%bash\n",
    "mkdir -p ./artifacts/sklearn\n",
    "mkdir -p ./artifacts/xgboost"
   ]
  },
  {
   "cell_type": "code",
   "execution_count": 3,
   "id": "worth-olympus",
   "metadata": {},
   "outputs": [],
   "source": [
    "from sklearn import datasets\n",
    "from sklearn.linear_model import LogisticRegression\n",
    "import joblib\n",
    "iris = datasets.load_iris()\n",
    "X = iris.data  # we only take the first two features.\n",
    "y = iris.target\n",
    "logreg = LogisticRegression(C=1e5)\n",
    "logreg.fit(X, y)\n",
    "logreg.predict_proba(X[0:1])\n",
    "with open(\"./artifacts/sklearn/model.joblib\",\"wb\") as f:\n",
    "    joblib.dump(logreg, f)"
   ]
  },
  {
   "cell_type": "code",
   "execution_count": 4,
   "id": "assumed-cardiff",
   "metadata": {},
   "outputs": [
    {
     "name": "stdout",
     "output_type": "stream",
     "text": [
      "[20:22:23] WARNING: ../src/learner.cc:1061: Starting in XGBoost 1.3.0, the default evaluation metric used with the objective 'multi:softprob' was changed from 'merror' to 'mlogloss'. Explicitly set eval_metric if you'd like to restore the old behavior.\n"
     ]
    },
    {
     "name": "stderr",
     "output_type": "stream",
     "text": [
      "/home/rskolasinski/miniconda3/envs/tempo-examples/lib/python3.7/site-packages/xgboost/sklearn.py:888: UserWarning: The use of label encoder in XGBClassifier is deprecated and will be removed in a future release. To remove this warning, do the following: 1) Pass option use_label_encoder=False when constructing XGBClassifier object; and 2) Encode your labels (y) as integers starting with 0, i.e. 0, 1, 2, ..., [num_class - 1].\n",
      "  warnings.warn(label_encoder_deprecation_msg, UserWarning)\n"
     ]
    }
   ],
   "source": [
    "from xgboost import XGBClassifier\n",
    "clf = XGBClassifier()\n",
    "clf.fit(X,y)\n",
    "clf.save_model(\"./artifacts/xgboost/model.bst\")"
   ]
  },
  {
   "cell_type": "markdown",
   "id": "approximate-clerk",
   "metadata": {},
   "source": [
    "## Defining pipeline\n",
    "\n",
    "The first step will be to define our custom pipeline.\n",
    "This pipeline will access 2 models, stored remotely. "
   ]
  },
  {
   "cell_type": "code",
   "execution_count": 5,
   "id": "everyday-sound",
   "metadata": {},
   "outputs": [],
   "source": [
    "import os\n",
    "import numpy as np\n",
    "from typing import Tuple\n",
    "from tempo.serve.metadata import ModelFramework, KubernetesOptions, RuntimeOptions\n",
    "from tempo.serve.model import Model\n",
    "from tempo.serve.pipeline import PipelineModels\n",
    "from tempo.seldon.protocol import SeldonProtocol\n",
    "from tempo.seldon.docker import SeldonDockerRuntime\n",
    "from tempo.kfserving.protocol import KFServingV2Protocol\n",
    "from tempo.serve.utils import pipeline, predictmethod\n",
    "from tempo.seldon.k8s import SeldonKubernetesRuntime\n",
    "from tempo.serve.utils import pipeline\n",
    "from tempo.serve.loader import save, upload\n",
    "\n",
    "import logging\n",
    "logging.basicConfig(level=logging.INFO)\n",
    "\n",
    "SKLEARN_FOLDER = os.getcwd()+\"/artifacts/sklearn\"\n",
    "XGBOOST_FOLDER = os.getcwd()+\"/artifacts/xgboost\"\n",
    "PIPELINE_ARTIFACTS_FOLDER = os.getcwd()+\"/artifacts/classifier\"\n",
    "\n",
    "runtimeOptions=RuntimeOptions(  \n",
    "    k8s_options=KubernetesOptions( \n",
    "        namespace=\"production\",\n",
    "        authSecretName=\"minio-secret\"\n",
    "    )\n",
    ")\n",
    "\n",
    "sklearn_model = Model(\n",
    "        name=\"test-iris-sklearn\",\n",
    "        platform=ModelFramework.SKLearn,\n",
    "        protocol=SeldonProtocol(),\n",
    "        runtime_options=runtimeOptions,\n",
    "        local_folder=SKLEARN_FOLDER,\n",
    "        uri=\"s3://tempo/basic/sklearn\"\n",
    ")\n",
    "\n",
    "xgboost_model = Model(\n",
    "        name=\"test-iris-xgboost\",\n",
    "        platform=ModelFramework.XGBoost,\n",
    "        protocol=SeldonProtocol(),\n",
    "        runtime_options=runtimeOptions,    \n",
    "        local_folder=XGBOOST_FOLDER,\n",
    "        uri=\"s3://tempo/basic/xgboost\"\n",
    ")\n",
    "\n",
    "@pipeline(\n",
    "    name=\"classifier\",\n",
    "    uri=\"s3://tempo/basic/pipeline\",\n",
    "    local_folder=PIPELINE_ARTIFACTS_FOLDER,\n",
    "    runtime_options=runtimeOptions,\n",
    "    models=PipelineModels(sklearn=sklearn_model, xgboost=xgboost_model)\n",
    " )\n",
    "def classifier(payload: np.ndarray) -> Tuple[np.ndarray,str]:\n",
    "    res1 = classifier.models.sklearn(payload)\n",
    "\n",
    "    if res1[0][0] > 0.5:\n",
    "        return res1, \"sklearn prediction\"\n",
    "    else:\n",
    "        return classifier.models.xgboost(payload), \"xgboost prediction\""
   ]
  },
  {
   "cell_type": "markdown",
   "id": "conscious-lambda",
   "metadata": {},
   "source": [
    "### Saving artifacts\n",
    "\n",
    "We provide a conda yaml in out `local_folder` which tempo will use as the runtime environment to save. If this file was not there it would save the current conda environment. One can also provide a named conda environment with `conda_env` in the decorator."
   ]
  },
  {
   "cell_type": "code",
   "execution_count": 6,
   "id": "structured-confidence",
   "metadata": {},
   "outputs": [],
   "source": [
    "import sys\n",
    "import os\n",
    "PYTHON_VERSION = f\"{sys.version_info.major}.{sys.version_info.minor}.{sys.version_info.micro}\"\n",
    "TEMPO_DIR = os.path.abspath(os.path.join(os.getcwd(), '..', '..', '..'))"
   ]
  },
  {
   "cell_type": "code",
   "execution_count": 7,
   "id": "failing-cookbook",
   "metadata": {},
   "outputs": [],
   "source": [
    "%%writetemplate artifacts/classifier/conda.yaml\n",
    "name: tempo\n",
    "channels:\n",
    "  - defaults\n",
    "dependencies:\n",
    "  - python={PYTHON_VERSION}\n",
    "  - pip:\n",
    "    - mlops-tempo @ file://{TEMPO_DIR}\n",
    "    - mlserver==0.3.1.dev7"
   ]
  },
  {
   "cell_type": "code",
   "execution_count": 8,
   "id": "medieval-publication",
   "metadata": {},
   "outputs": [
    {
     "name": "stderr",
     "output_type": "stream",
     "text": [
      "INFO:tempo:Saving environment\n",
      "INFO:tempo:Saving tempo model to /home/rskolasinski/work/tempo/docs/examples/intro/artifacts/classifier/model.pickle\n",
      "INFO:tempo:Using found conda.yaml\n",
      "INFO:tempo:Creating conda env with: conda env create --name tempo-cd9bbbe1-23dc-4ffa-ba06-ca929b21db9c --file /tmp/tmpq44n5jg7.yml\n",
      "INFO:tempo:packing conda environment from tempo-cd9bbbe1-23dc-4ffa-ba06-ca929b21db9c\n"
     ]
    },
    {
     "name": "stdout",
     "output_type": "stream",
     "text": [
      "Collecting packages...\n",
      "Packing environment at '/home/rskolasinski/miniconda3/envs/tempo-cd9bbbe1-23dc-4ffa-ba06-ca929b21db9c' to '/home/rskolasinski/work/tempo/docs/examples/intro/artifacts/classifier/environment.tar.gz'\n",
      "[########################################] | 100% Completed |  9.5s\n"
     ]
    },
    {
     "name": "stderr",
     "output_type": "stream",
     "text": [
      "INFO:tempo:Removing conda env with: conda remove --name tempo-cd9bbbe1-23dc-4ffa-ba06-ca929b21db9c --all --yes\n"
     ]
    }
   ],
   "source": [
    "save(classifier, save_env=True)"
   ]
  },
  {
   "cell_type": "markdown",
   "id": "married-slope",
   "metadata": {},
   "source": [
    "## Deploying pipeline to K8s\n",
    "\n",
    "The next step, will be to deploy our pipeline to Kubernetes.\n",
    "We will divide this process into 3 sub-steps:\n",
    "\n",
    "1. Save our artifacts and environment\n",
    "2. Upload to remote storage\n",
    "3. Deploy resources"
   ]
  },
  {
   "cell_type": "markdown",
   "id": "sound-mailman",
   "metadata": {},
   "source": [
    "### Setup Namespace with Minio Secret"
   ]
  },
  {
   "cell_type": "code",
   "execution_count": 9,
   "id": "institutional-nightmare",
   "metadata": {},
   "outputs": [
    {
     "name": "stdout",
     "output_type": "stream",
     "text": [
      "Error from server (AlreadyExists): namespaces \"production\" already exists\n"
     ]
    }
   ],
   "source": [
    "!kubectl create namespace production"
   ]
  },
  {
   "cell_type": "code",
   "execution_count": 10,
   "id": "smoking-apple",
   "metadata": {},
   "outputs": [
    {
     "name": "stdout",
     "output_type": "stream",
     "text": [
      "serviceaccount/tempo-pipeline unchanged\n",
      "role.rbac.authorization.k8s.io/tempo-pipeline unchanged\n",
      "rolebinding.rbac.authorization.k8s.io/tempo-pipeline-rolebinding unchanged\n"
     ]
    }
   ],
   "source": [
    "!kubectl apply -f ../../../k8s/tempo-pipeline-rbac.yaml -n production"
   ]
  },
  {
   "cell_type": "code",
   "execution_count": 11,
   "id": "lasting-third",
   "metadata": {},
   "outputs": [
    {
     "name": "stdout",
     "output_type": "stream",
     "text": [
      "Overwriting minio-secret.yaml\n"
     ]
    }
   ],
   "source": [
    "%%writefile minio-secret.yaml\n",
    "\n",
    "apiVersion: v1\n",
    "kind: Secret\n",
    "metadata:\n",
    "  name: minio-secret\n",
    "type: Opaque\n",
    "stringData:\n",
    "  AWS_ACCESS_KEY_ID: minioadmin\n",
    "  AWS_SECRET_ACCESS_KEY: minioadmin\n",
    "  AWS_ENDPOINT_URL: http://minio.minio-system.svc.cluster.local:9000\n",
    "  USE_SSL: \"false\""
   ]
  },
  {
   "cell_type": "code",
   "execution_count": 12,
   "id": "accurate-heavy",
   "metadata": {},
   "outputs": [
    {
     "name": "stdout",
     "output_type": "stream",
     "text": [
      "secret/minio-secret configured\n"
     ]
    }
   ],
   "source": [
    "!kubectl apply -f minio-secret.yaml -n production"
   ]
  },
  {
   "cell_type": "markdown",
   "id": "stuffed-congress",
   "metadata": {},
   "source": [
    "### Uploading artifacts"
   ]
  },
  {
   "cell_type": "code",
   "execution_count": 13,
   "id": "suspended-pickup",
   "metadata": {},
   "outputs": [],
   "source": [
    "MINIO_IP=!kubectl get svc minio -n minio-system -o jsonpath='{.status.loadBalancer.ingress[0].ip}'\n",
    "MINIO_IP=MINIO_IP[0]"
   ]
  },
  {
   "cell_type": "code",
   "execution_count": 14,
   "id": "monthly-domain",
   "metadata": {},
   "outputs": [],
   "source": [
    "%%writetemplate rclone.conf\n",
    "[s3]\n",
    "type = s3\n",
    "provider = minio\n",
    "env_auth = false\n",
    "access_key_id = minioadmin\n",
    "secret_access_key = minioadmin\n",
    "endpoint = http://{MINIO_IP}:9000"
   ]
  },
  {
   "cell_type": "code",
   "execution_count": 15,
   "id": "compact-european",
   "metadata": {},
   "outputs": [],
   "source": [
    "import os\n",
    "from tempo.conf import settings\n",
    "settings.rclone_cfg = os.getcwd() + \"/rclone.conf\""
   ]
  },
  {
   "cell_type": "code",
   "execution_count": 16,
   "id": "administrative-tension",
   "metadata": {},
   "outputs": [
    {
     "name": "stderr",
     "output_type": "stream",
     "text": [
      "INFO:tempo:Uploading /home/rskolasinski/work/tempo/docs/examples/intro/artifacts/sklearn to s3://tempo/basic/sklearn\n",
      "INFO:tempo:Uploading /home/rskolasinski/work/tempo/docs/examples/intro/artifacts/xgboost to s3://tempo/basic/xgboost\n",
      "INFO:tempo:Uploading /home/rskolasinski/work/tempo/docs/examples/intro/artifacts/classifier to s3://tempo/basic/pipeline\n"
     ]
    }
   ],
   "source": [
    "upload(sklearn_model)\n",
    "upload(xgboost_model)\n",
    "upload(classifier)"
   ]
  },
  {
   "cell_type": "markdown",
   "id": "adjustable-berkeley",
   "metadata": {},
   "source": [
    "### Deploy"
   ]
  },
  {
   "cell_type": "code",
   "execution_count": 17,
   "id": "bearing-integer",
   "metadata": {},
   "outputs": [],
   "source": [
    "k8s_runtime = SeldonKubernetesRuntime()\n",
    "k8s_runtime.deploy(classifier)\n",
    "k8s_runtime.wait_ready(classifier)"
   ]
  },
  {
   "cell_type": "markdown",
   "id": "becoming-expansion",
   "metadata": {},
   "source": [
    "### Sending requests\n",
    "\n",
    "Lastly, we can now send requests to our deployed pipeline.\n",
    "For this, we will leverage the `remote()` method, which will interact without our deployed pipeline (as opposed to executing our pipeline's code locally)."
   ]
  },
  {
   "cell_type": "code",
   "execution_count": 18,
   "id": "demographic-sessions",
   "metadata": {},
   "outputs": [],
   "source": [
    "from tempo.utils import tempo_settings\n",
    "tempo_settings.remote_kubernetes(True)"
   ]
  },
  {
   "cell_type": "code",
   "execution_count": 19,
   "id": "solar-current",
   "metadata": {},
   "outputs": [
    {
     "data": {
      "text/plain": [
       "(array([[0.00847207, 0.03168794, 0.95984   ]]), 'xgboost prediction')"
      ]
     },
     "execution_count": 19,
     "metadata": {},
     "output_type": "execute_result"
    }
   ],
   "source": [
    "classifier(payload=np.array([[1, 2, 3, 4]]))"
   ]
  },
  {
   "cell_type": "code",
   "execution_count": 20,
   "id": "hollywood-flashing",
   "metadata": {},
   "outputs": [
    {
     "data": {
      "text/plain": [
       "{'output0': array([[0.00847207, 0.03168794, 0.95984   ]]),\n",
       " 'output1': 'xgboost prediction'}"
      ]
     },
     "execution_count": 20,
     "metadata": {},
     "output_type": "execute_result"
    }
   ],
   "source": [
    "classifier.remote(payload=np.array([[1, 2, 3, 4]]))"
   ]
  },
  {
   "cell_type": "code",
   "execution_count": 21,
   "id": "compact-hopkins",
   "metadata": {},
   "outputs": [
    {
     "data": {
      "text/plain": [
       "{'output0': array([[1.00000000e+00, 1.02766967e-10, 1.63395905e-30]]),\n",
       " 'output1': 'sklearn prediction'}"
      ]
     },
     "execution_count": 21,
     "metadata": {},
     "output_type": "execute_result"
    }
   ],
   "source": [
    "classifier.remote(payload=np.array([[5.964,4.006,2.081,1.031]]))"
   ]
  },
  {
   "cell_type": "markdown",
   "id": "eleven-parent",
   "metadata": {},
   "source": [
    "### Undeploy pipeline"
   ]
  },
  {
   "cell_type": "code",
   "execution_count": 22,
   "id": "breathing-eugene",
   "metadata": {},
   "outputs": [
    {
     "name": "stderr",
     "output_type": "stream",
     "text": [
      "INFO:tempo:Undeploying classifier\n",
      "INFO:tempo:Undeploying test-iris-sklearn\n",
      "INFO:tempo:Undeploying test-iris-xgboost\n"
     ]
    }
   ],
   "source": [
    "k8s_runtime.undeploy(classifier)"
   ]
  }
 ],
 "metadata": {
  "kernelspec": {
   "display_name": "Python 3",
   "language": "python",
   "name": "python3"
  },
  "language_info": {
   "codemirror_mode": {
    "name": "ipython",
    "version": 3
   },
   "file_extension": ".py",
   "mimetype": "text/x-python",
   "name": "python",
   "nbconvert_exporter": "python",
   "pygments_lexer": "ipython3",
   "version": "3.7.9"
  }
 },
 "nbformat": 4,
 "nbformat_minor": 5
}
