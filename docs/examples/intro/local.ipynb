{
 "cells": [
  {
   "cell_type": "markdown",
   "id": "impressed-potential",
   "metadata": {},
   "source": [
    "# Introduction to Tempo Example\n",
    "\n",
    "This notebook will walk you through an end-to-end example deploying a Tempo pipeline, running on its own Conda environment.\n",
    "\n",
    "## Prerequisites\n",
    "\n",
    "  * rclone and conda installed.\n",
    "  * Run this notebook within the `seldon-examples` conda environment. Details to create this can be found [here]()."
   ]
  },
  {
   "cell_type": "markdown",
   "id": "wrong-challenge",
   "metadata": {},
   "source": [
    "## Architecture\n",
    "\n",
    "We will show two Iris dataset prediction models combined with service orchestration that shows some arbitrary python code to control predictions from the two models.\n",
    "\n",
    "![architecture](architecture.png)"
   ]
  },
  {
   "cell_type": "code",
   "execution_count": 1,
   "id": "separated-drinking",
   "metadata": {},
   "outputs": [],
   "source": [
    "from IPython.core.magic import register_line_cell_magic\n",
    "\n",
    "@register_line_cell_magic\n",
    "def writetemplate(line, cell):\n",
    "    with open(line, 'w') as f:\n",
    "        f.write(cell.format(**globals()))"
   ]
  },
  {
   "cell_type": "markdown",
   "id": "minimal-vehicle",
   "metadata": {},
   "source": [
    "## Train Iris Models\n",
    "\n",
    "We will train:\n",
    "\n",
    "  * A sklearn logistic regression model\n",
    "  * A xgboost model"
   ]
  },
  {
   "cell_type": "code",
   "execution_count": 2,
   "id": "furnished-comfort",
   "metadata": {},
   "outputs": [],
   "source": [
    "%%bash\n",
    "mkdir -p ./artifacts/sklearn\n",
    "mkdir -p ./artifacts/xgboost"
   ]
  },
  {
   "cell_type": "code",
   "execution_count": 3,
   "id": "optimum-archive",
   "metadata": {},
   "outputs": [],
   "source": [
    "from sklearn import datasets\n",
    "from sklearn.linear_model import LogisticRegression\n",
    "import joblib\n",
    "iris = datasets.load_iris()\n",
    "X = iris.data  # we only take the first two features.\n",
    "y = iris.target\n",
    "logreg = LogisticRegression(C=1e5)\n",
    "logreg.fit(X, y)\n",
    "logreg.predict_proba(X[0:1])\n",
    "with open(\"./artifacts/sklearn/model.joblib\",\"wb\") as f:\n",
    "    joblib.dump(logreg, f)"
   ]
  },
  {
   "cell_type": "code",
   "execution_count": 4,
   "id": "applicable-million",
   "metadata": {},
   "outputs": [
    {
     "name": "stdout",
     "output_type": "stream",
     "text": [
      "[12:39:32] WARNING: ../src/learner.cc:1061: Starting in XGBoost 1.3.0, the default evaluation metric used with the objective 'multi:softprob' was changed from 'merror' to 'mlogloss'. Explicitly set eval_metric if you'd like to restore the old behavior.\n"
     ]
    },
    {
     "name": "stderr",
     "output_type": "stream",
     "text": [
      "/home/rskolasinski/miniconda3/envs/tempo-examples/lib/python3.7/site-packages/xgboost/sklearn.py:888: UserWarning: The use of label encoder in XGBClassifier is deprecated and will be removed in a future release. To remove this warning, do the following: 1) Pass option use_label_encoder=False when constructing XGBClassifier object; and 2) Encode your labels (y) as integers starting with 0, i.e. 0, 1, 2, ..., [num_class - 1].\n",
      "  warnings.warn(label_encoder_deprecation_msg, UserWarning)\n"
     ]
    }
   ],
   "source": [
    "from xgboost import XGBClassifier\n",
    "clf = XGBClassifier()\n",
    "clf.fit(X,y)\n",
    "clf.save_model(\"./artifacts/xgboost/model.bst\")"
   ]
  },
  {
   "cell_type": "markdown",
   "id": "outstanding-statement",
   "metadata": {},
   "source": [
    "## Defining pipeline\n",
    "\n",
    "The first step will be to define our custom pipeline.\n",
    "This pipeline will access 2 models, stored remotely. "
   ]
  },
  {
   "cell_type": "code",
   "execution_count": 5,
   "id": "durable-bearing",
   "metadata": {},
   "outputs": [],
   "source": [
    "import os\n",
    "import numpy as np\n",
    "from typing import Tuple\n",
    "from tempo.serve.metadata import ModelFramework, KubernetesOptions\n",
    "from tempo.serve.model import Model\n",
    "from tempo.serve.pipeline import PipelineModels\n",
    "from tempo.seldon.protocol import SeldonProtocol\n",
    "from tempo.seldon.docker import SeldonDockerRuntime\n",
    "from tempo.kfserving.protocol import KFServingV2Protocol\n",
    "from tempo.serve.utils import pipeline, predictmethod\n",
    "from tempo.seldon.k8s import SeldonKubernetesRuntime\n",
    "from tempo.serve.utils import pipeline\n",
    "from tempo.serve.loader import save\n",
    "\n",
    "import logging\n",
    "logging.basicConfig(level=logging.INFO)\n",
    "\n",
    "SKLEARN_FOLDER = os.getcwd()+\"/artifacts/sklearn\"\n",
    "XGBOOST_FOLDER = os.getcwd()+\"/artifacts/xgboost\"\n",
    "PIPELINE_ARTIFACTS_FOLDER = os.getcwd()+\"/artifacts/classifier\"\n",
    "\n",
    "sklearn_model = Model(\n",
    "        name=\"test-iris-sklearn\",\n",
    "        platform=ModelFramework.SKLearn,\n",
    "        protocol=SeldonProtocol(),\n",
    "        local_folder=SKLEARN_FOLDER,\n",
    "        uri=\"s3://tempo/basic/sklearn\"\n",
    ")\n",
    "\n",
    "xgboost_model = Model(\n",
    "        name=\"test-iris-xgboost\",\n",
    "        platform=ModelFramework.XGBoost,\n",
    "        protocol=SeldonProtocol(),\n",
    "        local_folder=XGBOOST_FOLDER,\n",
    "        uri=\"s3://tempo/basic/xgboost\"\n",
    ")\n",
    "\n",
    "@pipeline(\n",
    "    name=\"classifier\",\n",
    "    uri=\"s3://tempo/basic/pipeline\",\n",
    "    local_folder=PIPELINE_ARTIFACTS_FOLDER,\n",
    "    models=PipelineModels(sklearn=sklearn_model, xgboost=xgboost_model)\n",
    ")\n",
    "def classifier(payload: np.ndarray) -> Tuple[np.ndarray,str]:\n",
    "    res1 = classifier.models.sklearn(payload)\n",
    "\n",
    "    if res1[0][0] > 0.5:\n",
    "        return res1, \"sklearn prediction\"\n",
    "    else:\n",
    "        return classifier.models.xgboost(payload), \"xgboost prediction\""
   ]
  },
  {
   "cell_type": "markdown",
   "id": "cooperative-seventh",
   "metadata": {},
   "source": [
    "## Deploying pipeline to Docker\n",
    "\n",
    "The next step, will be to deploy our pipeline to Docker.\n",
    "We will divide this process into 2 steps:\n",
    "\n",
    "1. Save our artifacts and environment\n",
    "2. Deploy resources"
   ]
  },
  {
   "cell_type": "markdown",
   "id": "rapid-investigator",
   "metadata": {},
   "source": [
    "### Saving artifacts\n",
    "\n",
    "We provide a conda yaml in out `local_folder` which tempo will use as the runtime environment to save. If this file was not there it would save the current conda environment. One can also provide a named conda environment with `conda_env` in the decorator."
   ]
  },
  {
   "cell_type": "code",
   "execution_count": 6,
   "id": "norman-subcommittee",
   "metadata": {},
   "outputs": [],
   "source": [
    "import sys\n",
    "import os\n",
    "PYTHON_VERSION = f\"{sys.version_info.major}.{sys.version_info.minor}.{sys.version_info.micro}\"\n",
    "TEMPO_DIR = os.path.abspath(os.path.join(os.getcwd(), '..', '..', '..'))"
   ]
  },
  {
   "cell_type": "code",
   "execution_count": 7,
   "id": "recognized-rescue",
   "metadata": {},
   "outputs": [],
   "source": [
    "!mkdir -p artifacts/classifier"
   ]
  },
  {
   "cell_type": "code",
   "execution_count": 8,
   "id": "pleasant-attraction",
   "metadata": {},
   "outputs": [],
   "source": [
    "%%writetemplate artifacts/classifier/conda.yaml\n",
    "name: tempo\n",
    "channels:\n",
    "  - defaults\n",
    "dependencies:\n",
    "  - python={PYTHON_VERSION}\n",
    "  - pip:\n",
    "    - mlops-tempo @ file://{TEMPO_DIR}\n",
    "    - mlserver==0.3.1.dev7"
   ]
  },
  {
   "cell_type": "code",
   "execution_count": 9,
   "id": "primary-delhi",
   "metadata": {
    "scrolled": true
   },
   "outputs": [
    {
     "name": "stderr",
     "output_type": "stream",
     "text": [
      "INFO:tempo:Saving environment\n",
      "INFO:tempo:Saving tempo model to /home/rskolasinski/work/tempo/docs/examples/intro/artifacts/classifier/model.pickle\n",
      "INFO:tempo:Using found conda.yaml\n",
      "INFO:tempo:Creating conda env with: conda env create --name tempo-14bfdcb2-9a2c-4c3a-8a76-552801fafdbb --file /tmp/tmpwewazuic.yml\n",
      "INFO:tempo:packing conda environment from tempo-14bfdcb2-9a2c-4c3a-8a76-552801fafdbb\n"
     ]
    },
    {
     "name": "stdout",
     "output_type": "stream",
     "text": [
      "Collecting packages...\n",
      "Packing environment at '/home/rskolasinski/miniconda3/envs/tempo-14bfdcb2-9a2c-4c3a-8a76-552801fafdbb' to '/home/rskolasinski/work/tempo/docs/examples/intro/artifacts/classifier/environment.tar.gz'\n",
      "[########################################] | 100% Completed | 10.6s\n"
     ]
    },
    {
     "name": "stderr",
     "output_type": "stream",
     "text": [
      "INFO:tempo:Removing conda env with: conda remove --name tempo-14bfdcb2-9a2c-4c3a-8a76-552801fafdbb --all --yes\n"
     ]
    }
   ],
   "source": [
    "save(classifier, save_env=True)"
   ]
  },
  {
   "cell_type": "markdown",
   "id": "verified-washer",
   "metadata": {},
   "source": [
    "### Deploying pipeline"
   ]
  },
  {
   "cell_type": "code",
   "execution_count": 12,
   "id": "nominated-bernard",
   "metadata": {},
   "outputs": [],
   "source": [
    "docker_runtime = SeldonDockerRuntime()\n",
    "docker_runtime.deploy(classifier)\n",
    "docker_runtime.wait_ready(classifier)"
   ]
  },
  {
   "cell_type": "markdown",
   "id": "proof-memphis",
   "metadata": {},
   "source": [
    "### Sending requests\n",
    "\n",
    "We can send requests to the deployed components with either the python code for the classifier running locally or remotely. \n",
    "\n",
    "First we test calling the classifer locally. It will call out to the remote models running in Docker."
   ]
  },
  {
   "cell_type": "code",
   "execution_count": 13,
   "id": "responsible-action",
   "metadata": {},
   "outputs": [
    {
     "data": {
      "text/plain": [
       "(array([[0.00847207, 0.03168794, 0.95984   ]]), 'xgboost prediction')"
      ]
     },
     "execution_count": 13,
     "metadata": {},
     "output_type": "execute_result"
    }
   ],
   "source": [
    "classifier(payload=np.array([[1, 2, 3, 4]]))"
   ]
  },
  {
   "cell_type": "markdown",
   "id": "daily-wholesale",
   "metadata": {},
   "source": [
    "Now we can use the `.remote` method to call to the remote classifier running in Docker."
   ]
  },
  {
   "cell_type": "code",
   "execution_count": 14,
   "id": "private-techno",
   "metadata": {
    "scrolled": true
   },
   "outputs": [
    {
     "data": {
      "text/plain": [
       "{'output0': array([[0.00847207, 0.03168794, 0.95984   ]]),\n",
       " 'output1': 'xgboost prediction'}"
      ]
     },
     "execution_count": 14,
     "metadata": {},
     "output_type": "execute_result"
    }
   ],
   "source": [
    "classifier.remote(payload=np.array([[1, 2, 3, 4]]))"
   ]
  },
  {
   "cell_type": "code",
   "execution_count": 15,
   "id": "fundamental-country",
   "metadata": {},
   "outputs": [
    {
     "data": {
      "text/plain": [
       "{'output0': array([[1.00000000e+00, 1.02766967e-10, 1.63395905e-30]]),\n",
       " 'output1': 'sklearn prediction'}"
      ]
     },
     "execution_count": 15,
     "metadata": {},
     "output_type": "execute_result"
    }
   ],
   "source": [
    "classifier.remote(payload=np.array([[5.964,4.006,2.081,1.031]]))"
   ]
  },
  {
   "cell_type": "markdown",
   "id": "synthetic-modeling",
   "metadata": {},
   "source": [
    "### Undeploy pipeline"
   ]
  },
  {
   "cell_type": "code",
   "execution_count": 16,
   "id": "guided-conducting",
   "metadata": {},
   "outputs": [
    {
     "name": "stderr",
     "output_type": "stream",
     "text": [
      "INFO:tempo:Undeploying classifier\n",
      "INFO:tempo:Undeploying test-iris-sklearn\n",
      "INFO:tempo:Undeploying test-iris-xgboost\n"
     ]
    }
   ],
   "source": [
    "docker_runtime.undeploy(classifier)"
   ]
  }
 ],
 "metadata": {
  "kernelspec": {
   "display_name": "Python 3",
   "language": "python",
   "name": "python3"
  },
  "language_info": {
   "codemirror_mode": {
    "name": "ipython",
    "version": 3
   },
   "file_extension": ".py",
   "mimetype": "text/x-python",
   "name": "python",
   "nbconvert_exporter": "python",
   "pygments_lexer": "ipython3",
   "version": "3.7.9"
  }
 },
 "nbformat": 4,
 "nbformat_minor": 5
}
