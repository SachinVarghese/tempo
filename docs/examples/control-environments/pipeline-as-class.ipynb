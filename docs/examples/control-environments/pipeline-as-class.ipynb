{
 "cells": [
  {
   "cell_type": "markdown",
   "id": "preceding-modification",
   "metadata": {},
   "source": [
    "# Control the runtime environment"
   ]
  },
  {
   "cell_type": "code",
   "execution_count": 1,
   "id": "representative-frost",
   "metadata": {},
   "outputs": [],
   "source": [
    "from IPython.core.magic import register_line_cell_magic\n",
    "\n",
    "@register_line_cell_magic\n",
    "def writetemplate(line, cell):\n",
    "    with open(line, 'w') as f:\n",
    "        f.write(cell.format(**globals()))"
   ]
  },
  {
   "cell_type": "markdown",
   "id": "lucky-healing",
   "metadata": {},
   "source": [
    "## Train Iris Models\n",
    "\n",
    "We will train:\n",
    "\n",
    "  * A sklearn logistic regression model\n",
    "  * A xgboost model"
   ]
  },
  {
   "cell_type": "code",
   "execution_count": 2,
   "id": "earned-compromise",
   "metadata": {},
   "outputs": [],
   "source": [
    "import os"
   ]
  },
  {
   "cell_type": "code",
   "execution_count": 3,
   "id": "lesser-grave",
   "metadata": {},
   "outputs": [],
   "source": [
    "XGBOOST_FOLDER = f\"{os.getcwd()}/artifacts/xgboost\"\n",
    "SKLEARN_FOLDER = f\"{os.getcwd()}/artifacts/sklearn\""
   ]
  },
  {
   "cell_type": "code",
   "execution_count": 4,
   "id": "preliminary-halloween",
   "metadata": {},
   "outputs": [],
   "source": [
    "!mkdir -p {XGBOOST_FOLDER}\n",
    "!mkdir -p {SKLEARN_FOLDER}"
   ]
  },
  {
   "cell_type": "markdown",
   "id": "artificial-course",
   "metadata": {},
   "source": [
    "## Train Models"
   ]
  },
  {
   "cell_type": "code",
   "execution_count": 5,
   "id": "hispanic-device",
   "metadata": {},
   "outputs": [],
   "source": [
    "import sklearn\n",
    "from sklearn import datasets\n",
    "from sklearn.linear_model import LogisticRegression\n",
    "import joblib\n",
    "\n",
    "iris = datasets.load_iris()\n",
    "X, y = iris.data, iris.target\n",
    "\n",
    "logreg = LogisticRegression(C=1e5)\n",
    "logreg.fit(X, y)\n",
    "\n",
    "with open(f\"{SKLEARN_FOLDER}/model.joblib\",\"wb\") as f:\n",
    "    joblib.dump(logreg, f)"
   ]
  },
  {
   "cell_type": "code",
   "execution_count": 6,
   "id": "sticky-preview",
   "metadata": {},
   "outputs": [
    {
     "name": "stdout",
     "output_type": "stream",
     "text": [
      "[14:37:34] WARNING: ../src/learner.cc:1061: Starting in XGBoost 1.3.0, the default evaluation metric used with the objective 'multi:softprob' was changed from 'merror' to 'mlogloss'. Explicitly set eval_metric if you'd like to restore the old behavior.\n"
     ]
    },
    {
     "name": "stderr",
     "output_type": "stream",
     "text": [
      "/home/rskolasinski/miniconda3/envs/tempo-examples/lib/python3.7/site-packages/xgboost/sklearn.py:888: UserWarning: The use of label encoder in XGBClassifier is deprecated and will be removed in a future release. To remove this warning, do the following: 1) Pass option use_label_encoder=False when constructing XGBClassifier object; and 2) Encode your labels (y) as integers starting with 0, i.e. 0, 1, 2, ..., [num_class - 1].\n",
      "  warnings.warn(label_encoder_deprecation_msg, UserWarning)\n"
     ]
    }
   ],
   "source": [
    "import xgboost\n",
    "clf = xgboost.XGBClassifier()\n",
    "clf.fit(X, y)\n",
    "clf.save_model(f\"{XGBOOST_FOLDER}/model.bst\")"
   ]
  },
  {
   "cell_type": "markdown",
   "id": "parental-backup",
   "metadata": {},
   "source": [
    "## Write models environments"
   ]
  },
  {
   "cell_type": "code",
   "execution_count": 7,
   "id": "surprising-reasoning",
   "metadata": {},
   "outputs": [],
   "source": [
    "import sys\n",
    "import os\n",
    "PYTHON_VERSION = f\"{sys.version_info.major}.{sys.version_info.minor}.{sys.version_info.micro}\"\n",
    "SKLEARN_VERSION = sklearn.__version__\n",
    "XGBOOST_VERSION = xgboost.__version__\n",
    "TEMPO_DIR = os.path.abspath(os.path.join(os.getcwd(), '..', '..', '..'))"
   ]
  },
  {
   "cell_type": "code",
   "execution_count": 8,
   "id": "modified-worry",
   "metadata": {},
   "outputs": [],
   "source": [
    "%%writetemplate $SKLEARN_FOLDER/conda.yaml\n",
    "name: tempo-sklearn\n",
    "channels:\n",
    "  - defaults\n",
    "dependencies:\n",
    "  - python={PYTHON_VERSION}\n",
    "  - pip:\n",
    "    - mlops-tempo @ file://{TEMPO_DIR}\n",
    "    - scikit-learn=={SKLEARN_VERSION}\n",
    "    - mlserver==0.3.1.dev5\n",
    "    - mlserver-tempo==0.3.1.dev5"
   ]
  },
  {
   "cell_type": "code",
   "execution_count": 9,
   "id": "alone-tragedy",
   "metadata": {},
   "outputs": [],
   "source": [
    "%%writetemplate $XGBOOST_FOLDER/conda.yaml\n",
    "name: tempo-xgboost\n",
    "channels:\n",
    "  - defaults\n",
    "dependencies:\n",
    "  - python={PYTHON_VERSION}\n",
    "  - pip:\n",
    "    - mlops-tempo @ file://{TEMPO_DIR}\n",
    "    - xgboost=={XGBOOST_VERSION}\n",
    "    - mlserver==0.3.1.dev5\n",
    "    - mlserver-tempo==0.3.1.dev5"
   ]
  },
  {
   "cell_type": "markdown",
   "id": "ambient-moment",
   "metadata": {},
   "source": [
    "## Define Model Servers"
   ]
  },
  {
   "cell_type": "code",
   "execution_count": 10,
   "id": "saving-cliff",
   "metadata": {},
   "outputs": [],
   "source": [
    "from tempo.serve.metadata import ModelFramework, KubernetesOptions\n",
    "\n",
    "from tempo.kfserving.protocol import KFServingV2Protocol\n",
    "\n",
    "from tempo.seldon.k8s import SeldonKubernetesRuntime\n",
    "from tempo.seldon.docker import SeldonDockerRuntime\n",
    "\n",
    "import tempo.serve.utils as tempo_utils\n",
    "from tempo.serve.loader import save"
   ]
  },
  {
   "cell_type": "code",
   "execution_count": 11,
   "id": "unable-genome",
   "metadata": {},
   "outputs": [],
   "source": [
    "import numpy as np\n",
    "import socket"
   ]
  },
  {
   "cell_type": "code",
   "execution_count": 12,
   "id": "suffering-engine",
   "metadata": {},
   "outputs": [],
   "source": [
    "import logging\n",
    "logging.basicConfig(level=logging.INFO)"
   ]
  },
  {
   "cell_type": "code",
   "execution_count": 13,
   "id": "desperate-quick",
   "metadata": {},
   "outputs": [],
   "source": [
    "from typing import Dict, Any\n",
    "\n",
    "import joblib\n",
    "import socket\n",
    "from typing import Tuple\n",
    "import xgboost as xgb\n",
    "\n",
    "@tempo_utils.model(\n",
    "    name=\"sklearn-classifier\",\n",
    "    platform=ModelFramework.TempoPipeline,\n",
    "    uri=\"s3://tempo/control-environments/iris\",\n",
    "    local_folder=SKLEARN_FOLDER,\n",
    ")\n",
    "class IrisClassifier:\n",
    "    def __init__(self):\n",
    "        self.ready = False\n",
    "      \n",
    "    def load(self):\n",
    "        try:\n",
    "            self.model = joblib.load(\"/mnt/models/model.joblib\")        \n",
    "            self.ready = True\n",
    "        except FileNotFoundError:\n",
    "            self.model = joblib.load(f\"{SKLEARN_FOLDER}/model.joblib\")        \n",
    "            self.ready = True\n",
    "\n",
    "    @tempo_utils.predictmethod\n",
    "    def predict(self, payload: np.ndarray) -> dict:\n",
    "        if not self.ready:\n",
    "            self.load()\n",
    "        prediction = self.model.predict_proba(payload)\n",
    "        return {\"prediction\": prediction.tolist(), \"meta\": {\"hostname\": socket.gethostname()}}\n",
    "    \n",
    "    \n",
    "@tempo_utils.model(\n",
    "    name=\"xgboost-classifier\",\n",
    "    platform=ModelFramework.TempoPipeline,\n",
    "    uri=\"s3://tempo/control-environments/xgboost\",\n",
    "    local_folder=XGBOOST_FOLDER,\n",
    ")\n",
    "class XGBoostClassifier:\n",
    "    def __init__(self):\n",
    "        self.ready = False\n",
    "\n",
    "    def load(self):\n",
    "        try:\n",
    "            self.model = xgb.Booster(model_file=\"/mnt/models/model.bst\")\n",
    "            self.ready = True\n",
    "        except (FileNotFoundError, Exception):\n",
    "            self.model = xgb.Booster(model_file=f\"{XGBOOST_FOLDER}/model.bst\")        \n",
    "            self.ready = True            \n",
    "\n",
    "    @tempo_utils.predictmethod\n",
    "    def predict(self, payload: np.ndarray) -> dict:\n",
    "        if not self.ready:\n",
    "            self.load()\n",
    "        prediction = self.model.predict(xgb.DMatrix(payload))\n",
    "        return {\"prediction\": prediction.tolist(), \"meta\": {\"hostname\": socket.gethostname()}}"
   ]
  },
  {
   "cell_type": "code",
   "execution_count": 14,
   "id": "responsible-staff",
   "metadata": {},
   "outputs": [],
   "source": [
    "model_sklearn = IrisClassifier()\n",
    "model_xgboost = XGBoostClassifier()"
   ]
  },
  {
   "cell_type": "code",
   "execution_count": 15,
   "id": "agricultural-warning",
   "metadata": {},
   "outputs": [
    {
     "name": "stderr",
     "output_type": "stream",
     "text": [
      "INFO:tempo:Saving environment\n",
      "INFO:tempo:Saving tempo model to /home/rskolasinski/work/tempo/docs/examples/control-environments/artifacts/sklearn/model.pickle\n",
      "INFO:tempo:Using found conda.yaml\n",
      "INFO:tempo:Creating conda env with: conda env create --name tempo-7c4f55a2-0760-46fb-9a31-6c586c08fef1 --file /tmp/tmpbb26jkmn.yml\n",
      "INFO:tempo:packing conda environment from tempo-7c4f55a2-0760-46fb-9a31-6c586c08fef1\n"
     ]
    },
    {
     "name": "stdout",
     "output_type": "stream",
     "text": [
      "Collecting packages...\n",
      "Packing environment at '/home/rskolasinski/miniconda3/envs/tempo-7c4f55a2-0760-46fb-9a31-6c586c08fef1' to '/home/rskolasinski/work/tempo/docs/examples/control-environments/artifacts/sklearn/environment.tar.gz'\n",
      "[########################################] | 100% Completed | 15.5s\n"
     ]
    },
    {
     "name": "stderr",
     "output_type": "stream",
     "text": [
      "INFO:tempo:Removing conda env with: conda remove --name tempo-7c4f55a2-0760-46fb-9a31-6c586c08fef1 --all --yes\n",
      "INFO:tempo:Saving environment\n",
      "INFO:tempo:Saving tempo model to /home/rskolasinski/work/tempo/docs/examples/control-environments/artifacts/xgboost/model.pickle\n",
      "INFO:tempo:Using found conda.yaml\n",
      "INFO:tempo:Creating conda env with: conda env create --name tempo-f43d828c-54af-4182-b0ef-4632585f88c9 --file /tmp/tmpkr72i37t.yml\n",
      "INFO:tempo:packing conda environment from tempo-f43d828c-54af-4182-b0ef-4632585f88c9\n"
     ]
    },
    {
     "name": "stdout",
     "output_type": "stream",
     "text": [
      "Collecting packages...\n",
      "Packing environment at '/home/rskolasinski/miniconda3/envs/tempo-f43d828c-54af-4182-b0ef-4632585f88c9' to '/home/rskolasinski/work/tempo/docs/examples/control-environments/artifacts/xgboost/environment.tar.gz'\n",
      "[########################################] | 100% Completed | 23.1s\n"
     ]
    },
    {
     "name": "stderr",
     "output_type": "stream",
     "text": [
      "INFO:tempo:Removing conda env with: conda remove --name tempo-f43d828c-54af-4182-b0ef-4632585f88c9 --all --yes\n"
     ]
    }
   ],
   "source": [
    "save(model_sklearn, save_env=True)\n",
    "save(model_xgboost, save_env=True)"
   ]
  },
  {
   "cell_type": "code",
   "execution_count": 16,
   "id": "liquid-aircraft",
   "metadata": {},
   "outputs": [],
   "source": [
    "docker_runtime = SeldonDockerRuntime()"
   ]
  },
  {
   "cell_type": "code",
   "execution_count": 17,
   "id": "decent-picking",
   "metadata": {},
   "outputs": [],
   "source": [
    "# model_sklearn.undeploy()\n",
    "# model_xgboost.undeploy()"
   ]
  },
  {
   "cell_type": "code",
   "execution_count": 18,
   "id": "peaceful-valuation",
   "metadata": {},
   "outputs": [],
   "source": [
    "docker_runtime.deploy(model_sklearn)\n",
    "docker_runtime.deploy(model_xgboost)"
   ]
  },
  {
   "cell_type": "code",
   "execution_count": 19,
   "id": "excellent-cooler",
   "metadata": {},
   "outputs": [],
   "source": [
    "import numpy as np\n",
    "\n",
    "p1 = np.array([[1, 2, 3, 4]])\n",
    "p2 = np.array([[5.964,4.006,2.081,1.031]])"
   ]
  },
  {
   "cell_type": "code",
   "execution_count": 28,
   "id": "improving-missouri",
   "metadata": {},
   "outputs": [
    {
     "name": "stdout",
     "output_type": "stream",
     "text": [
      "{'prediction': [[9.49810079285076e-34, 2.267015334079471e-19, 1.0]], 'meta': {'hostname': '7a192a0249d1'}}\n",
      "{'prediction': [[0.9999999998972331, 1.0276696730328812e-10, 1.633959045505507e-30]], 'meta': {'hostname': '7a192a0249d1'}}\n"
     ]
    }
   ],
   "source": [
    "print(model_sklearn.remote(payload=p1))\n",
    "print(model_sklearn.remote(payload=p2))"
   ]
  },
  {
   "cell_type": "code",
   "execution_count": 29,
   "id": "vocational-grade",
   "metadata": {},
   "outputs": [
    {
     "name": "stdout",
     "output_type": "stream",
     "text": [
      "{'prediction': [[0.00847206823527813, 0.03168793022632599, 0.9598399996757507]], 'meta': {'hostname': '09a8c18c9bee'}}\n",
      "{'prediction': [[0.9732961654663086, 0.024121448397636414, 0.002582334913313389]], 'meta': {'hostname': '09a8c18c9bee'}}\n"
     ]
    }
   ],
   "source": [
    "print(model_xgboost.remote(payload=p1))\n",
    "print(model_xgboost.remote(payload=p2))"
   ]
  },
  {
   "cell_type": "markdown",
   "id": "laden-stadium",
   "metadata": {},
   "source": [
    "## Define Pipeline"
   ]
  },
  {
   "cell_type": "code",
   "execution_count": 30,
   "id": "ceramic-remedy",
   "metadata": {},
   "outputs": [],
   "source": [
    "PIPELINE_FOLDER = f\"{os.getcwd()}/artifacts/classifier\"\n",
    "!mkdir -p {PIPELINE_FOLDER}"
   ]
  },
  {
   "cell_type": "code",
   "execution_count": 31,
   "id": "favorite-anthropology",
   "metadata": {},
   "outputs": [],
   "source": [
    "from tempo.serve.pipeline import PipelineModels\n",
    "from typing import Tuple\n",
    "\n",
    "\n",
    "@tempo_utils.pipeline(\n",
    "    name=\"classifier\",\n",
    "    uri=\"s3://tempo/control-environments/classifier\",\n",
    "    local_folder=PIPELINE_FOLDER,\n",
    "    models=PipelineModels(sklearn=model_sklearn, xgboost=model_xgboost)\n",
    ")\n",
    "class Classifier:\n",
    "    @tempo_utils.predictmethod\n",
    "    def classifier(self, payload: np.ndarray) -> Tuple[dict, str]:\n",
    "        res1 = self.models.sklearn(payload=payload)\n",
    "\n",
    "        if res1[\"prediction\"][0][0] > 0.5:\n",
    "            return res1,\"sklearn prediction\"\n",
    "        else:\n",
    "            return self.models.xgboost(payload=payload), \"xgboost prediction\"\n",
    "        \n",
    "        \n",
    "classifier = Classifier()        "
   ]
  },
  {
   "cell_type": "code",
   "execution_count": 32,
   "id": "blocked-habitat",
   "metadata": {},
   "outputs": [],
   "source": [
    "%%writetemplate $PIPELINE_FOLDER/conda.yaml\n",
    "name: tempo\n",
    "channels:\n",
    "  - defaults\n",
    "dependencies:\n",
    "  - python={PYTHON_VERSION}\n",
    "  - pip:\n",
    "    - mlops-tempo @ file://{TEMPO_DIR}\n",
    "    - joblib\n",
    "    - mlserver==0.3.1.dev7"
   ]
  },
  {
   "cell_type": "code",
   "execution_count": 33,
   "id": "mental-andrews",
   "metadata": {},
   "outputs": [
    {
     "name": "stderr",
     "output_type": "stream",
     "text": [
      "INFO:tempo:Saving environment\n",
      "INFO:tempo:Saving tempo model to /home/rskolasinski/work/tempo/docs/examples/control-environments/artifacts/classifier/model.pickle\n",
      "INFO:tempo:Using found conda.yaml\n",
      "INFO:tempo:Creating conda env with: conda env create --name tempo-36628da6-b0fa-4a31-adf9-4dfb8a3592d8 --file /tmp/tmpaq44de1z.yml\n",
      "INFO:tempo:packing conda environment from tempo-36628da6-b0fa-4a31-adf9-4dfb8a3592d8\n"
     ]
    },
    {
     "name": "stdout",
     "output_type": "stream",
     "text": [
      "Collecting packages...\n",
      "Packing environment at '/home/rskolasinski/miniconda3/envs/tempo-36628da6-b0fa-4a31-adf9-4dfb8a3592d8' to '/home/rskolasinski/work/tempo/docs/examples/control-environments/artifacts/classifier/environment.tar.gz'\n",
      "[########################################] | 100% Completed | 12.2s\n"
     ]
    },
    {
     "name": "stderr",
     "output_type": "stream",
     "text": [
      "INFO:tempo:Removing conda env with: conda remove --name tempo-36628da6-b0fa-4a31-adf9-4dfb8a3592d8 --all --yes\n"
     ]
    }
   ],
   "source": [
    "docker_runtime = SeldonDockerRuntime()\n",
    "save(classifier, save_env=True)"
   ]
  },
  {
   "cell_type": "code",
   "execution_count": 34,
   "id": "voluntary-incidence",
   "metadata": {},
   "outputs": [],
   "source": [
    "docker_runtime.deploy(classifier)"
   ]
  },
  {
   "cell_type": "code",
   "execution_count": 35,
   "id": "expected-playing",
   "metadata": {},
   "outputs": [
    {
     "data": {
      "text/plain": [
       "({'prediction': [[0.00847206823527813,\n",
       "    0.03168793022632599,\n",
       "    0.9598399996757507]],\n",
       "  'meta': {'hostname': 'machine42'}},\n",
       " 'xgboost prediction')"
      ]
     },
     "execution_count": 35,
     "metadata": {},
     "output_type": "execute_result"
    }
   ],
   "source": [
    "classifier(payload=p1)"
   ]
  },
  {
   "cell_type": "code",
   "execution_count": 38,
   "id": "blocked-campaign",
   "metadata": {},
   "outputs": [
    {
     "data": {
      "text/plain": [
       "{'output0': {'prediction': [[0.00847206823527813,\n",
       "    0.03168793022632599,\n",
       "    0.9598399996757507]],\n",
       "  'meta': {'hostname': '09a8c18c9bee'}},\n",
       " 'output1': 'xgboost prediction'}"
      ]
     },
     "execution_count": 38,
     "metadata": {},
     "output_type": "execute_result"
    }
   ],
   "source": [
    "classifier.remote(payload=p1)"
   ]
  },
  {
   "cell_type": "code",
   "execution_count": 39,
   "id": "warming-flavor",
   "metadata": {},
   "outputs": [
    {
     "name": "stderr",
     "output_type": "stream",
     "text": [
      "INFO:tempo:Undeploying classifier\n",
      "INFO:tempo:Undeploying sklearn-classifier\n",
      "INFO:tempo:Undeploying xgboost-classifier\n"
     ]
    }
   ],
   "source": [
    "docker_runtime.undeploy(classifier)"
   ]
  }
 ],
 "metadata": {
  "kernelspec": {
   "display_name": "Python 3",
   "language": "python",
   "name": "python3"
  },
  "language_info": {
   "codemirror_mode": {
    "name": "ipython",
    "version": 3
   },
   "file_extension": ".py",
   "mimetype": "text/x-python",
   "name": "python",
   "nbconvert_exporter": "python",
   "pygments_lexer": "ipython3",
   "version": "3.7.9"
  }
 },
 "nbformat": 4,
 "nbformat_minor": 5
}
