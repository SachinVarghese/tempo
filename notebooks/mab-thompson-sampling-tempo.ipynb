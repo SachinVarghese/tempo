{
 "cells": [
  {
   "cell_type": "code",
   "execution_count": 1,
   "metadata": {},
   "outputs": [],
   "source": [
    "import numpy as np\n",
    "\n",
    "from tempo.serve.metadata import ModelFramework, KubernetesOptions\n",
    "from tempo.serve.model import Model\n",
    "from tempo.seldon.docker import SeldonDockerRuntime\n",
    "from tempo.kfserving.protocol import KFServingV2Protocol\n",
    "from tempo.serve.utils import pipeline, predictmethod\n",
    "from tempo.seldon.k8s import SeldonKubernetesRuntime\n",
    "from tempo.serve.utils import pipeline"
   ]
  },
  {
   "cell_type": "code",
   "execution_count": 2,
   "metadata": {},
   "outputs": [
    {
     "name": "stderr",
     "output_type": "stream",
     "text": [
      "INFO:root:test\n"
     ]
    }
   ],
   "source": [
    "import logging\n",
    "logger = logging.getLogger()\n",
    "logger.setLevel(logging.INFO)\n",
    "logging.info(\"test\")"
   ]
  },
  {
   "cell_type": "code",
   "execution_count": null,
   "metadata": {},
   "outputs": [],
   "source": [
    "!kubectl create ns production"
   ]
  },
  {
   "cell_type": "code",
   "execution_count": null,
   "metadata": {},
   "outputs": [],
   "source": [
    "!kubectl apply -f ../tempo/tests/testdata/tempo-pipeline-rbac.yaml -n production"
   ]
  },
  {
   "cell_type": "code",
   "execution_count": null,
   "metadata": {},
   "outputs": [],
   "source": [
    "!helm install redis bitnami/redis -n seldon --set usePassword=false"
   ]
  },
  {
   "cell_type": "code",
   "execution_count": 5,
   "metadata": {},
   "outputs": [
    {
     "name": "stdout",
     "output_type": "stream",
     "text": [
      "Downloading default-of-credit-card-clients-dataset.zip to /home/alejandro/Programming/kubernetes/seldon/tempo/notebooks\n",
      "100%|██████████████████████████████████████| 0.98M/0.98M [00:00<00:00, 3.41MB/s]\n",
      "100%|██████████████████████████████████████| 0.98M/0.98M [00:00<00:00, 3.40MB/s]\n",
      "Archive:  default-of-credit-card-clients-dataset.zip\n",
      "  inflating: UCI_Credit_Card.csv     \n"
     ]
    }
   ],
   "source": [
    "!kaggle datasets download -d uciml/default-of-credit-card-clients-dataset\n",
    "!unzip -o default-of-credit-card-clients-dataset.zip"
   ]
  },
  {
   "cell_type": "code",
   "execution_count": 3,
   "metadata": {},
   "outputs": [],
   "source": [
    "import pandas as pd\n",
    "data = pd.read_csv('UCI_Credit_Card.csv')"
   ]
  },
  {
   "cell_type": "code",
   "execution_count": 4,
   "metadata": {},
   "outputs": [],
   "source": [
    "target = 'default.payment.next.month'"
   ]
  },
  {
   "cell_type": "code",
   "execution_count": 5,
   "metadata": {},
   "outputs": [],
   "source": [
    "import numpy as np\n",
    "from sklearn.model_selection import train_test_split\n",
    "\n",
    "OBSERVED_DATA = 15000\n",
    "TRAIN_1 = 10000\n",
    "TEST_1 = 5000\n",
    "\n",
    "REST_DATA = 15000\n",
    "\n",
    "RUN_DATA = 5000\n",
    "ROUTE_DATA = 10000\n",
    "\n",
    "# get features and target\n",
    "X = data.loc[:, data.columns!=target].values\n",
    "y = data[target].values\n",
    "\n",
    "# observed/unobserved split\n",
    "X_obs, X_rest, y_obs, y_rest = train_test_split(X, y, random_state=1, test_size=REST_DATA)\n",
    "\n",
    "# observed split into train1/test1\n",
    "X_train1, X_test1, y_train1, y_test1 = train_test_split(X_obs, y_obs, random_state=1, test_size=TEST_1)\n",
    "\n",
    "# unobserved split into run/route\n",
    "X_run, X_route, y_run, y_route = train_test_split(X_rest, y_rest, random_state=1, test_size=ROUTE_DATA)\n",
    "\n",
    "# observed+run split into train2/test2\n",
    "X_rest = np.vstack((X_run, X_route))\n",
    "y_rest = np.hstack((y_run, y_route))\n",
    "\n",
    "X_train2 = np.vstack((X_train1, X_test1))\n",
    "X_test2 = X_run\n",
    "\n",
    "y_train2 = np.hstack((y_train1, y_test1))\n",
    "y_test2 = y_run"
   ]
  },
  {
   "cell_type": "code",
   "execution_count": 17,
   "metadata": {},
   "outputs": [
    {
     "data": {
      "text/plain": [
       "RandomForestClassifier(random_state=1)"
      ]
     },
     "execution_count": 17,
     "metadata": {},
     "output_type": "execute_result"
    }
   ],
   "source": [
    "from sklearn.ensemble import RandomForestClassifier\n",
    "rf = RandomForestClassifier(random_state=1)\n",
    "rf.fit(X_train1, y_train1)"
   ]
  },
  {
   "cell_type": "code",
   "execution_count": 18,
   "metadata": {},
   "outputs": [
    {
     "data": {
      "text/plain": [
       "XGBClassifier(base_score=0.5, booster='gbtree', colsample_bylevel=1,\n",
       "              colsample_bynode=1, colsample_bytree=1, gamma=0, gpu_id=-1,\n",
       "              importance_type='gain', interaction_constraints='',\n",
       "              learning_rate=0.300000012, max_delta_step=0, max_depth=6,\n",
       "              min_child_weight=1, missing=nan, monotone_constraints='()',\n",
       "              n_estimators=100, n_jobs=0, num_parallel_tree=1, random_state=1,\n",
       "              reg_alpha=0, reg_lambda=1, scale_pos_weight=1, subsample=1,\n",
       "              tree_method='exact', validate_parameters=1, verbosity=None)"
      ]
     },
     "execution_count": 18,
     "metadata": {},
     "output_type": "execute_result"
    }
   ],
   "source": [
    "from xgboost import XGBClassifier\n",
    "xgb = XGBClassifier(random_state=1)\n",
    "xgb.fit(X_train2, y_train2)"
   ]
  },
  {
   "cell_type": "code",
   "execution_count": 139,
   "metadata": {},
   "outputs": [],
   "source": [
    "!mkdir -p mab/sklearn/\n",
    "!mkdir -p mab/xgboost/"
   ]
  },
  {
   "cell_type": "code",
   "execution_count": 140,
   "metadata": {},
   "outputs": [
    {
     "data": {
      "text/plain": [
       "['mab/sklearn/model.joblib']"
      ]
     },
     "execution_count": 140,
     "metadata": {},
     "output_type": "execute_result"
    }
   ],
   "source": [
    "import joblib\n",
    "joblib.dump(rf, 'mab/sklearn/model.joblib')"
   ]
  },
  {
   "cell_type": "code",
   "execution_count": 141,
   "metadata": {},
   "outputs": [],
   "source": [
    "xgb.save_model('mab/xgboost/model.bst')"
   ]
  },
  {
   "cell_type": "code",
   "execution_count": 6,
   "metadata": {},
   "outputs": [],
   "source": [
    "import os\n",
    "\n",
    "k8s_options = KubernetesOptions(namespace=\"production\")\n",
    "k8s_runtime = SeldonKubernetesRuntime(k8s_options=k8s_options)\n",
    "\n",
    "sklearn_model = Model(\n",
    "        name=\"test-iris-sklearn\",\n",
    "        runtime=k8s_runtime,\n",
    "        platform=ModelFramework.SKLearn,\n",
    "        uri=\"gs://seldon-models/mab/sklearn\",\n",
    "        local_folder=os.getcwd()+\"/mab/sklearn\")\n",
    "\n",
    "xgboost_model = Model(\n",
    "        name=\"test-iris-xgboost\",\n",
    "        runtime=k8s_runtime,\n",
    "        platform=ModelFramework.XGBoost,\n",
    "        uri=\"gs://seldon-models/mab/xgboost\",\n",
    "        local_folder=os.getcwd()+\"/mab/xgboost/\")"
   ]
  },
  {
   "cell_type": "code",
   "execution_count": null,
   "metadata": {},
   "outputs": [],
   "source": [
    "sklearn_model.upload()\n",
    "xgboost_model.upload()"
   ]
  },
  {
   "cell_type": "code",
   "execution_count": 44,
   "metadata": {},
   "outputs": [],
   "source": [
    "k8s_runtime_v2 = SeldonKubernetesRuntime(k8s_options=k8s_options, protocol=KFServingV2Protocol())\n",
    "\n",
    "@pipeline(name=\"mab-pipeline\",\n",
    "          runtime=k8s_runtime_v2,\n",
    "          uri=\"gs://seldon-models/custom\",\n",
    "          models=[sklearn_model, xgboost_model])\n",
    "class MABRouter(object):\n",
    "\n",
    "    def _init(self):\n",
    "        self.n_branches = 2\n",
    "        self.beta_params = [1 for _ in range(self.n_branches * 2)]\n",
    "        \n",
    "        import logging\n",
    "        log = logging.getLogger(__name__)\n",
    "        log.setLevel(10)\n",
    "        self._log = log\n",
    "        \n",
    "        host = \"redis-master-0\"\n",
    "        import os\n",
    "        if os.environ.get(\"SELDON_LOCAL_ENVIRONMENT\"):\n",
    "            host = \"localhost\"\n",
    "            \n",
    "        self._log.info(f\"Setting up redis with host {host}\")\n",
    "            \n",
    "        import numpy as np\n",
    "        self._np = np\n",
    "        \n",
    "        import redis\n",
    "        self._rc = redis.Redis(host=host, port=6379)\n",
    "        self._key = \"seldon_deployment_predictor_model_1\"\n",
    "        \n",
    "        if not self._rc.exists(self._key):\n",
    "            models_beta_params = [1 for _ in range(self.n_branches * 2)]\n",
    "            self._rc.lpush(self._key, *models_beta_params)\n",
    "            \n",
    "    @predictmethod\n",
    "    def route(self, payload: np.ndarray) -> np.ndarray:\n",
    "\n",
    "        if not hasattr(self, \"_is_init\") or not self._is_init:\n",
    "            self._init()\n",
    "            self._is_init = True\n",
    "        \n",
    "        models_beta_params = [int(i) for i in self._rc.lrange(self._key, 0, -1)]\n",
    "        branch_values = [np.random.beta(a, b) for a, b in zip(*[iter(models_beta_params)] * 2)]\n",
    "        selected_branch = np.argmax(branch_values)\n",
    "        self._log.info(f\"routing to branch: {selected_branch}\")\n",
    "        \n",
    "        if selected_branch:\n",
    "            return sklearn_model(payload)\n",
    "        else:\n",
    "            return xgboost_model(payload)"
   ]
  },
  {
   "cell_type": "code",
   "execution_count": 10,
   "metadata": {},
   "outputs": [
    {
     "name": "stdout",
     "output_type": "stream",
     "text": [
      "env: SELDON_LOCAL_ENVIRONMENT=LOCAL\n"
     ]
    }
   ],
   "source": [
    "%env SELDON_LOCAL_ENVIRONMENT=LOCAL\n",
    "\n",
    "mab_router = MABRouter()"
   ]
  },
  {
   "cell_type": "code",
   "execution_count": null,
   "metadata": {},
   "outputs": [],
   "source": [
    "mab_router.save()\n",
    "\n",
    "mab_router.upload()"
   ]
  },
  {
   "cell_type": "code",
   "execution_count": 50,
   "metadata": {},
   "outputs": [],
   "source": [
    "mab_router.deploy()\n",
    "mab_router.wait_ready()"
   ]
  },
  {
   "cell_type": "code",
   "execution_count": 173,
   "metadata": {},
   "outputs": [
    {
     "name": "stderr",
     "output_type": "stream",
     "text": [
      "INFO:__main__:routing to branch: 0\n"
     ]
    },
    {
     "data": {
      "text/plain": [
       "array([0.0865844])"
      ]
     },
     "execution_count": 173,
     "metadata": {},
     "output_type": "execute_result"
    }
   ],
   "source": [
    "mab_router.route(payload=X_rest[0:1])"
   ]
  },
  {
   "cell_type": "code",
   "execution_count": 82,
   "metadata": {},
   "outputs": [],
   "source": [
    "@pipeline(name=\"mab-feedback\",\n",
    "          runtime=k8s_runtime_v2,\n",
    "          uri=\"gs://seldon-models/custom\")\n",
    "class MABFeedback(object):\n",
    "\n",
    "    def _init(self):\n",
    "        self.n_branches = 2\n",
    "        self.beta_params = [1 for _ in range(self.n_branches * 2)]\n",
    "        \n",
    "        import logging\n",
    "        log = logging.getLogger(__name__)\n",
    "        log.setLevel(10)\n",
    "        self._log = log\n",
    "        \n",
    "        host = \"redis-master-0\"\n",
    "        import os\n",
    "        if os.environ.get(\"SELDON_LOCAL_ENVIRONMENT\"):\n",
    "            host = \"localhost\"\n",
    "        \n",
    "        self._log.info(f\"Setting up redis with host {host}\")\n",
    "            \n",
    "        import numpy as np\n",
    "        self._np = np\n",
    "        \n",
    "        import redis\n",
    "        self._rc = redis.Redis(host=host, port=6379)\n",
    "        self._key = \"seldon_deployment_predictor_model_1\"\n",
    "        \n",
    "        if not self._rc.exists(self._key):\n",
    "            models_beta_params = [1 for _ in range(self.n_branches * 2)]\n",
    "            self._log.info(f\"Creating new key in redis with vals: {models_beta_params}\")\n",
    "            self._rc.lpush(self._key, *models_beta_params)\n",
    "        else:\n",
    "            self._log.info(\"Redis key already exists\")\n",
    "            \n",
    "    @predictmethod\n",
    "    def feedback(self, payload: np.ndarray) -> np.ndarray:\n",
    "\n",
    "        if not hasattr(self, \"_is_init\") or not self._is_init:\n",
    "            self._init()\n",
    "            self._is_init = True\n",
    "                \n",
    "        reward = payload[0]\n",
    "        routing = payload[1]\n",
    "        truth = payload[2:]\n",
    "\n",
    "        self._log.info(f\"Sending feedback with route {routing} reward {reward} and truth {truth}\")\n",
    "        \n",
    "        # Currently only support 1 feedback at a time\n",
    "        n_predictions = 1\n",
    "        n_success = int(reward * n_predictions)\n",
    "        n_failures = n_predictions - n_success\n",
    "    \n",
    "        self._log.info(f\"n_success: {n_success}, n_failures: {n_failures}\")\n",
    "\n",
    "        # Non atomic, race condition op\n",
    "        self._log.info(f\"LINDEX key {self._key} on index {routing*2}\")\n",
    "        success_val = float(self._rc.lindex(self._key, int(routing*2)))\n",
    "        self._rc.lset(self._key, int(routing*2), str(success_val + n_success))\n",
    "        fail_val = float(self._rc.lindex(self._key, int(routing*2 + 1)))\n",
    "        self._rc.lset(self._key, int(routing*2 + 1), str(fail_val + n_failures))"
   ]
  },
  {
   "cell_type": "code",
   "execution_count": 80,
   "metadata": {},
   "outputs": [
    {
     "name": "stdout",
     "output_type": "stream",
     "text": [
      "env: SELDON_LOCAL_ENVIRONMENT=LOCAL\n"
     ]
    }
   ],
   "source": [
    "%env SELDON_LOCAL_ENVIRONMENT=LOCAL\n",
    "\n",
    "mab_feedback = MABFeedback()"
   ]
  },
  {
   "cell_type": "code",
   "execution_count": null,
   "metadata": {},
   "outputs": [],
   "source": [
    "mab_feedback.save()"
   ]
  },
  {
   "cell_type": "code",
   "execution_count": null,
   "metadata": {},
   "outputs": [],
   "source": [
    "mab_feedback.upload()"
   ]
  },
  {
   "cell_type": "code",
   "execution_count": null,
   "metadata": {},
   "outputs": [],
   "source": [
    "mab_feedback.deploy()\n",
    "\n",
    "mab_feedback.wait_ready()"
   ]
  },
  {
   "cell_type": "code",
   "execution_count": 81,
   "metadata": {},
   "outputs": [
    {
     "name": "stderr",
     "output_type": "stream",
     "text": [
      "INFO:__main__:Setting up redis with host localhost\n",
      "INFO:__main__:Redis key already exists\n",
      "INFO:__main__:Sending feedback with route 0.0 reward 1.0 and truth [ 1.3020e+04  3.2000e+05  1.0000e+00  2.0000e+00  2.0000e+00  2.8000e+01\n",
      "  0.0000e+00  0.0000e+00  0.0000e+00  0.0000e+00  0.0000e+00 -1.0000e+00\n",
      "  1.1639e+04  7.5080e+03  5.5910e+03  2.3710e+03  4.7540e+03  4.9320e+03\n",
      "  2.5520e+03  2.0160e+03  0.0000e+00  1.2000e+01  5.0360e+03  1.0306e+04]\n",
      "INFO:__main__:n_success: 24, n_failures: 0\n",
      "INFO:__main__:LINDEX key seldon_deployment_predictor_model_1 on index 0.0\n"
     ]
    }
   ],
   "source": [
    "route = 0\n",
    "reward = 1\n",
    "mab_feedback.feedback(np.hstack([route, reward, X_train1[0]]))"
   ]
  },
  {
   "cell_type": "code",
   "execution_count": null,
   "metadata": {},
   "outputs": [],
   "source": []
  }
 ],
 "metadata": {
  "kernelspec": {
   "display_name": "Python 3",
   "language": "python",
   "name": "python3"
  },
  "language_info": {
   "codemirror_mode": {
    "name": "ipython",
    "version": 3
   },
   "file_extension": ".py",
   "mimetype": "text/x-python",
   "name": "python",
   "nbconvert_exporter": "python",
   "pygments_lexer": "ipython3",
   "version": "3.7.4"
  }
 },
 "nbformat": 4,
 "nbformat_minor": 4
}
