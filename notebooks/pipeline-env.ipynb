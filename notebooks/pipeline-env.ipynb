{
 "cells": [
  {
   "cell_type": "markdown",
   "id": "significant-amateur",
   "metadata": {},
   "source": [
    "# Deploying pipeline with custom environment\n",
    "\n",
    "This notebook will walk you through an end-to-end example deploying a Tempo pipeline, running on its own Conda environment."
   ]
  },
  {
   "cell_type": "markdown",
   "id": "complicated-syria",
   "metadata": {},
   "source": [
    "## Defining pipeline\n",
    "\n",
    "The first step will be to define our custom pipeline.\n",
    "This pipeline will access 2 models, stored remotely. "
   ]
  },
  {
   "cell_type": "code",
   "execution_count": 6,
   "id": "virtual-classics",
   "metadata": {},
   "outputs": [],
   "source": [
    "import numpy as np\n",
    "\n",
    "from tempo.serve.metadata import ModelFramework, KubernetesOptions\n",
    "from tempo.serve.model import Model\n",
    "from tempo.seldon.docker import SeldonDockerRuntime\n",
    "from tempo.kfserving.protocol import KFServingV2Protocol\n",
    "from tempo.serve.utils import pipeline, predictmethod\n",
    "from tempo.seldon.k8s import SeldonKubernetesRuntime\n",
    "from tempo.serve.utils import pipeline\n",
    "\n",
    "k8s_options = KubernetesOptions(namespace=\"production\")\n",
    "k8s_runtime = SeldonKubernetesRuntime(k8s_options=k8s_options)\n",
    "\n",
    "sklearn_model = Model(\n",
    "        name=\"test-iris-sklearn\",\n",
    "        runtime=k8s_runtime,\n",
    "        platform=ModelFramework.SKLearn,\n",
    "        uri=\"gs://seldon-models/sklearn/iris\"\n",
    ")\n",
    "\n",
    "xgboost_model = Model(\n",
    "        name=\"test-iris-xgboost\",\n",
    "        runtime=k8s_runtime,\n",
    "        platform=ModelFramework.XGBoost,\n",
    "        uri=\"gs://seldon-models/xgboost/iris\"\n",
    ")\n",
    "\n",
    "k8s_runtime_v2 = SeldonKubernetesRuntime(k8s_options=k8s_options, protocol=KFServingV2Protocol())\n",
    "\n",
    "@pipeline(name=\"classifier\",\n",
    "          runtime=k8s_runtime_v2,\n",
    "          uri=\"gs://seldon-models/custom\",\n",
    "          models=[sklearn_model, xgboost_model])\n",
    "def classifier(payload: np.ndarray) -> np.ndarray:\n",
    "    res1 = sklearn_model(payload)\n",
    "\n",
    "    if res1[0][0] > 0.7:\n",
    "        return res1\n",
    "    else:\n",
    "        return xgboost_model(payload)"
   ]
  },
  {
   "cell_type": "markdown",
   "id": "joined-vancouver",
   "metadata": {},
   "source": [
    "## Deploying pipeline\n",
    "\n",
    "The next step, will be to deploy our pipeline to Kubernetes.\n",
    "We will divide this process into 3 sub-steps:\n",
    "\n",
    "1. Save our artifacts and environment\n",
    "2. Upload to remote storage\n",
    "3. Deploy resources"
   ]
  },
  {
   "cell_type": "markdown",
   "id": "pregnant-moral",
   "metadata": {},
   "source": [
    "### Saving artifacts"
   ]
  },
  {
   "cell_type": "code",
   "execution_count": 10,
   "id": "spare-failing",
   "metadata": {},
   "outputs": [],
   "source": [
    "classifier.save()"
   ]
  },
  {
   "cell_type": "markdown",
   "id": "egyptian-universe",
   "metadata": {},
   "source": [
    "### Uploading artifacts"
   ]
  },
  {
   "cell_type": "code",
   "execution_count": 11,
   "id": "alleged-bridge",
   "metadata": {},
   "outputs": [],
   "source": [
    "classifier.upload()"
   ]
  },
  {
   "cell_type": "markdown",
   "id": "chubby-alias",
   "metadata": {},
   "source": [
    "### Deploying pipeline"
   ]
  },
  {
   "cell_type": "markdown",
   "id": "promising-builder",
   "metadata": {},
   "source": [
    "#### Setting up RBAC"
   ]
  },
  {
   "cell_type": "code",
   "execution_count": 16,
   "id": "fossil-brick",
   "metadata": {},
   "outputs": [
    {
     "name": "stdout",
     "output_type": "stream",
     "text": [
      "serviceaccount/tempo-pipeline created\n",
      "role.rbac.authorization.k8s.io/tempo-pipeline created\n",
      "rolebinding.rbac.authorization.k8s.io/tempo-pipeline-rolebinding created\n"
     ]
    }
   ],
   "source": [
    "!kubectl apply -f ../tempo/tests/testdata/tempo-pipeline-rbac.yaml -n production"
   ]
  },
  {
   "cell_type": "code",
   "execution_count": 20,
   "id": "sound-capital",
   "metadata": {},
   "outputs": [
    {
     "data": {
      "text/plain": [
       "True"
      ]
     },
     "execution_count": 20,
     "metadata": {},
     "output_type": "execute_result"
    }
   ],
   "source": [
    "classifier.deploy()\n",
    "classifier.wait_ready()"
   ]
  },
  {
   "cell_type": "markdown",
   "id": "productive-wrestling",
   "metadata": {},
   "source": [
    "## Sending requests\n",
    "\n",
    "Lastly, we can now send requests to our deployed pipeline.\n",
    "For this, we will leverage the `remote()` method, which will interact without our deployed pipeline (as opposed to executing our pipeline's code locally)."
   ]
  },
  {
   "cell_type": "code",
   "execution_count": 21,
   "id": "detailed-cassette",
   "metadata": {},
   "outputs": [
    {
     "data": {
      "text/plain": [
       "array([2.])"
      ]
     },
     "execution_count": 21,
     "metadata": {},
     "output_type": "execute_result"
    }
   ],
   "source": [
    "classifier.remote(payload=np.array([[1, 2, 3, 4]]))"
   ]
  },
  {
   "cell_type": "code",
   "execution_count": null,
   "id": "severe-lodge",
   "metadata": {},
   "outputs": [],
   "source": []
  }
 ],
 "metadata": {
  "kernelspec": {
   "display_name": "Python 3",
   "language": "python",
   "name": "python3"
  },
  "language_info": {
   "codemirror_mode": {
    "name": "ipython",
    "version": 3
   },
   "file_extension": ".py",
   "mimetype": "text/x-python",
   "name": "python",
   "nbconvert_exporter": "python",
   "pygments_lexer": "ipython3",
   "version": "3.7.9"
  }
 },
 "nbformat": 4,
 "nbformat_minor": 5
}
