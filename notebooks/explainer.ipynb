{
 "cells": [
  {
   "cell_type": "code",
   "execution_count": 1,
   "metadata": {},
   "outputs": [],
   "source": [
    "from tempo.serve.metadata import ModelFramework\n",
    "from tempo.serve.model import Model\n",
    "from tempo.seldon.docker import SeldonDockerRuntime\n",
    "from tempo.kfserving.protocol import KFServingV2Protocol\n",
    "from tempo.serve.utils import pipeline, predictmethod\n",
    "from tempo.seldon.k8s import SeldonKubernetesRuntime\n",
    "from tempo.serve.metadata import ModelFramework, KubernetesOptions\n",
    "\n",
    "import numpy as np\n",
    "import os \n",
    "import pprint\n",
    "import dill"
   ]
  },
  {
   "cell_type": "code",
   "execution_count": 2,
   "metadata": {},
   "outputs": [],
   "source": [
    "import numpy as np\n",
    "from sklearn.ensemble import RandomForestClassifier\n",
    "from sklearn.compose import ColumnTransformer\n",
    "from sklearn.pipeline import Pipeline\n",
    "from sklearn.impute import SimpleImputer\n",
    "from sklearn.metrics import accuracy_score\n",
    "from sklearn.preprocessing import StandardScaler, OneHotEncoder\n",
    "from alibi.explainers import AnchorTabular\n",
    "from alibi.datasets import fetch_adult\n",
    "\n",
    "adult = fetch_adult()\n",
    "data = adult.data\n",
    "target = adult.target\n",
    "feature_names = adult.feature_names\n",
    "category_map = adult.category_map"
   ]
  },
  {
   "cell_type": "code",
   "execution_count": 3,
   "metadata": {},
   "outputs": [],
   "source": [
    "np.random.seed(0)\n",
    "data_perm = np.random.permutation(np.c_[data, target])\n",
    "data = data_perm[:,:-1]\n",
    "target = data_perm[:,-1]\n",
    "idx = 30000\n",
    "X_train,Y_train = data[:idx,:], target[:idx]\n",
    "X_test, Y_test = data[idx+1:,:], target[idx+1:]"
   ]
  },
  {
   "cell_type": "code",
   "execution_count": null,
   "metadata": {},
   "outputs": [],
   "source": [
    "ordinal_features = [x for x in range(len(feature_names)) if x not in list(category_map.keys())]\n",
    "ordinal_transformer = Pipeline(steps=[('imputer', SimpleImputer(strategy='median')),\n",
    "                                      ('scaler', StandardScaler())])\n",
    "categorical_features = list(category_map.keys())\n",
    "categorical_transformer = Pipeline(steps=[('imputer', SimpleImputer(strategy='median')),\n",
    "                                          ('onehot', OneHotEncoder(handle_unknown='ignore'))])\n",
    "preprocessor = ColumnTransformer(transformers=[('num', ordinal_transformer, ordinal_features),\n",
    "                                               ('cat', categorical_transformer, categorical_features)])\n",
    "clf = RandomForestClassifier(n_estimators=50)\n",
    "model=Pipeline(steps=[(\"preprocess\",preprocessor),(\"model\",clf)])\n",
    "model.fit(X_train,Y_train)\n",
    "\n",
    "\n",
    "print('Train accuracy: ', accuracy_score(Y_train, model.predict(X_train)))\n",
    "print('Test accuracy: ', accuracy_score(Y_test, model.predict(X_test)))"
   ]
  },
  {
   "cell_type": "code",
   "execution_count": null,
   "metadata": {},
   "outputs": [],
   "source": [
    "from alibi.explainers import AnchorTabular\n",
    "predict_fn = lambda x: model.predict(x)\n",
    "explainer = AnchorTabular(predict_fn, feature_names, categorical_names=category_map, seed=1)\n",
    "explainer.fit(X_train, disc_perc=[25, 50, 75])"
   ]
  },
  {
   "cell_type": "code",
   "execution_count": null,
   "metadata": {},
   "outputs": [],
   "source": [
    "explanation = explainer.explain(X_test[0], threshold=0.95)\n",
    "print('Anchor: %s' % (' AND '.join(explanation.anchor)))\n",
    "print('Precision: %.2f' % explanation.precision)\n",
    "print('Coverage: %.2f' % explanation.coverage)"
   ]
  },
  {
   "cell_type": "code",
   "execution_count": null,
   "metadata": {},
   "outputs": [],
   "source": [
    "from joblib import dump\n",
    "dump(model, os.getcwd()+'/income_model/model.joblib') \n",
    "with open(os.getcwd()+\"/income_explainer/explainer.dill\", 'wb') as f:\n",
    "    dill.dump(explainer,f)"
   ]
  },
  {
   "cell_type": "code",
   "execution_count": 4,
   "metadata": {},
   "outputs": [],
   "source": [
    "k8s_options = KubernetesOptions(namespace=\"production\")\n",
    "k8s_runtime = SeldonKubernetesRuntime(k8s_options=k8s_options)\n",
    "\n",
    "sklearn_model = Model(\n",
    "        name=\"income-sklearn\",\n",
    "        runtime=SeldonDockerRuntime(),\n",
    "        platform=ModelFramework.SKLearn,\n",
    "        local_folder=os.getcwd()+\"/income_model\",\n",
    "        uri=\"gs://seldon-models/sklearn/income/model-0.23.2\"\n",
    ")\n"
   ]
  },
  {
   "cell_type": "code",
   "execution_count": null,
   "metadata": {},
   "outputs": [],
   "source": [
    "sklearn_model.deploy()"
   ]
  },
  {
   "cell_type": "code",
   "execution_count": null,
   "metadata": {},
   "outputs": [],
   "source": [
    "sklearn_model(X_test[0:1])"
   ]
  },
  {
   "cell_type": "code",
   "execution_count": 5,
   "metadata": {},
   "outputs": [],
   "source": [
    "from alibi.utils.wrappers import ArgmaxTransformer\n",
    "from typing import Any\n",
    "import os\n",
    "\n",
    "@pipeline(name=\"mypipeline\",\n",
    "          runtime=SeldonDockerRuntime(protocol=KFServingV2Protocol()),\n",
    "          uri=\"gs://seldon-models/test/income/explainer\",\n",
    "          local_folder=os.getcwd()+\"/income_explainer\",\n",
    "          models=[sklearn_model])\n",
    "class ExplainerPipeline(object):\n",
    "\n",
    "    def __init__(self):\n",
    "        if \"MLSERVER_MODELS_DIR\" in os.environ:\n",
    "            models_folder = \"\"\n",
    "        else:\n",
    "            models_folder = \"/income_explainer\"\n",
    "        with open(os.getcwd()+models_folder+\"/explainer.dill\", \"rb\") as f:\n",
    "            self.explainer = dill.load(f)\n",
    "        self.ran_init = True\n",
    "        \n",
    "    def update_predict_fn(self, x):\n",
    "        if np.argmax(sklearn_model(x).shape) == 0:\n",
    "            self.explainer.predictor = sklearn_model\n",
    "            self.explainer.samplers[0].predictor = sklearn_model\n",
    "        else:\n",
    "            self.explainer.predictor = ArgmaxTransformer(sklearn_model)\n",
    "            self.explainer.samplers[0].predictor = ArgmaxTransformer(sklearn_model)\n",
    "\n",
    "    @predictmethod\n",
    "    def explain(self, payload: np.ndarray) -> str:\n",
    "        if not self.ran_init:\n",
    "            print(\"Loading explainer\")\n",
    "            self.__init__()\n",
    "        self.update_predict_fn(payload)\n",
    "        explanation = self.explainer.explain(payload, threshold=0.95)\n",
    "        return explanation.to_json()"
   ]
  },
  {
   "cell_type": "code",
   "execution_count": 6,
   "metadata": {},
   "outputs": [],
   "source": [
    "p = ExplainerPipeline() "
   ]
  },
  {
   "cell_type": "code",
   "execution_count": null,
   "metadata": {},
   "outputs": [],
   "source": [
    "p.pipeline.details"
   ]
  },
  {
   "cell_type": "code",
   "execution_count": null,
   "metadata": {},
   "outputs": [],
   "source": [
    "p.explain(X_test[0:1])"
   ]
  },
  {
   "cell_type": "code",
   "execution_count": null,
   "metadata": {},
   "outputs": [],
   "source": [
    "p.save(save_env=False)"
   ]
  },
  {
   "cell_type": "code",
   "execution_count": null,
   "metadata": {},
   "outputs": [],
   "source": [
    "p.set_runtime(SeldonDockerRuntime(protocol=KFServingV2Protocol()))"
   ]
  },
  {
   "cell_type": "code",
   "execution_count": 7,
   "metadata": {},
   "outputs": [],
   "source": [
    "p.deploy()"
   ]
  },
  {
   "cell_type": "code",
   "execution_count": 8,
   "metadata": {},
   "outputs": [
    {
     "data": {
      "text/plain": [
       "'{\"meta\": {\"name\": \"AnchorTabular\", \"type\": [\"blackbox\"], \"explanations\": [\"local\"], \"params\": {\"seed\": 1, \"disc_perc\": [25, 50, 75], \"threshold\": 0.95, \"delta\": 0.1, \"tau\": 0.15, \"batch_size\": 100, \"coverage_samples\": 10000, \"beam_size\": 1, \"stop_on_first\": false, \"max_anchor_size\": null, \"min_samples_start\": 100, \"n_covered_ex\": 10, \"binary_cache_size\": 10000, \"cache_margin\": 1000, \"verbose\": false, \"verbose_every\": 1, \"kwargs\": {}}}, \"data\": {\"anchor\": [\"Marital Status = Separated\", \"Sex = Female\"], \"precision\": 0.9565217391304348, \"coverage\": 0.10723333333333333, \"raw\": {\"feature\": [3, 7], \"mean\": [0.853454821564161, 0.9565217391304348], \"precision\": [0.853454821564161, 0.9565217391304348], \"coverage\": [0.18043333333333333, 0.10723333333333333], \"examples\": [{\"covered_true\": [[54, 4, 4, 2, 2, 0, 4, 1, 0, 0, 40, 9], [41, 4, 4, 2, 2, 5, 4, 0, 0, 0, 20, 9], [46, 1, 0, 2, 1, 4, 4, 0, 0, 0, 40, 9], [33, 7, 1, 2, 5, 1, 4, 1, 0, 0, 20, 9], [40, 2, 5, 2, 5, 1, 4, 0, 0, 0, 40, 9], [23, 2, 4, 2, 4, 3, 4, 1, 0, 0, 40, 9], [50, 4, 4, 2, 8, 4, 4, 1, 0, 0, 38, 9], [39, 2, 0, 2, 2, 1, 4, 1, 0, 0, 48, 9], [27, 4, 5, 2, 8, 1, 4, 1, 0, 0, 37, 9], [17, 4, 3, 2, 7, 4, 4, 1, 0, 0, 20, 9]], \"covered_false\": [[53, 1, 1, 2, 8, 0, 4, 1, 0, 0, 48, 9], [57, 4, 1, 2, 5, 0, 4, 1, 7298, 0, 40, 9], [50, 6, 6, 2, 8, 0, 4, 1, 99999, 0, 50, 9], [54, 6, 1, 2, 8, 0, 4, 1, 0, 0, 40, 9], [34, 4, 1, 2, 5, 0, 4, 1, 7688, 0, 50, 9], [41, 4, 5, 2, 8, 0, 4, 1, 0, 0, 45, 9], [52, 2, 5, 2, 8, 0, 4, 1, 7298, 0, 60, 9], [31, 1, 1, 2, 8, 0, 4, 1, 0, 0, 40, 9], [43, 7, 5, 2, 8, 0, 4, 1, 0, 0, 40, 9], [55, 4, 6, 2, 8, 0, 4, 1, 0, 0, 60, 9]], \"uncovered_true\": [], \"uncovered_false\": []}, {\"covered_true\": [[26, 4, 4, 2, 2, 0, 4, 0, 0, 0, 60, 9], [43, 4, 1, 2, 4, 0, 4, 0, 0, 0, 24, 9], [36, 4, 4, 2, 8, 3, 4, 0, 1831, 0, 40, 9], [26, 5, 1, 2, 1, 1, 4, 0, 0, 0, 40, 9], [33, 4, 4, 2, 2, 0, 4, 0, 0, 0, 46, 9], [40, 4, 4, 2, 2, 3, 4, 0, 0, 0, 30, 9], [27, 4, 3, 2, 2, 3, 4, 0, 0, 0, 40, 0], [50, 4, 4, 2, 8, 4, 4, 0, 0, 0, 38, 9], [34, 4, 4, 2, 7, 1, 1, 0, 0, 0, 40, 6], [27, 4, 4, 2, 2, 0, 4, 0, 0, 0, 30, 9]], \"covered_false\": [[65, 4, 5, 2, 6, 0, 4, 0, 20051, 0, 40, 9], [43, 4, 0, 2, 8, 0, 4, 0, 15024, 0, 40, 9], [43, 4, 1, 2, 8, 0, 4, 0, 15024, 0, 50, 9], [41, 4, 1, 2, 4, 0, 4, 0, 15024, 0, 60, 9], [38, 4, 1, 2, 6, 0, 4, 0, 7298, 0, 40, 9], [38, 7, 4, 2, 4, 4, 0, 0, 0, 0, 40, 9], [37, 6, 1, 2, 5, 0, 4, 0, 0, 0, 40, 9], [36, 6, 5, 2, 6, 1, 4, 0, 10520, 0, 45, 9], [46, 4, 1, 2, 5, 0, 4, 0, 7688, 0, 45, 9], [41, 4, 5, 2, 8, 1, 4, 0, 27828, 0, 50, 9]], \"uncovered_true\": [], \"uncovered_false\": []}], \"all_precision\": 0, \"num_preds\": 1000000, \"success\": true, \"names\": [\"Marital Status = Separated\", \"Sex = Female\"], \"prediction\": [0], \"instance\": [[52, 4, 0, 2, 8, 4, 2, 0, 0, 0, 60, 9]], \"instances\": [[52, 4, 0, 2, 8, 4, 2, 0, 0, 0, 60, 9]]}}}'"
      ]
     },
     "execution_count": 8,
     "metadata": {},
     "output_type": "execute_result"
    }
   ],
   "source": [
    "p.remote(payload=X_test[0:1])"
   ]
  },
  {
   "cell_type": "code",
   "execution_count": null,
   "metadata": {},
   "outputs": [],
   "source": [
    "p.undeploy()"
   ]
  },
  {
   "cell_type": "code",
   "execution_count": null,
   "metadata": {},
   "outputs": [],
   "source": [
    "X_test[0:1].shape"
   ]
  },
  {
   "cell_type": "code",
   "execution_count": null,
   "metadata": {},
   "outputs": [],
   "source": [
    "p.request({\"inputs\":[{\"name\":\"payload\",\"datatype\":\"INT64\",\"data\":[52,  4,  0,  2,  8,  4,  2,  0,  0,  0, 60,  9],\"shape\":[1,12]}]})"
   ]
  },
  {
   "cell_type": "code",
   "execution_count": null,
   "metadata": {},
   "outputs": [],
   "source": []
  }
 ],
 "metadata": {
  "kernelspec": {
   "display_name": "Python 3",
   "language": "python",
   "name": "python3"
  },
  "language_info": {
   "codemirror_mode": {
    "name": "ipython",
    "version": 3
   },
   "file_extension": ".py",
   "mimetype": "text/x-python",
   "name": "python",
   "nbconvert_exporter": "python",
   "pygments_lexer": "ipython3",
   "version": "3.7.9"
  }
 },
 "nbformat": 4,
 "nbformat_minor": 4
}
